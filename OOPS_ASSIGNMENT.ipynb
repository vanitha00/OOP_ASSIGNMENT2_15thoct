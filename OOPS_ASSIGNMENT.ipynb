{
 "cells": [
  {
   "cell_type": "markdown",
   "metadata": {},
   "source": [
    "1. What is a constructor in Python? Explain its purpose and usage.\n",
    "2. Differentiate between a parameterless constructor and a parameterized constructor in Python.\n",
    "3. How do you define a constructor in a Python class? Provide an example.\n",
    "4. Explain the `__init__` method in Python and its role in constructors.\n",
    "5. In a class named `Person`, create a constructor that initializes the `name` and `age` attributes. Provide an\n",
    "example of creating an object of this class.\n",
    "6. How can you call a constructor explicitly in Python? Give an example.\n",
    "7. What is the significance of the `self` parameter in Python constructors? Explain with an example.\n",
    "8. Discuss the concept of default constructors in Python. When are they used?\n",
    "9. Create a Python class called `Rectangle` with a constructor that initializes the `width` and `height`\n",
    "attributes. Provide a method to calculate the area of the rectangle.\n",
    "10. How can you have multiple constructors in a Python class? Explain with an example."
   ]
  },
  {
   "cell_type": "code",
   "execution_count": null,
   "metadata": {},
   "outputs": [],
   "source": [
    "#What is a constructor in Python? Explain its purpose and usage"
   ]
  },
  {
   "cell_type": "markdown",
   "metadata": {},
   "source": [
    "In Python, a constructor is a special method that is automatically called when an object of a class is created. \n",
    "The constructor is used to initialize the attributes (variables) of the object.\n",
    "In Python, the constructor method is named `__init__`. It is the most commonly used constructor, \n",
    "but there are other special methods that can be used for different purposes.\n"
   ]
  },
  {
   "cell_type": "code",
   "execution_count": 12,
   "metadata": {},
   "outputs": [],
   "source": [
    "#2)Differentiate between a parameterless constructor and a parameterized constructor in Python"
   ]
  },
  {
   "cell_type": "markdown",
   "metadata": {},
   "source": [
    "In Python, constructors are special methods used to initialize objects of a class. There are two main types of constructors: parameterless constructors (also known as default constructors) and parameterized constructors.\n",
    "Parameterless Constructor (Default Constructor):\n",
    "A parameterless constructor is a special method in a class that does not take any parameters. It is defined without any parameters and is typically used to set default values or perform basic initialization when an object of the class is created. In Python, the default constructor is automatically provided by the language if you don't define one explicitly. It's called __init__."
   ]
  },
  {
   "cell_type": "code",
   "execution_count": 6,
   "metadata": {},
   "outputs": [
    {
     "name": "stdout",
     "output_type": "stream",
     "text": [
      "10\n"
     ]
    }
   ],
   "source": [
    "class MyClass:\n",
    "    def __init__(self):\n",
    "        self.value =10# Initialize an instance variable\n",
    "    def display(self):\n",
    "        print(self.value)\n",
    "# Creating an object of MyClass\n",
    "obj = MyClass()\n",
    "obj.display()\n",
    "#_init__ method does not take any parameters, and it sets the value instance variable to 10\n",
    "#when an object of MyClass is created."
   ]
  },
  {
   "cell_type": "markdown",
   "metadata": {},
   "source": [
    "Parameterized Constructor:\n",
    "A parameterized constructor, on the other hand, is a method in a class that takes one or more parameters. These parameters are used to initialize the object's attributes with values provided during object creation. Parameterized constructors allow you to pass specific values to customize the object's initial state.\n"
   ]
  },
  {
   "cell_type": "code",
   "execution_count": 10,
   "metadata": {},
   "outputs": [
    {
     "name": "stdout",
     "output_type": "stream",
     "text": [
      "42\n"
     ]
    }
   ],
   "source": [
    "class MyClass:\n",
    "    def __init__(self, initial_value):\n",
    "        self.value = initial_value  # Initialize with the provided value\n",
    "    def display(self):\n",
    "        print(self.value)\n",
    "# Creating an object of MyClass with a parameterized constructor\n",
    "obj = MyClass(42)\n",
    "obj.display()"
   ]
  },
  {
   "cell_type": "markdown",
   "metadata": {},
   "source": [
    "'''In this example, the __init__ method takes one parameter, initial_value, and sets the value instance variable \n",
    "to the value provided when creating an object. This allows you to customize the object's initial state based on \n",
    "the argument you pass.\n",
    "\n",
    "In summary, the key difference between a parameterless constructor and a parameterized constructor in Python is the\n",
    "presence of parameters. Parameterless constructors don't take any parameters and are typically used for basic\n",
    "initialization, while parameterized constructors take one or more parameters to customize the object's \n",
    "initial state.\n",
    " '''"
   ]
  },
  {
   "cell_type": "code",
   "execution_count": null,
   "metadata": {},
   "outputs": [],
   "source": [
    "#3)How do you define a constructor in a Python class? Provide an example.\n",
    "#In Python, a constructor is a special method used to initialize the attributes or properties of an object\n",
    "#when an instance of a class is created. The constructor method is called __init__. \n",
    "#You can define a constructor in a Python class by including the __init__ method within the class definition."
   ]
  },
  {
   "cell_type": "code",
   "execution_count": 11,
   "metadata": {},
   "outputs": [
    {
     "name": "stdout",
     "output_type": "stream",
     "text": [
      "kotla vanitha\n",
      "19\n",
      "My name is kotla vanitha, and I am 19 years old.\n"
     ]
    }
   ],
   "source": [
    "class Person:\n",
    "    # Constructor\n",
    "    def __init__(self, name, age):\n",
    "        self.name = name\n",
    "        self.age = age\n",
    "\n",
    "    def introduce(self):\n",
    "        print(f\"My name is {self.name}, and I am {self.age} years old.\")\n",
    "\n",
    "# Creating an object of the Person class\n",
    "person1 = Person(\"kotla vanitha\",19)\n",
    "\n",
    "# Accessing object attributes\n",
    "print(person1.name)  # Output:kotla vanitha\n",
    "print(person1.age)   # Output:19\n",
    "\n",
    "# Calling a method on the object\n",
    "person1.introduce()  "
   ]
  },
  {
   "cell_type": "markdown",
   "metadata": {},
   "source": [
    "#4))Explain the __init__ method in Python and its role in constructors.\n",
    "In Python, the __init__ method is a special method, also known as a constructor, that is used to initialize the attributes or properties of an object when an instance of a class is created. It is one of the fundamental methods in object-oriented programming and plays a crucial role in defining the initial state of an object. The name __init__ is a double underscore method (a dunder method) and is reserved for this purpose.\n",
    "\n",
    "The __init__ method is automatically called when you create an instance of a class using the class's constructor (i.e., when you use the class name followed by parentheses with any necessary arguments). It allows you to set up the initial values for the object's attributes, ensuring that the object starts with the desired state.\n"
   ]
  },
  {
   "cell_type": "markdown",
   "metadata": {},
   "source": [
    "#5)In a class named Person, create a constructor that initializes the name and age attributes. Provide an example of creating an object of this class."
   ]
  },
  {
   "cell_type": "code",
   "execution_count": 13,
   "metadata": {},
   "outputs": [
    {
     "name": "stdout",
     "output_type": "stream",
     "text": [
      "kotla vanitha\n",
      "19\n",
      "My name is kotla vanitha, and I am 19 years old.\n"
     ]
    }
   ],
   "source": [
    "class Person:\n",
    "    # Constructor\n",
    "    def __init__(self, name, age):\n",
    "        self.name = name\n",
    "        self.age = age\n",
    "\n",
    "    def introduce(self):\n",
    "        print(f\"My name is {self.name}, and I am {self.age} years old.\")\n",
    "\n",
    "# Creating an object of the Person class\n",
    "person1 = Person(\"kotla vanitha\",19)\n",
    "\n",
    "# Accessing object attributes\n",
    "print(person1.name)  # Output:kotla vanitha\n",
    "print(person1.age)   # Output:19\n",
    "\n",
    "# Calling a method on the object\n",
    "person1.introduce()"
   ]
  },
  {
   "cell_type": "markdown",
   "metadata": {},
   "source": [
    "#6)How can you call a constructor explicitly in Python? Give an example.\n",
    "\n",
    "In Python, constructors (typically the __init__ method) are automatically called when you create an instance of a class. You don't typically need to call them explicitly. However, in some cases, you may want to call the constructor explicitly, especially when working with inheritance or custom initialization logic. To do this, you can use the super() function to call the constructor of a parent class.\n",
    "\n"
   ]
  },
  {
   "cell_type": "code",
   "execution_count": 14,
   "metadata": {},
   "outputs": [
    {
     "name": "stdout",
     "output_type": "stream",
     "text": [
      "Name: vanitha\n",
      "Age: 19\n"
     ]
    }
   ],
   "source": [
    "class Parent:\n",
    "    def __init__(self, name):\n",
    "        self.name = name\n",
    "\n",
    "class Child(Parent):\n",
    "    def __init__(self, name, age):\n",
    "        super().__init__(name)\n",
    "        self.age = age\n",
    "\n",
    "# Creating an object of the Child class\n",
    "child1 = Child(\"vanitha\",19)\n",
    "\n",
    "print(\"Name:\", child1.name)\n",
    "print(\"Age:\", child1.age)\n"
   ]
  },
  {
   "cell_type": "markdown",
   "metadata": {},
   "source": [
    "#7)What is the significance of the self parameter in Python constructors? Explain with an example.\n",
    "\n",
    "\n",
    "In Python constructors, including the __init__ method, the self parameter is a reference to the instance of the class being created. It plays a significant role in object-oriented programming because it allows you to access and manipulate the attributes and methods of the object within the class's methods, including the constructor.\n",
    "Provides a reference to the current instance: It allows you to distinguish between attributes of the current instance and global variables or parameters with the same names.\n",
    "Allows you to create and access instance attributes: You can use self to create and initialize instance-specific attributes within the constructor, ensuring that each instance can have its own unique set of data.\n",
    "Enables method calls on the current instance: You can use self to call other methods within the class, making it possible to perform operations on the instance's data."
   ]
  },
  {
   "cell_type": "code",
   "execution_count": 16,
   "metadata": {},
   "outputs": [
    {
     "name": "stdout",
     "output_type": "stream",
     "text": [
      "My name is vanitha and I am 19 years old.\n",
      "My name is vandana and I am 23 years old.\n"
     ]
    }
   ],
   "source": [
    "class Person:\n",
    "    def __init__(self, name, age):\n",
    "        # Initialize instance-specific attributes\n",
    "        self.name = name\n",
    "        self.age = age\n",
    "\n",
    "    def introduce(self):\n",
    "        # Access instance attributes and methods using self\n",
    "        print(f\"My name is {self.name} and I am {self.age} years old.\")\n",
    "\n",
    "# Creating two objects of the Person class\n",
    "person1 = Person(\"vanitha\",19)\n",
    "person2 = Person(\"vandana\",23)\n",
    "\n",
    "# Accessing and using instance attributes and methods\n",
    "person1.introduce()\n",
    "person2.introduce()"
   ]
  },
  {
   "cell_type": "markdown",
   "metadata": {},
   "source": [
    " #8)Discuss the concept of default constructors in Python. When are they used?\n",
    "   In Python, default constructors, sometimes referred to as parameterless constructors or implicit constructors, are constructors that are automatically provided by the Python interpreter when you define a class and do not explicitly specify a constructor (i.e., __init__ method). These default constructors have no parameters and serve as a basic initialization method for objects of the class.\n",
    "\n",
    "Here's how default constructors work and when they are used:\n",
    "\n",
    "Automatic Creation: If you do not define a constructor (i.e., __init__ method) in your class, Python will automatically create a default constructor for you. This default constructor does not take any parameters but initializes the object.\n",
    "\n",
    "Basic Initialization: The default constructor typically initializes the object by setting it to a default or empty state. For example, it might initialize instance attributes to None, zero, or empty data structures, depending on the class's definition.\n",
    "\n",
    "Common Use Cases:\n",
    "\n",
    "Default Values: Default constructors are often used when you don't need to customize the object's initial state and want to use default values for attributes.\n",
    "Inheritance: In cases where a subclass doesn't define its own constructor, it inherits the default constructor from its parent class."
   ]
  },
  {
   "cell_type": "code",
   "execution_count": 18,
   "metadata": {},
   "outputs": [
    {
     "name": "stdout",
     "output_type": "stream",
     "text": [
      "Hello, I'm a Student!\n"
     ]
    }
   ],
   "source": [
    "class Person:\n",
    "    # Default constructor created by Python\n",
    "    # No parameters specified\n",
    "    def say_hello(self):\n",
    "        print(\"Hello, I'm a Student!\")\n",
    "\n",
    "# Creating an object of the Person class\n",
    "person = Person()\n",
    "\n",
    "# Calling a method on the object\n",
    "person.say_hello()\n"
   ]
  },
  {
   "cell_type": "markdown",
   "metadata": {},
   "source": [
    "9. Create a Python class called `Rectangle` with a constructor that initializes the `width` and `height`\n",
    "attributes. Provide a method to calculate the area of the rectangle."
   ]
  },
  {
   "cell_type": "code",
   "execution_count": 19,
   "metadata": {},
   "outputs": [
    {
     "name": "stdout",
     "output_type": "stream",
     "text": [
      "The area of the rectangle is: 24\n"
     ]
    }
   ],
   "source": [
    "class Rectangle:\n",
    "    def __init__(self, width, height):\n",
    "        self.width = width\n",
    "        self.height = height\n",
    "\n",
    "    def calculate_area(self):\n",
    "        return self.width * self.height\n",
    "\n",
    "# Create an instance of the Rectangle class\n",
    "rectangle1 = Rectangle(4, 6)\n",
    "\n",
    "# Calculate and print the area of the rectangle\n",
    "area = rectangle1.calculate_area()\n",
    "print(\"The area of the rectangle is:\", area)\n"
   ]
  },
  {
   "cell_type": "markdown",
   "metadata": {},
   "source": [
    "#10. How can you have multiple constructors in a Python class? Explain with an example.\n",
    "In Python, you can simulate having multiple constructors in a class by using default argument values and method overloading. Essentially, you create a single constructor (__init__ method) that takes default values for some or all of its parameters. Then, you can create instances with different sets of arguments, and the constructor will behave differently based on the provided arguments."
   ]
  },
  {
   "cell_type": "code",
   "execution_count": null,
   "metadata": {},
   "outputs": [],
   "source": [
    "class Rectangle:\n",
    "    def __init__(self, width=1, height=1):\n",
    "        self.width = width\n",
    "        self.height = height\n",
    "    def set_dimensions(self, width, height):\n",
    "        self.width = width\n",
    "        self.height = height\n",
    "    def calculate_area(self):\n",
    "        return self.width * self.height\n",
    "# Create instances of the Rectangle class with different constructors\n",
    "rectangle1 = Rectangle()  # Default constructor with width=1 and height=1\n",
    "rectangle2 = Rectangle(4)  # Custom width, default height=1\n",
    "rectangle3 = Rectangle(5, 7)  # Custom width and height\n",
    "\n",
    "# Calculate and print the areas of the rectangles\n",
    "area1 = rectangle1.calculate_area()\n",
    "area2 = rectangle2.calculate_area()\n",
    "area3 = rectangle3.calculate_area()\n",
    "\n",
    "print(\"Area of rectangle 1:\", area1)\n",
    "print(\"Area of rectangle 2:\", area2)\n",
    "print(\"Area of rectangle 3:\", area3)\n"
   ]
  },
  {
   "cell_type": "markdown",
   "metadata": {},
   "source": [
    "11. What is method overloading, and how is it related to constructors in Python?\n",
    "12. Explain the use of the `super()` function in Python constructors. Provide an example.\n",
    "13. Create a class called `Book` with a constructor that initializes the `title`, `author`, and `published_year`\n",
    "attributes. Provide a method to display book details.\n",
    "14. Discuss the differences between constructors and regular methods in Python classes.\n",
    "15. Explain the role of the `self` parameter in instance variable initialization within a constructor.\n",
    "16. How do you prevent a class from having multiple instances by using constructors in Python? Provide an\n",
    "example.\n",
    "17. Create a Python class called `Student` with a constructor that takes a list of subjects as a parameter and\n",
    "initializes the `subjects` attribute.\n",
    "18. What is the purpose of the `__del__` method in Python classes, and how does it relate to constructors?\n",
    "19. Explain the use of constructor chaining in Python. Provide a practical example.\n",
    "20. Create a Python class called `Car` with a default constructor that initializes the `make` and `model`\n",
    "attributes. Provide a method to display car information."
   ]
  },
  {
   "cell_type": "markdown",
   "metadata": {},
   "source": [
    "11.ans)In Python, when you define multiple methods with the same name in a class, the last-defined method with that name will override any previously defined methods. This means that you cannot have multiple methods with the same name in Python unless they have different parameters. If you attempt to define methods with the same name and the same number of parameters, the latest definition will replace the previous ones, effectively overloading the method name.\n",
    "This is where the concept of method overloading in Python is related to constructors. When it comes to constructors (e.g., the __init__ method), you can't define multiple constructors with different parameter sets in the same class in Python. If you define more than one constructor, only the last one defined will be used. As a result, you can't create multiple constructors "
   ]
  },
  {
   "cell_type": "markdown",
   "metadata": {},
   "source": [
    "12.ans)\n",
    "In Python, the super() function is used in constructors to call the constructor of a parent class. This is particularly useful when you're working with inheritance and want to invoke the constructor of the parent class while adding or customizing initialization logic in the child class. It allows you to ensure that the parent class's initialization is performed, and then you can extend or override it as needed.\n",
    "syntax:super().__init__(arguments)"
   ]
  },
  {
   "cell_type": "code",
   "execution_count": 8,
   "metadata": {},
   "outputs": [
    {
     "name": "stdout",
     "output_type": "stream",
     "text": [
      "Name: virat\n",
      "Age: 5\n",
      "Name: kohli\n",
      "Age: 8\n"
     ]
    }
   ],
   "source": [
    "#example for super() fuction in python\n",
    "class Parent:\n",
    "    def __init__(self, name):\n",
    "        self.name = name\n",
    "class Child(Parent):\n",
    "    def __init__(self, name, age):\n",
    "        super().__init__(name)  # Call the constructor of the parent class\n",
    "        self.age = age\n",
    "# Creating an object of the Child class\n",
    "child1 = Child(\"virat\", 5)\n",
    "child2=Child('kohli',8)\n",
    "# Accessing attributes from both parent and child classes\n",
    "print(\"Name:\", child1.name)\n",
    "print(\"Age:\", child1.age)\n",
    "print(\"Name:\", child2.name)\n",
    "print(\"Age:\", child2.age)"
   ]
  },
  {
   "cell_type": "code",
   "execution_count": 1,
   "metadata": {},
   "outputs": [
    {
     "name": "stdout",
     "output_type": "stream",
     "text": [
      "title: You Can Win \n",
      "author: Shiv Khera \n",
      "published_year: 1900\n"
     ]
    }
   ],
   "source": [
    "#13.\n",
    "class BOOK:   #classname book\n",
    "    def __init__(self,title,author,published_year):   #constructor\n",
    "        self.title=title     #assigning all values\n",
    "        self.author=author\n",
    "        self.published_year=published_year\n",
    "    def display(self):\n",
    "        print(\"title:\",self.title,\n",
    "             \"\\nauthor:\",self.author,\"\\npublished_year:\",self.published_year)  #displaying all values\n",
    "book1=BOOK('You Can Win','Shiv Khera',1900)  #object creation\n",
    "book1.display()    #function calling  "
   ]
  },
  {
   "cell_type": "markdown",
   "metadata": {},
   "source": [
    "#14.Discuss the differences between constructors and regular methods in Python classes.\n",
    "\n",
    "Constructors and regular methods in Python classes serve different purposes and have distinct characteristics. Here are the key differences between constructors and regular methods:\n",
    "1)Initialization Purpose:\n",
    "\n",
    "Constructors: Constructors, specifically the __init__ method, are used for initializing the attributes or properties of an object when an instance of a class is created. They set up the initial state of the object.\n",
    "Regular Methods: Regular methods are used for performing actions, computations, or operations on the object's attributes. They are not primarily focused on object initialization.\n",
    "2)Name and Signature:\n",
    "\n",
    "Constructors: Constructors have a fixed name, __init__, and always take self as their first parameter to reference the instance.\n",
    "Regular Methods: Regular methods have user-defined names, and their parameter lists can vary based on the specific functionality they provide.\n",
    "3)Invocation:\n",
    "\n",
    "Constructors: Constructors are automatically invoked when an object of the class is created. You don't need to call them explicitly.\n",
    "Regular Methods: Regular methods must be called explicitly on an object to perform their actions.\n",
    "4)Return Values:\n",
    "\n",
    "Constructors: Constructors do not return a value explicitly. They focus on initializing the object's attributes and preparing the object for use.\n",
    "Regular Methods: Regular methods may or may not return a value, depending on their specific functionality.\n",
    "5)Multiple Definitions:\n",
    "\n",
    "Constructors: A class can have only one constructor, which is the __init__ method. If multiple constructors are defined, the last one defined will override the previous ones.\n",
    "Regular Methods: A class can have multiple regular methods with different names and parameter lists, allowing you to define various behaviors for the class."
   ]
  },
  {
   "cell_type": "markdown",
   "metadata": {},
   "source": [
    "15)--->The self parameter in a Python constructor (typically the __init__ method) plays a fundamental role in instance variable initialization. It is a reference to the instance of the class being created, allowing you to work with the object's attributes and methods.\n",
    "1)Reference to the Instance: self is used to reference the current instance of the class, which is being created. It allows you to distinguish between the attributes and methods of the current instance and any global variables or parameters with the same names.\n",
    "\n",
    "2)Accessing and Initializing Attributes: Inside the constructor, self is used to access and initialize the instance-specific attributes of the object. For example, when you define instance variables within the constructor, you use self to set their values based on the arguments provided during object creation.\n",
    "\n",
    "3)Customizing Initialization: You can use self to customize the object's initial state by setting attributes to specific values based on the constructor's parameters. This allows you to provide different values for each instance, making them unique.\n",
    "*The self parameter is a crucial concept in object-oriented programming and allows you to work with multiple instances of a class, each with its own unique data.\n"
   ]
  },
  {
   "cell_type": "code",
   "execution_count": 18,
   "metadata": {},
   "outputs": [
    {
     "name": "stdout",
     "output_type": "stream",
     "text": [
      "Value from singleton1: 2\n",
      "Value from singleton2: 2\n"
     ]
    }
   ],
   "source": [
    "#16)\n",
    "class Singleton:\n",
    "    _instance =None# Class variable to store the single instance\n",
    "\n",
    "    def __new__(cls):\n",
    "        # Check if an instance already exists; if not, create one\n",
    "        if cls._instance is None:\n",
    "            cls._instance = super(Singleton, cls).__new__(cls)\n",
    "            cls._instance.value = 0\n",
    "        return cls._instance\n",
    "\n",
    "    def increment_value(self):\n",
    "        self.value += 1\n",
    "\n",
    "# Create instances of the Singleton class\n",
    "singleton1 = Singleton()\n",
    "singleton2 = Singleton()\n",
    "# Modify the instance's attributes\n",
    "singleton1.increment_value()\n",
    "singleton2.increment_value()\n",
    "# Print the values from both instances\n",
    "print(\"Value from singleton1:\", singleton1.value)\n",
    "print(\"Value from singleton2:\", singleton2.value)"
   ]
  },
  {
   "cell_type": "code",
   "execution_count": 19,
   "metadata": {},
   "outputs": [
    {
     "name": "stdout",
     "output_type": "stream",
     "text": [
      "Subjects for student 1: ['Math', 'Science', 'History', 'English']\n"
     ]
    }
   ],
   "source": [
    "#17)\n",
    "class Student:\n",
    "    def __init__(self, subjects):\n",
    "        self.subjects = subjects\n",
    "# Create an instance of the Student class with a list of subjects\n",
    "student1 = Student([\"Math\", \"Science\", \"History\", \"English\"])\n",
    "\n",
    "# Access and print the list of subjects for the student\n",
    "print(\"Subjects for student 1:\", student1.subjects)\n"
   ]
  },
  {
   "cell_type": "markdown",
   "metadata": {},
   "source": [
    "#!8)\n",
    "In Python, the __del__ method is a special method that is used to define the behavior of an object when it is about to be destroyed or deallocated. This method is also known as the destructor. It is called automatically by the Python interpreter just before the object is garbage collected, i.e., when there are no more references to the object. The __del__ method can be used to perform cleanup tasks, release resources, or log information about the destruction of an object.\n",
    "Constructors (__init__): Constructors are used to initialize the attributes and properties of an object when it is created. They prepare the object for use by setting its initial state. Constructors are called when you create an instance of a class.\n",
    "\n",
    "Destructors (__del__): Destructors are used to define what should happen when an object is no longer in use, just before it is garbage collected. They are not typically used for initialization but rather for cleanup, resource release, or logging. Destructors are called automatically when there are no more references to the object."
   ]
  },
  {
   "cell_type": "code",
   "execution_count": 24,
   "metadata": {},
   "outputs": [
    {
     "name": "stdout",
     "output_type": "stream",
     "text": [
      "Object1 is being destroyed.\n",
      "Object2 is being destroyed.\n"
     ]
    }
   ],
   "source": [
    "#example\n",
    "class MyClass:\n",
    "    def __init__(self, name):\n",
    "        self.name = name\n",
    "    def __del__(self):\n",
    "        print(f\"{self.name} is being destroyed.\")\n",
    "# Create two objects of the MyClass class\n",
    "obj1 = MyClass(\"Object1\")\n",
    "obj2 = MyClass(\"Object2\")\n",
    "# Delete references to obj1 and obj2\n",
    "del obj1\n",
    "del obj2\n",
    "# The __del__ method is called automatically when objects are garbage collected"
   ]
  },
  {
   "cell_type": "markdown",
   "metadata": {},
   "source": [
    "#19)Explain the use of constructor chaining in Python. Provide a practical example.\n",
    "Constructor chaining, also known as constructor delegation or constructor calling, is a concept in object-oriented programming that involves calling one constructor from another constructor within the same class or between parent and child classes. This allows you to reuse initialization code and maintain a clear hierarchy of constructors while avoiding code duplication.\n",
    "\n",
    "In Python, constructor chaining is typically achieved by using the super() function to call the constructor of the parent class"
   ]
  },
  {
   "cell_type": "code",
   "execution_count": 25,
   "metadata": {},
   "outputs": [
    {
     "name": "stdout",
     "output_type": "stream",
     "text": [
      "Make: Toyota, Model: Camry, Color: Blue\n"
     ]
    }
   ],
   "source": [
    "class Vehicle:\n",
    "    def __init__(self, make, model):\n",
    "        self.make = make\n",
    "        self.model = model\n",
    "class Car(Vehicle):\n",
    "    def __init__(self, make, model, color):\n",
    "        # Call the constructor of the parent class (Vehicle)\n",
    "        super().__init__(make, model)\n",
    "        self.color = color\n",
    "    def display_info(self):\n",
    "        print(f\"Make: {self.make}, Model: {self.model}, Color: {self.color}\")\n",
    "# Create an instance of the Car class\n",
    "my_car = Car(\"Toyota\", \"Camry\", \"Blue\")\n",
    "# Call a method to display car information\n",
    "my_car.display_info()"
   ]
  },
  {
   "cell_type": "code",
   "execution_count": 27,
   "metadata": {},
   "outputs": [
    {
     "name": "stdout",
     "output_type": "stream",
     "text": [
      "Make: Toyoto, Model: Camry\n"
     ]
    }
   ],
   "source": [
    "#20)\n",
    "class Car:\n",
    "    def __init__(self, make, model):\n",
    "        self.make = make\n",
    "        self.model = model\n",
    "    def display_info(self):\n",
    "        print(f\"Make: {self.make}, Model: {self.model}\")\n",
    "# Create an instance of the Car class with the default constructor\n",
    "my_car = Car('Toyoto','Camry')\n",
    "# Call the method to display car information\n",
    "my_car.display_info()\n"
   ]
  },
  {
   "cell_type": "markdown",
   "metadata": {},
   "source": [
    "# Inheritance"
   ]
  },
  {
   "cell_type": "markdown",
   "metadata": {},
   "source": [
    "#What is inheritance in Python? Explain its significance in object-oriented programming.\n",
    "\n",
    "Inheritance is a fundamental concept in object-oriented programming (OOP) that allows a class (called the subclass or derived class) to inherit properties and behaviors from another class (called the superclass or base class). This means that the subclass can reuse and extend the attributes and methods of the superclass\n",
    "In object-oriented programming (OOP), inheritance is a key concept that contributes to the principles of encapsulation, abstraction, and polymorphism\n",
    "Code Reusability:\n",
    "\n",
    "Inheritance enables the reuse of code from existing classes. A subclass can inherit attributes and behaviors (methods) from a superclass, reducing the need to rewrite or duplicate code.\n",
    "Hierarchy and Organization:\n",
    "\n",
    "Inheritance allows the creation of a hierarchy of classes. This reflects real-world relationships and helps organize classes in a structured and intuitive manner. For example, a \"Vehicle\" superclass can have subclasses like \"Car\" and \"Motorcycle.\"\n",
    "Abstraction and Generalization:\n",
    "\n",
    "Inheritance allows the creation of abstract classes and interfaces. Abstract classes can have abstract methods, defining a common interface for all subclasses. This abstraction promotes a high level of generalization, allowing for commonalities to be captured in a base class.\n",
    "Polymorphism:\n",
    "\n",
    "Inheritance supports polymorphism, which allows objects of different classes to be treated as objects of a common base class. This enhances flexibility and extensibility, as code can work with objects at a higher level of abstraction without knowing their specific types.\n",
    "Method Overriding:\n",
    "\n",
    "Subclasses can provide their own implementation for methods inherited from the superclass. This process is known as method overriding. It allows a subclass to tailor the behavior of inherited methods to suit its specific requirements.\n",
    "Flexibility and Extensibility:\n",
    "\n",
    "Inheritance promotes flexibility by allowing the modification and extension of existing classes without altering their original code. New functionality can be added in subclasses, enabling the system to evolve and adapt to changing requirements.\n",
    "Reduced Redundancy:\n",
    "\n",
    "By inheriting from a common superclass, subclasses can avoid duplicating code. This reduces redundancy in the codebase and simplifies maintenance, as changes made to the superclass automatically affect all subclasses."
   ]
  },
  {
   "cell_type": "markdown",
   "metadata": {},
   "source": [
    "#2.\n",
    "Single Inheritance:\n",
    "in single inheritance we can access properties from only it's base class.one parent class from \n",
    "Multiple Inheritance:\n",
    "Multiple inheritance occurs when a class inherits from more than one base class. This allows a class to combine features from multiple sources."
   ]
  },
  {
   "cell_type": "code",
   "execution_count": 3,
   "metadata": {},
   "outputs": [
    {
     "name": "stdout",
     "output_type": "stream",
     "text": [
      "Animals speaks\n",
      "Dog barks\n"
     ]
    }
   ],
   "source": [
    "#example for single inheritance\n",
    "class Animal:\n",
    "    def speak(self):\n",
    "        print(\"Animals speaks\")\n",
    "\n",
    "class Dog(Animal):\n",
    "    def bark(self):\n",
    "        print(\"Dog barks\")\n",
    "\n",
    "# Creating an instance of Dog\n",
    "my_dog = Dog()\n",
    "\n",
    "# Using methods from the base class (Animal)\n",
    "my_dog.speak()  # Output: Animal speaks\n",
    "\n",
    "# Using methods from the derived class (Dog)\n",
    "my_dog.bark()   # Output: Dog barks"
   ]
  },
  {
   "cell_type": "code",
   "execution_count": 4,
   "metadata": {},
   "outputs": [
    {
     "name": "stdout",
     "output_type": "stream",
     "text": [
      "Can fly\n",
      "Can swim\n"
     ]
    }
   ],
   "source": [
    "#multipleinheritance\n",
    "class Flyable:\n",
    "    def fly(self):\n",
    "        print(\"Can fly\")\n",
    "\n",
    "class Swimmable:\n",
    "    def swim(self):\n",
    "        print(\"Can swim\")\n",
    "\n",
    "class Amphibian(Flyable, Swimmable):\n",
    "    pass\n",
    "\n",
    "# Creating an instance of Amphibian\n",
    "frog = Amphibian()\n",
    "\n",
    "# Using methods from the base classes (Flyable and Swimmable)\n",
    "frog.fly()  # Output: Can fly\n",
    "frog.swim() # Output: Can swim\n"
   ]
  },
  {
   "cell_type": "code",
   "execution_count": 5,
   "metadata": {},
   "outputs": [
    {
     "name": "stdout",
     "output_type": "stream",
     "text": [
      "Color: Blue\n",
      "Speed: 60\n",
      "Brand: Toyota\n"
     ]
    }
   ],
   "source": [
    "#3.inheritance\n",
    "class Vehicle:\n",
    "    def __init__(self, color, speed):\n",
    "        self.color = color\n",
    "        self.speed = speed\n",
    "\n",
    "class Car(Vehicle):\n",
    "    def __init__(self, color, speed, brand):\n",
    "        # Call the constructor of the base class (Vehicle)\n",
    "        super().__init__(color, speed)\n",
    "        self.brand = brand\n",
    "# Example of creating a Car object\n",
    "my_car = Car(color=\"Blue\", speed=60, brand=\"Toyota\")\n",
    "# Accessing attributes from the base class (Vehicle)\n",
    "print(f\"Color: {my_car.color}\")\n",
    "print(f\"Speed: {my_car.speed}\")\n",
    "# Accessing attribute from the derived class (Car)\n",
    "print(f\"Brand: {my_car.brand}\")"
   ]
  },
  {
   "cell_type": "markdown",
   "metadata": {},
   "source": [
    "\n",
    "Method overriding is a concept in object-oriented programming that occurs when a subclass provides a specific implementation for a method that is already defined in its superclass. The overridden method in the subclass has the same signature (name and parameters) as the method in the superclass."
   ]
  },
  {
   "cell_type": "code",
   "execution_count": 6,
   "metadata": {},
   "outputs": [
    {
     "name": "stdout",
     "output_type": "stream",
     "text": [
      "Dog barks\n",
      "Cat meows\n"
     ]
    }
   ],
   "source": [
    "#4.inheritance\n",
    "class Animal:\n",
    "    def speak(self):\n",
    "        print(\"Animal speaks\")\n",
    "\n",
    "class Dog(Animal):\n",
    "    # Overriding the speak method in the subclass (Dog)\n",
    "    def speak(self):\n",
    "        print(\"Dog barks\")\n",
    "\n",
    "class Cat(Animal):\n",
    "    # Overriding the speak method in the subclass (Cat)\n",
    "    def speak(self):\n",
    "        print(\"Cat meows\")\n",
    "\n",
    "# Creating instances of the subclasses\n",
    "my_dog = Dog()\n",
    "my_cat = Cat()\n",
    "\n",
    "# Calling the overridden speak method for each instance\n",
    "my_dog.speak()  # Output: Dog barks\n",
    "my_cat.speak()  # Output: Cat meows\n"
   ]
  },
  {
   "cell_type": "code",
   "execution_count": 3,
   "metadata": {},
   "outputs": [
    {
     "name": "stdout",
     "output_type": "stream",
     "text": [
      "i am employee\n",
      "vanitha 90000\n"
     ]
    }
   ],
   "source": [
    "#5.How can you access the methods and attributes of a parent class from a child class in Python? Give an example.\n",
    "class employee:\n",
    "    def func1(self,name,sal):\n",
    "        self.name=name\n",
    "        self.sal=sal\n",
    "class employee1(employee):\n",
    "    def func2(self):\n",
    "        print(\"i am employee\")\n",
    "        print(self.name,self.sal)\n",
    "emp=employee1()\n",
    "emp.func1('vanitha',90000)\n",
    "emp.func2()        "
   ]
  },
  {
   "cell_type": "code",
   "execution_count": 7,
   "metadata": {},
   "outputs": [
    {
     "name": "stdout",
     "output_type": "stream",
     "text": [
      "Color: Blue\n",
      "Speed: 60\n",
      "Brand: Toyota\n",
      "Vehicle is starting\n",
      "Toyota car is starting\n"
     ]
    }
   ],
   "source": [
    "#6.In Python, you can access the methods and attributes of a parent class from a child class using the super() function. \n",
    "class Vehicle:\n",
    "    def __init__(self, color, speed):\n",
    "        self.color = color\n",
    "        self.speed = speed\n",
    "\n",
    "    def start(self):\n",
    "        print(\"Vehicle is starting\")\n",
    "\n",
    "class Car(Vehicle):\n",
    "    def __init__(self, color, speed, brand):\n",
    "        # Call the constructor of the base class (Vehicle)\n",
    "        super().__init__(color, speed)\n",
    "        self.brand = brand\n",
    "\n",
    "    def start(self):\n",
    "        # Call the overridden start method in the base class (Vehicle)\n",
    "        super().start()\n",
    "        print(f\"{self.brand} car is starting\")\n",
    "\n",
    "# Create an instance of the child class (Car)\n",
    "my_car = Car(color=\"Blue\", speed=60, brand=\"Toyota\")\n",
    "\n",
    "# Accessing attributes from the base class (Vehicle)\n",
    "print(f\"Color: {my_car.color}\")\n",
    "print(f\"Speed: {my_car.speed}\")\n",
    "\n",
    "# Accessing attribute from the derived class (Car)\n",
    "print(f\"Brand: {my_car.brand}\")\n",
    "\n",
    "# Calling methods from the base class (Vehicle) and the derived class (Car)\n",
    "my_car.start()\n"
   ]
  },
  {
   "cell_type": "code",
   "execution_count": 4,
   "metadata": {},
   "outputs": [
    {
     "name": "stdout",
     "output_type": "stream",
     "text": [
      "Dog barks\n",
      "Cat meows\n"
     ]
    }
   ],
   "source": [
    "#7.inheritance\n",
    "class Animal:\n",
    "    def speak(self):\n",
    "        print(\"Animal speaks\")\n",
    "\n",
    "class Dog(Animal):\n",
    "    # Overriding the speak method in the subclass (Dog)\n",
    "    def speak(self):\n",
    "        print(\"Dog barks\")\n",
    "\n",
    "class Cat(Animal):\n",
    "    # Overriding the speak method in the subclass (Ca0t)\n",
    "    def speak(self):\n",
    "        print(\"Cat meows\"s)\n",
    "\n",
    "# Creating instances of the subclasses\n",
    "my_dog = Dog()\n",
    "my_cat = Cat()\n",
    "\n",
    "# Calling the overridden speak method for each instance\n",
    "my_dog.speak()  # Output: Dog barks\n",
    "my_cat.speak()  # Output: Cat meows\n"
   ]
  },
  {
   "cell_type": "markdown",
   "metadata": {},
   "source": [
    "8.#Explain the role of the isinstance() function in Python and how it relates to inheritance.\n",
    "The isinstance() function in Python is a built-in function used to check if an object belongs to a specified class or a tuple of classes. It helps determine the type of an object at runtime and is particularly useful in scenarios where you want to perform different actions based on the type of an object."
   ]
  },
  {
   "cell_type": "code",
   "execution_count": 1,
   "metadata": {},
   "outputs": [
    {
     "name": "stdout",
     "output_type": "stream",
     "text": [
      "x is an integer\n"
     ]
    }
   ],
   "source": [
    "#syn=isinstance(object, classinfo)\n",
    "x = 5\n",
    "if isinstance(x, int):\n",
    "    print(\"x is an integer\")"
   ]
  },
  {
   "cell_type": "markdown",
   "metadata": {},
   "source": [
    "Checking for Specific Classes:\n",
    "isinstance() can be used to check whether an object is an instance of a specific class in an inheritance hierarchy. If a class B inherits from class A, an instance of B will also be an instance of A. For example:"
   ]
  },
  {
   "cell_type": "code",
   "execution_count": 4,
   "metadata": {},
   "outputs": [
    {
     "name": "stdout",
     "output_type": "stream",
     "text": [
      "True\n",
      "True\n"
     ]
    }
   ],
   "source": [
    "class A:\n",
    "    def func1():\n",
    "        x=5\n",
    "\n",
    "class B(A):\n",
    "    pass\n",
    "\n",
    "obj = B()\n",
    "print(isinstance(obj, A)) # Output: True\n",
    "print(isinstance(x,int))"
   ]
  },
  {
   "cell_type": "markdown",
   "metadata": {},
   "source": [
    "9.#What is the purpose of the issubclass() function in Python? Provide an example.\n",
    "\n",
    "The issubclass() function in Python is a built-in function used to check whether a class is a subclass of another class. It helps you determine the inheritance relationship between two classes.\n",
    "syntax:issubclass(class, classinfo)\n"
   ]
  },
  {
   "cell_type": "code",
   "execution_count": 7,
   "metadata": {},
   "outputs": [
    {
     "name": "stdout",
     "output_type": "stream",
     "text": [
      "True\n"
     ]
    }
   ],
   "source": [
    "class Parent:\n",
    "    pass\n",
    "\n",
    "class Child(Parent):\n",
    "    pass\n",
    "\n",
    "# Check if Child is a subclass of Parent\n",
    "result = issubclass(Child, Parent)\n",
    "print(result)  # Output: True\n"
   ]
  },
  {
   "cell_type": "code",
   "execution_count": null,
   "metadata": {},
   "outputs": [],
   "source": [
    "#10.Discuss the concept of constructor inheritance in Python. How are constructors inherited in child classes?"
   ]
  },
  {
   "cell_type": "markdown",
   "metadata": {},
   "source": [
    "constructor inheritance refers to how the __init__ method (constructor) is inherited by child classes in an object-oriented programming context. When a child class is derived from a parent class, it inherits the attributes and methods of the parent class, including its constructor. The child class can extend or override the behavior of the parent class constructor by defining its own __init__ method"
   ]
  },
  {
   "cell_type": "code",
   "execution_count": 6,
   "metadata": {},
   "outputs": [
    {
     "name": "stdout",
     "output_type": "stream",
     "text": [
      "Parent constructor called\n",
      "Child constructor called\n",
      "John\n",
      "10\n",
      "Parent constructor called\n",
      "vanitha\n"
     ]
    }
   ],
   "source": [
    "class Parent:\n",
    "    def __init__(self, name):\n",
    "        self.name = name\n",
    "        print(\"Parent constructor called\")\n",
    "\n",
    "class Child(Parent):\n",
    "    def __init__(self, name, age):\n",
    "        # Call the constructor of the parent class\n",
    "        super().__init__(name)\n",
    "        self.age = age\n",
    "        print(\"Child constructor called\")\n",
    "\n",
    "# Create an instance of the child class\n",
    "child_obj = Child(\"John\", 10)\n",
    "\n",
    "# Accessing attributes from both parent and child classes\n",
    "print(child_obj.name)  # Output: John\n",
    "print(child_obj.age)   # Output: 10\n",
    "parent=Parent('vanitha')\n",
    "print(parent.name)"
   ]
  },
  {
   "cell_type": "code",
   "execution_count": 11,
   "metadata": {},
   "outputs": [
    {
     "name": "stdout",
     "output_type": "stream",
     "text": [
      "Area of the circle: 78.54\n",
      "Area of the rectangle: 24\n"
     ]
    }
   ],
   "source": [
    "'''11.Create a Python class called `Shape` with a method `area()` that calculates the area of a shape. Then,\n",
    "create child classes `Circle` and `Rectangle` that inherit from `Shape` and implement the `area()` method\n",
    "accordingly. Provide an example.'''\n",
    "\n",
    "import math\n",
    "class Shape:\n",
    "    def area(self):\n",
    "        # This is a placeholder method that should be overridden by subclasses\n",
    "        raise NotImplementedError(\"Subclasses must implement the 'area' method.\")\n",
    "\n",
    "class Circle(Shape):\n",
    "    def __init__(self, radius):\n",
    "        self.radius = radius \n",
    "    def area(self):\n",
    "        # Calculate the area of a circle: π * r^2\n",
    "        return math.pi * self.radius**2\n",
    "class Rectangle(Shape):\n",
    "    def __init__(self, length, width):\n",
    "        self.length = length\n",
    "        self.width = width\n",
    "\n",
    "    def area(self):\n",
    "        # Calculate the area of a rectangle: length * width\n",
    "        return self.length * self.width\n",
    "\n",
    "# Example usage:\n",
    "circle = Circle(radius=5)\n",
    "rectangle = Rectangle(length=4, width=6)\n",
    "\n",
    "# Calculate and print the areas\n",
    "print(f\"Area of the circle: {circle.area():.2f}\")\n",
    "print(f\"Area of the rectangle: {rectangle.area()}\")\n"
   ]
  },
  {
   "cell_type": "markdown",
   "metadata": {},
   "source": [
    "'''12.Explain the use of abstract base classes (ABCs) in Python and how they relate to inheritance. Provide an\n",
    "example using the `abc` module.'''\n",
    "Abstract Base Classes (ABCs) in Python provide a way to define abstract classes and methods. An abstract class is a class that cannot be instantiated and is meant to be subclassed by concrete classes. ABCs help in enforcing a common interface among the subclasses, ensuring that certain methods are implemented. The abc module in Python provides the tools for working with abstract base classes."
   ]
  },
  {
   "cell_type": "code",
   "execution_count": 12,
   "metadata": {},
   "outputs": [
    {
     "name": "stdout",
     "output_type": "stream",
     "text": [
      "Area of the circle: 78.50\n",
      "Area of the rectangle: 24\n"
     ]
    }
   ],
   "source": [
    "from abc import ABC, abstractmethod\n",
    "\n",
    "class Shape(ABC):\n",
    "    @abstractmethod\n",
    "    def area(self):\n",
    "        \"\"\"\n",
    "        Abstract method to calculate the area of a shape.\n",
    "        Subclasses must implement this method.\n",
    "        \"\"\"\n",
    "        pass\n",
    "\n",
    "class Circle(Shape):\n",
    "    def __init__(self, radius):\n",
    "        self.radius = radius\n",
    "\n",
    "    def area(self):\n",
    "        # Calculate the area of a circle: π * r^2\n",
    "        return 3.14 * self.radius**2\n",
    "\n",
    "class Rectangle(Shape):\n",
    "    def __init__(self, length, width):\n",
    "        self.length = length\n",
    "        self.width = width\n",
    "\n",
    "    def area(self):\n",
    "        # Calculate the area of a rectangle: length * width\n",
    "        return self.length * self.width\n",
    "\n",
    "# Example usage:\n",
    "circle = Circle(radius=5)\n",
    "rectangle = Rectangle(length=4, width=6)\n",
    "\n",
    "# Calculate and print the areas\n",
    "print(f\"Area of the circle: {circle.area():.2f}\")\n",
    "print(f\"Area of the rectangle: {rectangle.area()}\")\n"
   ]
  },
  {
   "cell_type": "code",
   "execution_count": null,
   "metadata": {},
   "outputs": [],
   "source": [
    "'''how can you prevent a child class from modifying certain attributes or methods inherited from a parent\n",
    "class in Python?'''\n",
    "\n",
    "\n",
    "13. How can you prevent a child class from modifying certain attributes or methods inherited from a parent\n",
    "class in Python?\n",
    "14. Create a Python class called `Employee` with attributes `name` and `salary`. Then, create a child class\n",
    "`Manager` that inherits from `Employee` and adds an attribute `department`. Provide an example.\n",
    "15. Discuss the concept of method overloading in Python inheritance. How does it differ from method\n",
    "overriding?"
   ]
  },
  {
   "cell_type": "code",
   "execution_count": 37,
   "metadata": {},
   "outputs": [
    {
     "name": "stdout",
     "output_type": "stream",
     "text": [
      "42\n"
     ]
    },
    {
     "ename": "AttributeError",
     "evalue": "'Child' object has no attribute '_Child__restricted_attribute'",
     "output_type": "error",
     "traceback": [
      "\u001b[0;31m---------------------------------------------------------------------------\u001b[0m",
      "\u001b[0;31mAttributeError\u001b[0m                            Traceback (most recent call last)",
      "\u001b[0;32m<ipython-input-37-5d35207c99be>\u001b[0m in \u001b[0;36m<module>\u001b[0;34m\u001b[0m\n\u001b[1;32m     16\u001b[0m \u001b[0mp_obj\u001b[0m\u001b[0;34m.\u001b[0m\u001b[0mget_restricted_attribute\u001b[0m\u001b[0;34m(\u001b[0m\u001b[0;34m)\u001b[0m\u001b[0;34m\u001b[0m\u001b[0;34m\u001b[0m\u001b[0m\n\u001b[1;32m     17\u001b[0m \u001b[0mc_obj\u001b[0m\u001b[0;34m=\u001b[0m\u001b[0mChild\u001b[0m\u001b[0;34m(\u001b[0m\u001b[0;34m)\u001b[0m\u001b[0;34m\u001b[0m\u001b[0;34m\u001b[0m\u001b[0m\n\u001b[0;32m---> 18\u001b[0;31m \u001b[0mc_obj\u001b[0m\u001b[0;34m.\u001b[0m\u001b[0mmodify_attribute\u001b[0m\u001b[0;34m(\u001b[0m\u001b[0;36m50\u001b[0m\u001b[0;34m)\u001b[0m\u001b[0;34m\u001b[0m\u001b[0;34m\u001b[0m\u001b[0m\n\u001b[0m",
      "\u001b[0;32m<ipython-input-37-5d35207c99be>\u001b[0m in \u001b[0;36mmodify_attribute\u001b[0;34m(self, newvalue)\u001b[0m\n\u001b[1;32m     12\u001b[0m     \u001b[0;32mdef\u001b[0m \u001b[0mmodify_attribute\u001b[0m\u001b[0;34m(\u001b[0m\u001b[0mself\u001b[0m\u001b[0;34m,\u001b[0m\u001b[0mnewvalue\u001b[0m\u001b[0;34m)\u001b[0m\u001b[0;34m:\u001b[0m\u001b[0;34m\u001b[0m\u001b[0;34m\u001b[0m\u001b[0m\n\u001b[1;32m     13\u001b[0m         \u001b[0;31m# Attempt to modify the restricted attribute will raise an AttributeError\u001b[0m\u001b[0;34m\u001b[0m\u001b[0;34m\u001b[0m\u001b[0;34m\u001b[0m\u001b[0m\n\u001b[0;32m---> 14\u001b[0;31m         \u001b[0mprint\u001b[0m\u001b[0;34m(\u001b[0m\u001b[0mself\u001b[0m\u001b[0;34m.\u001b[0m\u001b[0m__restricted_attribute\u001b[0m\u001b[0;34m)\u001b[0m\u001b[0;34m\u001b[0m\u001b[0;34m\u001b[0m\u001b[0m\n\u001b[0m\u001b[1;32m     15\u001b[0m \u001b[0mp_obj\u001b[0m\u001b[0;34m=\u001b[0m\u001b[0mParent\u001b[0m\u001b[0;34m(\u001b[0m\u001b[0;34m)\u001b[0m\u001b[0;34m\u001b[0m\u001b[0;34m\u001b[0m\u001b[0m\n\u001b[1;32m     16\u001b[0m \u001b[0mp_obj\u001b[0m\u001b[0;34m.\u001b[0m\u001b[0mget_restricted_attribute\u001b[0m\u001b[0;34m(\u001b[0m\u001b[0;34m)\u001b[0m\u001b[0;34m\u001b[0m\u001b[0;34m\u001b[0m\u001b[0m\n",
      "\u001b[0;31mAttributeError\u001b[0m: 'Child' object has no attribute '_Child__restricted_attribute'"
     ]
    }
   ],
   "source": [
    "class Parent:\n",
    "    def __init__(self):\n",
    "        self.__restricted_attribute = 42\n",
    "\n",
    "    def get_restricted_attribute(self):\n",
    "        print(self.__restricted_attribute)\n",
    "\n",
    "class Child(Parent):\n",
    "    def __init__(self):\n",
    "        super().__init__()\n",
    "    \n",
    "    def modify_attribute(self,newvalue):\n",
    "        # Attempt to modify the restricted attribute will raise an AttributeError\n",
    "        print(self.__restricted_attribute)\n",
    "p_obj=Parent()\n",
    "p_obj.get_restricted_attribute()\n",
    "c_obj=Child()\n",
    "c_obj.modify_attribute(50)"
   ]
  },
  {
   "cell_type": "code",
   "execution_count": 36,
   "metadata": {},
   "outputs": [
    {
     "name": "stdout",
     "output_type": "stream",
     "text": [
      "42\n",
      "56\n"
     ]
    }
   ],
   "source": [
    "class Parent:\n",
    "    def __init__(self):\n",
    "        self.__restricted_attribute = 42\n",
    "    def get_restricted_attribute(self):\n",
    "        print(self.__restricted_attribute)\n",
    "\n",
    "class Child(Parent):\n",
    "    def __init__(self):\n",
    "        super().__init__() \n",
    "    def get_restricted_attribute(self,value):\n",
    "        # Attempt to modify the restricted attribute will raise an AttributeError\n",
    "        self.__restricted_attribute=value\n",
    "        print(self.__restricted_attribute)\n",
    "p_obj=Parent()\n",
    "p_obj.get_restricted_attribute()\n",
    "c_obj=Child()\n",
    "c_obj.get_restricted_attribute(56)"
   ]
  },
  {
   "cell_type": "code",
   "execution_count": 41,
   "metadata": {},
   "outputs": [],
   "source": [
    "class Person:\n",
    "    def __init__(self, name, age, height):\n",
    "        self.name = name\n",
    "        self.age = age\n",
    "        self.height = height\n",
    "\n",
    "class Dog(Person):\n",
    "    def __init__(self, name, age, color, owner):\n",
    "        super().__init__(name, age, 0)\n",
    "        self.color = color\n",
    "        self.owner = owner\n",
    "o=Person(\"vanitha\",20,168.90)\n",
    "d=Dog(\"husky\",13,\"black\",\"me\")\n",
    " ----> #success#"
   ]
  },
  {
   "cell_type": "code",
   "execution_count": 54,
   "metadata": {},
   "outputs": [],
   "source": [
    "class Employee:\n",
    "    def __init__(self,name,sal):\n",
    "        self.name=name\n",
    "        self.sal=sal\n",
    "class manager(Employee):\n",
    "    def __init__(self,name,sal,dept):\n",
    "        super().__init__(name,sal)\n",
    "        self.dept=dept\n",
    "o=Employee(\"vga\",56789)\n",
    "obj=manager(\"vanitha\",98765,\"hgf\")"
   ]
  },
  {
   "cell_type": "markdown",
   "metadata": {},
   "source": [
    "#Method Overloading:"
   ]
  },
  {
   "cell_type": "code",
   "execution_count": 56,
   "metadata": {},
   "outputs": [
    {
     "name": "stdout",
     "output_type": "stream",
     "text": [
      "1\n",
      "3\n",
      "6\n"
     ]
    }
   ],
   "source": [
    "#method overloading define mutiple methods with same name in the class with different parameters\n",
    "class Calculator:\n",
    "    def add(self, a, b=0, c=0):\n",
    "        return a + b + c\n",
    "# Example of method overloading\n",
    "calc = Calculator()\n",
    "result1 = calc.add(1)\n",
    "result2 = calc.add(1, 2)\n",
    "result3 = calc.add(1, 2, 3)\n",
    "\n",
    "print(result1)  # 1\n",
    "print(result2)  # 3\n",
    "print(result3)  # 6"
   ]
  },
  {
   "cell_type": "code",
   "execution_count": 61,
   "metadata": {},
   "outputs": [
    {
     "name": "stdout",
     "output_type": "stream",
     "text": [
      "My mom cooks biryani\n",
      "i'm eating now..hahaa\n"
     ]
    }
   ],
   "source": [
    "#methodoverriding:\n",
    "#method overriding means subclass provide a specific implementation to a method which is already defined by superclass\n",
    "class Parent():\n",
    "    def cooking(self):\n",
    "        print(\"My mom cooks biryani\")\n",
    "class Child(Parent):\n",
    "    def cooking(self):\n",
    "        print(\"i\\'m eating now..hahaa\")\n",
    "o=Parent()\n",
    "o.cooking()\n",
    "c=Child()\n",
    "c.cooking()\n",
    "'''\n",
    "Purpose:\n",
    "\n",
    "Method overloading is about defining multiple methods with the same name but different parameters within a class.\n",
    "Method overriding is about providing a specific implementation for a method in a subclass that is already defined in the superclass.\n",
    "Syntax:\n",
    "\n",
    "Method overloading is achieved by defining multiple methods with the same name and different parameters.\n",
    "Method overriding is accomplished by redefining a method with the same name in the subclass.'''\n"
   ]
  },
  {
   "cell_type": "markdown",
   "metadata": {},
   "source": [
    "#16. Explain the purpose of the `__init__()` method in Python inheritance and how it is utilized in child classes.\n",
    "\n",
    "In Python, the __init__() method is a special method, also known as a constructor, that is automatically called when an object is created from a class. It is used to initialize the attributes or properties of an object. When it comes to inheritance, the __init__() method plays a crucial role in both the parent (base) class and the child (derived) class.\n",
    "\n",
    "\n",
    "1)Initialization of Parent Class:\n",
    "\n",
    "In the parent class, the __init__() method is responsible for initializing the attributes that are common to all instances of that class. It sets up the initial state of the object\n",
    "\n",
    "\n",
    "2)Call to Parent Class __init__() in Child Class:\n",
    "\n",
    "When a child class inherits from a parent class, it can extend or override the behavior of the parent class by defining its own __init__() method. However, it often makes sense to call the __init__() method of the parent class as well. This can be achieved using the super() function.\n",
    "\n",
    "3)Complete Initialization Process:\n",
    "\n",
    "When an object of the child class is created, the __init__() method of both the parent and child classes are called in order. This ensures that the attributes of both classes are properly initialized."
   ]
  },
  {
   "cell_type": "code",
   "execution_count": 5,
   "metadata": {},
   "outputs": [],
   "source": [
    "class Animal:\n",
    "    def __init__(self, species, sound):\n",
    "        self.species = species\n",
    "        self.sound = sound\n",
    "class Dog(Animal):\n",
    "    def __init__(self, species, sound, breed):\n",
    "        super().__init__(species, sound)\n",
    "        self.breed = breed\n",
    "# Creating an instance of the Dog class\n",
    "my_dog = Dog(species='Canine', sound='Woof', breed='Labrador')\n",
    "my_dog = Animal(species='Canine', sound='Woof')"
   ]
  },
  {
   "cell_type": "code",
   "execution_count": 9,
   "metadata": {},
   "outputs": [
    {
     "name": "stdout",
     "output_type": "stream",
     "text": [
      "Soaring high in the sky like an eagle\n",
      "Flitting through the air like a sparrow\n"
     ]
    }
   ],
   "source": [
    "'''17. Create a Python class called `Bird` with a method `fly()`. Then, create child classes `Eagle` and `Sparrow`\n",
    "that inherit from `Bird` and implement the `fly()` method differently. Provide an example of using these\n",
    "classes.'''\n",
    "class Bird:\n",
    "    def fly(self):\n",
    "        raise NotImplementedError(\"Subclasses must implement the fly() method\")\n",
    "\n",
    "class Eagle(Bird):\n",
    "    def fly(self):\n",
    "        return \"Soaring high in the sky like an eagle\"\n",
    "\n",
    "class Sparrow(Bird):\n",
    "    def fly(self):\n",
    "        return \"Flitting through the air like a sparrow\"\n",
    "\n",
    "# Example usage:\n",
    "eagle_instance = Eagle()\n",
    "sparrow_instance = Sparrow()\n",
    "\n",
    "print(eagle_instance.fly())    # Output: Soaring high in the sky like an eagle\n",
    "print(sparrow_instance.fly())  # Output: Flitting through the air like a sparrow"
   ]
  },
  {
   "cell_type": "markdown",
   "metadata": {},
   "source": [
    "18. What is the \"diamond problem\" in multiple inheritance, and how does Python address it?\n",
    "\n",
    "   A\n",
    "  / \\\n",
    " B   C\n",
    "  \\ /\n",
    "   D\n",
    "Here, classes B and C both inherit from class A, and class D inherits from both B and C. Now, if there is a method in class A that is overridden in both B and C, and class D does not provide its own implementation, the question arises: which overridden method should be called when an object of class D invokes that method?\n",
    "\n",
    "This ambiguity arises because there are two paths (via B or C) through which the method from class A can be inherited in class D. This can lead to confusion, maintenance challenges, and unexpected behavior.\n",
    "\n",
    "In Python, the language addresses the diamond problem by implementing a specific method resolution order (MRO). The MRO defines the order in which base classes are considered when searching for a method or attribute in a class hierarchy. Python uses the C3 linearization algorithm to calculate the MRO.\n"
   ]
  },
  {
   "cell_type": "code",
   "execution_count": 12,
   "metadata": {},
   "outputs": [
    {
     "name": "stdout",
     "output_type": "stream",
     "text": [
      "B method\n",
      "C method\n",
      "A method\n"
     ]
    }
   ],
   "source": [
    "class A:\n",
    "    def method(self):\n",
    "        print(\"A method\")\n",
    "\n",
    "class B(A):\n",
    "    def method(self):\n",
    "        print(\"B method\")\n",
    "        super().method()\n",
    "\n",
    "class C(A):\n",
    "    def method(self):\n",
    "        print(\"C method\")\n",
    "        super().method()\n",
    "\n",
    "class D(B, C):\n",
    "    pass\n",
    "\n",
    "# Creating an instance of class D\n",
    "obj_d = D()\n",
    "\n",
    "# Calling the method in class D, which triggers the MRO\n",
    "obj_d.method()\n"
   ]
  },
  {
   "cell_type": "markdown",
   "metadata": {},
   "source": [
    "19. Discuss the concept of \"is-a\" and \"has-a\" relationships in inheritance, and provide examples of each.\n",
    "\n",
    "1)\"is-a\" Relationship (Inheritance):\n",
    "\n",
    "The \"is-a\" relationship represents a situation where one class is a specialized version of another. Inheritance is used to model this relationship, allowing a derived (subclass) class to inherit the attributes and behaviors of a base (superclass) class.\n",
    "\n",
    "2)\"has-a\" Relationship (Composition):\n",
    "\n",
    "The \"has-a\" relationship represents a situation where one class contains an instance of another class as part of its structure. Composition is used to model this relationship, allowing a class to have an instance of another class as one of its attributes."
   ]
  },
  {
   "cell_type": "code",
   "execution_count": 13,
   "metadata": {},
   "outputs": [],
   "source": [
    "# \"is-a\" relationship\n",
    "class Animal:\n",
    "    def speak(self):\n",
    "        pass\n",
    "\n",
    "class Dog(Animal):\n",
    "    def speak(self):\n",
    "        return \"Woof!\"\n"
   ]
  },
  {
   "cell_type": "code",
   "execution_count": 18,
   "metadata": {},
   "outputs": [],
   "source": [
    "# \"has-a\" relationship\n",
    "class Engine:\n",
    "    def start(self):\n",
    "        return \"Engine started\"\n",
    "\n",
    "class Car:\n",
    "    def __init__(self):\n",
    "        # \"has-a\" relationship - Car has an Engine\n",
    "        self.engine = Engine()\n",
    "\n",
    "    def start(self):\n",
    "        return self.engine.start()\n"
   ]
  },
  {
   "cell_type": "code",
   "execution_count": 19,
   "metadata": {},
   "outputs": [
    {
     "name": "stdout",
     "output_type": "stream",
     "text": [
      "Alice has enrolled in Math 101\n",
      "Dr. Smith is now teaching Computer Science 301\n",
      "Name: Alice, Age: 20, Student ID: S12345, Courses: Math 101\n",
      "Name: Dr. Smith, Age: 40, Employee ID: P98765, Courses Taught: Computer Science 301\n"
     ]
    }
   ],
   "source": [
    "'''20. Create a Python class hierarchy for a university system. Start with a base class `Person` and create child\n",
    "classes `Student` and `Professor`, each with their own attributes and methods. Provide an example of using\n",
    "these classes in a university context.'''\n",
    "class Person:\n",
    "    def __init__(self, name, age):\n",
    "        self.name = name\n",
    "        self.age = age\n",
    "\n",
    "    def get_details(self):\n",
    "        return f\"Name: {self.name}, Age: {self.age}\"\n",
    "\n",
    "class Student(Person):\n",
    "    def __init__(self, name, age, student_id):\n",
    "        super().__init__(name, age)\n",
    "        self.student_id = student_id\n",
    "        self.courses = []\n",
    "\n",
    "    def enroll_course(self, course):\n",
    "        self.courses.append(course)\n",
    "        return f\"{self.name} has enrolled in {course}\"\n",
    "\n",
    "    def get_details(self):\n",
    "        base_details = super().get_details()\n",
    "        return f\"{base_details}, Student ID: {self.student_id}, Courses: {', '.join(self.courses)}\"\n",
    "\n",
    "class Professor(Person):\n",
    "    def __init__(self, name, age, employee_id):\n",
    "        super().__init__(name, age)\n",
    "        self.employee_id = employee_id\n",
    "        self.courses_taught = []\n",
    "\n",
    "    def assign_course(self, course):\n",
    "        self.courses_taught.append(course)\n",
    "        return f\"{self.name} is now teaching {course}\"\n",
    "\n",
    "    def get_details(self):\n",
    "        base_details = super().get_details()\n",
    "        return f\"{base_details}, Employee ID: {self.employee_id}, Courses Taught: {', '.join(self.courses_taught)}\"\n",
    "\n",
    "# Example usage:\n",
    "student1 = Student(name=\"Alice\", age=20, student_id=\"S12345\")\n",
    "professor1 = Professor(name=\"Dr. Smith\", age=40, employee_id=\"P98765\")\n",
    "\n",
    "print(student1.enroll_course(\"Math 101\"))\n",
    "print(professor1.assign_course(\"Computer Science 301\"))\n",
    "\n",
    "print(student1.get_details())\n",
    "print(professor1.get_details())\n"
   ]
  },
  {
   "cell_type": "markdown",
   "metadata": {},
   "source": [
    "# Encapsulation:"
   ]
  },
  {
   "cell_type": "code",
   "execution_count": null,
   "metadata": {},
   "outputs": [],
   "source": [
    "1. Explain the concept of encapsulation in Python. What is its role in object-oriented programming?"
   ]
  },
  {
   "cell_type": "markdown",
   "metadata": {},
   "source": [
    "\n",
    "Encapsulation is a fundamental concept in object-oriented programming (OOP) and refers to the bundling of data (attributes) and methods (functions) that operate on the data into a single unit, known as a class. The key idea is to encapsulate the internal implementation details of a class and expose a well-defined interface to the outside world. This allows for better organization, modularity, and abstraction in code.\n",
    "\n",
    "In Python, encapsulation is implemented through the use of access modifiers, particularly public and private access:\n",
    "\n",
    "Public Access:\n",
    "\n",
    "Members (attributes and methods) declared without any access modifier are considered public and can be accessed from outside the class using the dot notation.\n"
   ]
  },
  {
   "cell_type": "code",
   "execution_count": 25,
   "metadata": {},
   "outputs": [
    {
     "name": "stdout",
     "output_type": "stream",
     "text": [
      "Public attribute\n",
      "Public method\n"
     ]
    }
   ],
   "source": [
    "class MyClass:\n",
    "    def __init__(self):\n",
    "        self.public_attribute = \"Public attribute\"\n",
    "\n",
    "    def public_method(self):\n",
    "        return \"Public method\"\n",
    "\n",
    "obj = MyClass()\n",
    "print(obj.public_attribute)   # Accessing public attribute\n",
    "print(obj.public_method())    # Calling public method\n",
    "\n",
    "class MyClass:\n",
    "    def __init__(self):\n",
    "        self.__private_attribute = \"Private attribute\"\n",
    "\n",
    "    def __private_method(self):\n",
    "        return \"Private method\"\n",
    "\n",
    "obj = MyClass()\n",
    "# The following lines would result in an AttributeError\n",
    "# print(obj.__private_attribute)   # Attempting to access private attribute\n",
    "# print(obj.__private_method())    # Attempting to call private method\n"
   ]
  },
  {
   "cell_type": "markdown",
   "metadata": {},
   "source": [
    "Data Hiding:\n",
    "\n",
    "Encapsulation facilitates data hiding by restricting direct access to the internal state of an object. Private members are hidden from external code, preventing unintended modifications and ensuring data integrity.\n",
    "Abstraction:\n",
    "\n",
    "Encapsulation promotes abstraction by allowing the class to present a simplified, high-level interface to the outside world. Users of the class interact with this interface without needing to understand the intricate details of the internal implementation.\n",
    "Modularity:\n",
    "\n",
    "By bundling related data and methods into a class, encapsulation supports modularity. Classes act as self-contained units, making it easier to manage and maintain code. Changes to the internal implementation of a class do not affect external code that uses the class.\n",
    "Security:\n",
    "\n",
    "Encapsulation enhances security by controlling access to certain members. Private members can only be accessed and modified within the class, reducing the risk of unintended modifications from external code."
   ]
  },
  {
   "cell_type": "markdown",
   "metadata": {},
   "source": [
    "2. Describe the key principles of encapsulation, including access control and data hiding\n",
    "\n",
    "Encapsulation is a fundamental principle of object-oriented programming (OOP) that involves bundling data (attributes) and the methods (functions) that operate on the data into a single unit, known as a class. Two key principles associated with encapsulation are access control and data hiding.\n",
    "Definition: Members (attributes and methods) declared as public are accessible from outside the class. They can be accessed using the dot notation from an instance of the class.\n",
    "Syntax: No specific syntax is required for public access; members without any access modifier are considered public by default.\n",
    "\n",
    "Encapsulation is a fundamental principle of object-oriented programming (OOP) that involves bundling data (attributes) and the methods (functions) that operate on the data into a single unit, known as a class. Two key principles associated with encapsulation are access control and data hiding.\n",
    "\n",
    "1. Access Control:\n",
    "a. Public Access:\n",
    "\n",
    "Definition: Members (attributes and methods) declared as public are accessible from outside the class. They can be accessed using the dot notation from an instance of the class.\n",
    "Syntax: No specific syntax is required for public access; members without any access modifier are considered public by default.\n",
    "\n",
    "b. Private Access:\n",
    "\n",
    "Definition: Members declared as private are not accessible from outside the class. They are intended to be used only within the class itself.\n",
    "Syntax: Members are marked as private by adding a double underscore (__) prefix to their names."
   ]
  },
  {
   "cell_type": "code",
   "execution_count": 20,
   "metadata": {},
   "outputs": [
    {
     "name": "stdout",
     "output_type": "stream",
     "text": [
      "Public attribute\n",
      "Public method\n"
     ]
    }
   ],
   "source": [
    "class MyClass:\n",
    "    def __init__(self):\n",
    "        self.public_attribute = \"Public attribute\"\n",
    "\n",
    "    def public_method(self):\n",
    "        return \"Public method\"\n",
    "\n",
    "obj = MyClass()\n",
    "print(obj.public_attribute)   # Accessing public attribute\n",
    "print(obj.public_method())    # Calling public method"
   ]
  },
  {
   "cell_type": "markdown",
   "metadata": {},
   "source": [
    "2. Data Hiding:\n",
    "a. Definition:\n",
    "Data hiding involves restricting the direct access to certain members (attributes or methods) of a class. It is a mechanism to prevent external code from directly modifying the internal state of an object.\n",
    "b. Benefits:\n",
    "Security: By hiding the internal details of an object, data hiding enhances security. It reduces the risk of unintended modifications to critical components.\n",
    "Abstraction: Data hiding promotes abstraction by allowing the class to expose only a well-defined public interface. Users of the class do not need to be concerned with the internal implementation details.\n"
   ]
  },
  {
   "cell_type": "code",
   "execution_count": 23,
   "metadata": {},
   "outputs": [
    {
     "data": {
      "text/plain": [
       "'Sensitive information'"
      ]
     },
     "execution_count": 23,
     "metadata": {},
     "output_type": "execute_result"
    }
   ],
   "source": [
    "class MyClass:\n",
    "    def __init__(self):\n",
    "        self.__private_data = \"Sensitive information\"\n",
    "\n",
    "    def get_data(self):\n",
    "        # Accessing private data through a public method\n",
    "        return self.__private_data\n",
    "\n",
    "    def set_data(self, new_data):\n",
    "        # Modifying private data through a public method\n",
    "        self.__private_data = new_data\n",
    "obj=MyClass()\n",
    "obj.get_data()"
   ]
  },
  {
   "cell_type": "markdown",
   "metadata": {},
   "source": [
    "In Python, encapsulation is achieved through the use of access modifiers, specifically by marking attributes and methods as either public or private. The convention is to use a double underscore (__)."
   ]
  },
  {
   "cell_type": "code",
   "execution_count": 26,
   "metadata": {},
   "outputs": [
    {
     "name": "stdout",
     "output_type": "stream",
     "text": [
      "Account holder: John Doe\n",
      "Deposit successful. New balance: 1500\n",
      "Withdrawal successful. New balance: 1300\n",
      "Current balance: 1300\n"
     ]
    }
   ],
   "source": [
    "class BankAccount:\n",
    "    def __init__(self, account_holder, balance):\n",
    "        # Public attribute\n",
    "        self.account_holder = account_holder\n",
    "        # Private attribute (using __ prefix)\n",
    "        self.__balance = balance\n",
    "\n",
    "    # Public method\n",
    "    def deposit(self, amount):\n",
    "        if amount > 0:\n",
    "            self.__balance += amount\n",
    "            return f\"Deposit successful. New balance: {self.__balance}\"\n",
    "        else:\n",
    "            return \"Invalid deposit amount\"\n",
    "\n",
    "    # Public method\n",
    "    def withdraw(self, amount):\n",
    "        if amount > 0 and amount <= self.__balance:\n",
    "            self.__balance -= amount\n",
    "            return f\"Withdrawal successful. New balance: {self.__balance}\"\n",
    "        else:\n",
    "            return \"Invalid withdrawal amount\"\n",
    "\n",
    "    # Public method\n",
    "    def get_balance(self):\n",
    "        return f\"Current balance: {self.__balance}\"\n",
    "\n",
    "# Example usage:\n",
    "account = BankAccount(account_holder=\"John Doe\", balance=1000)\n",
    "\n",
    "# Accessing public attribute\n",
    "print(f\"Account holder: {account.account_holder}\")\n",
    "\n",
    "# Attempting to access private attribute directly would result in an AttributeError\n",
    "# print(account.__balance)  # This line would raise an AttributeError\n",
    "\n",
    "# Using public methods to interact with private attribute\n",
    "print(account.deposit(500))\n",
    "print(account.withdraw(200))\n",
    "\n",
    "# Using a public method to retrieve the balance\n",
    "print(account.get_balance())\n"
   ]
  },
  {
   "cell_type": "markdown",
   "metadata": {},
   "source": [
    "4. Discuss the difference between public, private, and protected access modifiers in Python.\n",
    "\n",
    "\n",
    "In Python, access modifiers are used to control the visibility and accessibility of attributes and methods within a class. There are three main access modifiers: public, private, and protected. These modifiers determine how members of a class can be accessed from outside the class. It's important to note that in Python, the use of these access modifiers is more of a convention, and the interpreter does not strictly enforce access control.\n",
    "\n",
    "1)Public Access Modifier:\n",
    "Syntax: No specific syntax is used. Members without any access modifier are considered public by default.\n",
    "Visibility: Public members are accessible from both within the class and from outside the class.\n",
    "\n",
    "2)Private Access Modifier:\n",
    "Syntax: Members are marked as private by adding a double underscore,prefix to their names.\n",
    "Visibility: Private members are intended to be used only within the class itself. They are not directly accessible from outside the class.\n",
    "\n",
    "3)Protected Access Modifier:\n",
    "Syntax: Members are marked as protected by adding a single underscore (_) prefix to their names. This is more of a convention and does not provide strict access control.\n",
    "Visibility: Protected members are intended to be used within the class and its subclasses. While they are not strictly inaccessible from outside the class, the single underscore serves as a signal that they should be treated as protected."
   ]
  },
  {
   "cell_type": "code",
   "execution_count": 27,
   "metadata": {},
   "outputs": [],
   "source": [
    "class MyClass:\n",
    "    def __init__(self):\n",
    "        self.public_attribute = \"Public attribute\"\n",
    "\n",
    "    def public_method(self):\n",
    "        return \"Public method\"\n"
   ]
  },
  {
   "cell_type": "code",
   "execution_count": null,
   "metadata": {},
   "outputs": [],
   "source": [
    "class MyClass:\n",
    "    def __init__(self):\n",
    "        self.__private_attribute = \"Private attribute\"\n",
    "\n",
    "    def __private_method(self):\n",
    "        return \"Private method\"\n"
   ]
  },
  {
   "cell_type": "code",
   "execution_count": 28,
   "metadata": {},
   "outputs": [],
   "source": [
    "class MyClass:\n",
    "    def __init__(self):\n",
    "        self._protected_attribute = \"Protected attribute\"\n",
    "\n",
    "    def _protected_method(self):\n",
    "        return \"Protected method\"\n"
   ]
  },
  {
   "cell_type": "markdown",
   "metadata": {},
   "source": [
    "Public: No specific syntax, accessible from anywhere.\n",
    "Private: Marked with a double underscore, intended for internal use, not directly accessible from outside the class.\n",
    "Protected: Marked with a single underscore, a convention indicating that the member is for internal or subclass use, but not strictly enforced by the interpreter.\n"
   ]
  },
  {
   "cell_type": "code",
   "execution_count": 31,
   "metadata": {},
   "outputs": [
    {
     "name": "stdout",
     "output_type": "stream",
     "text": [
      "Original Name: k.vanitha\n",
      "Updated Name: sree_k_vanitha_reddy\n"
     ]
    }
   ],
   "source": [
    "'''5. Create a Python class called `Person` with a private attribute `__name`. Provide methods to get and set the\n",
    "name attribute.'''\n",
    "class Person:\n",
    "    def __init__(self,name):\n",
    "        self.__name = name\n",
    "\n",
    "    def get_name(self):\n",
    "        return self.__name\n",
    "\n",
    "    def set_name(self, new_name):\n",
    "        self.__name = new_name\n",
    "person = Person(\"k.vanitha\")\n",
    "# Accessing the private attribute using the get_name method\n",
    "print(\"Original Name:\", person.get_name())\n",
    "# Modifying the private attribute using the set_name method\n",
    "person.set_name(\"sree_k_vanitha_reddy\")\n",
    "print(\"Updated Name:\", person.get_name())"
   ]
  },
  {
   "cell_type": "markdown",
   "metadata": {},
   "source": [
    "#6.Explain the purpose of getter and setter methods in encapsulation. Provide examples.\n",
    "\n",
    "Getter and setter methods play a crucial role in encapsulation by providing controlled access to the private attributes of a class. They allow external code to retrieve (get) or modify (set) the values of private attributes, providing an interface through which the internal state of an object can be managed.\n",
    "Purpose of Getter Methods:\n",
    "\n",
    "1.Retrieve Data:\n",
    "Getter methods allow external code to retrieve the value of a private attribute. This provides read-only access to the attribute, allowing other parts of the program to inquire about the state of the object without directly accessing its internal data.\n",
    "\n",
    "2.Encapsulation:\n",
    "Getter methods enable encapsulation by abstracting away the internal representation of data. They provide a well-defined interface for accessing attribute values, hiding the implementation details from external code.\n",
    "3.Controlled Access:\n",
    "\n",
    "By providing a method to retrieve a private attribute, the class can control how the data is accessed. It allows the class to enforce additional rules, perform validations, or apply logic before returning the value.\n",
    "Purpose of Setter Methods:\n",
    "\n",
    "1.Modify Data:\n",
    "Setter methods allow external code to modify the value of a private attribute. This provides write access to the attribute, enabling external code to update the state of the object.\n",
    "\n",
    "2.Encapsulation:\n",
    "\n",
    "Setter methods contribute to encapsulation by providing a controlled way to modify the internal state of an object. They ensure that changes to the attribute go through a designated method, allowing the class to maintain control over its data.\n",
    "\n",
    "3.Validation and Logic:\n",
    "Setter methods enable the class to enforce rules and perform validations before allowing modifications to the attribute. This can include checks for valid ranges, data types, or any other constraints the class needs to impose.\n"
   ]
  },
  {
   "cell_type": "code",
   "execution_count": 37,
   "metadata": {},
   "outputs": [
    {
     "name": "stdout",
     "output_type": "stream",
     "text": [
      "original age: 19\n",
      "updated age: 22\n"
     ]
    }
   ],
   "source": [
    "class Person:\n",
    "    def __init__(self,name,age):\n",
    "        self.__name=name\n",
    "        self.__age=age\n",
    "    def get_age(self):\n",
    "        return self.__age\n",
    "    def set_age(self,new_age):\n",
    "        if new_age>=0:\n",
    "            self.__age=new_age\n",
    "        else:\n",
    "            print(\"invalid age must be non-negative\")\n",
    "person=Person('vanitha',19)\n",
    "print(\"original age:\",person.get_age())\n",
    "person.set_age(22)\n",
    "print(\"updated age:\",person.get_age())"
   ]
  },
  {
   "cell_type": "markdown",
   "metadata": {},
   "source": [
    "#7. What is name mangling in Python, and how does it affect encapsulation?\n",
    "\n",
    "Name mangling is a mechanism in Python that alters the name of an attribute in a class to make it more challenging to access it from outside the class. This is done by adding a prefix to the attribute name, specifically a double underscore. The purpose of name mangling is to make it clear that a variable is intended for internal use within the class and to prevent accidental name clashes in the case of subclasses."
   ]
  },
  {
   "cell_type": "code",
   "execution_count": 43,
   "metadata": {},
   "outputs": [
    {
     "name": "stdout",
     "output_type": "stream",
     "text": [
      "Private attribute\n"
     ]
    }
   ],
   "source": [
    "class MyClass:\n",
    "    def __init__(self):\n",
    "        self.__private_attribute = \"Private attribute\"\n",
    "\n",
    "    def get_private_attribute(self):\n",
    "        return self.__private_attribute\n",
    "\n",
    "# Example usage:\n",
    "obj = MyClass()\n",
    "\n",
    "# Accessing the private attribute using the getter method\n",
    "print(obj.get_private_attribute())\n",
    "\n",
    "# Attempting to access the private attribute directly using name mangling\n",
    "# This will result in an AttributeError\n",
    "# print(obj.__private_attribute)\n"
   ]
  },
  {
   "cell_type": "code",
   "execution_count": null,
   "metadata": {},
   "outputs": [],
   "source": [
    "'''8. Create a Python class called `BankAccount` with private attributes for the account balance (`__balance`)\n",
    "and account number (`__account_number`). Provide methods for depositing and withdrawing money'''\n"
   ]
  },
  {
   "cell_type": "code",
   "execution_count": 54,
   "metadata": {},
   "outputs": [
    {
     "name": "stdout",
     "output_type": "stream",
     "text": [
      "Account holder: vanitha\n",
      "Deposit successful. New balance: 1500\n",
      "Withdrawal successful. New balance: 1300\n",
      "Current balance: 1300\n"
     ]
    }
   ],
   "source": [
    "class BankAccount:\n",
    "    def __init__(self, account_holder,account_no,balance):\n",
    "        # Public attribute\n",
    "        self.account_holder = account_holder\n",
    "        # Private attribute (using __ prefix)\n",
    "        self.__account_no=account_no\n",
    "        self.__balance = balance\n",
    "\n",
    "    # Public method\n",
    "    def deposit(self, amount):\n",
    "        if amount > 0:\n",
    "            self.__balance += amount\n",
    "            return f\"Deposit successful. New balance: {self.__balance}\"\n",
    "        else:\n",
    "            return \"Invalid deposit amount\"\n",
    "\n",
    "    # Public method\n",
    "    def withdraw(self, amount):\n",
    "        if amount > 0 and amount <= self.__balance:\n",
    "            self.__balance -= amount\n",
    "            return f\"Withdrawal successful. New balance: {self.__balance}\"\n",
    "        else:\n",
    "            return \"Invalid withdrawal amount\"\n",
    "\n",
    "    # Public method\n",
    "    def get_balance(self):\n",
    "        return f\"Current balance: {self.__balance}\"\n",
    "\n",
    "# Example usage:\n",
    "account = BankAccount(account_holder=\"vanitha\",account_no=3465789,balance=1000)\n",
    "\n",
    "# Accessing public attribute\n",
    "print(f\"Account holder: {account.account_holder}\")\n",
    "# Attempting to access private attribute directly would result in an AttributeError\n",
    "# print(account.__balance)  # This line would raise an AttributeError\n",
    "# Using public methods to interact with private attribute\n",
    "print(account.deposit(500))\n",
    "print(account.withdraw(200))\n",
    "\n",
    "# Using a public method to retrieve the balance\n",
    "print(account.get_balance())\n"
   ]
  },
  {
   "cell_type": "code",
   "execution_count": null,
   "metadata": {},
   "outputs": [],
   "source": [
    "#9. Discuss the advantages of encapsulation in terms of code maintainability and security."
   ]
  },
  {
   "cell_type": "markdown",
   "metadata": {},
   "source": [
    "\n",
    "Encapsulation, one of the key principles of object-oriented programming (OOP), provides several advantages in terms of code maintainability and security. Here are the key advantages:\n",
    "\n",
    "Code Maintainability:\n",
    "Modularity:\n",
    "\n",
    "Encapsulation encourages modularity by bundling related data and methods into a single unit, the class. This makes it easier to understand, organize, and maintain code. Each class becomes a self-contained module that can be modified or extended independently.\n",
    "Abstraction:\n",
    "\n",
    "By hiding the internal details of a class and exposing a simplified, high-level interface, encapsulation promotes abstraction. External code interacts with the class through well-defined methods, abstracting away the complexity of the implementation. This makes the code more manageable and easier to work with.\n",
    "Flexibility:\n",
    "\n",
    "Encapsulation enhances code flexibility by allowing changes to the internal implementation without affecting external code. As long as the public interface remains unchanged, modifications to the internal details of a class do not break existing code that uses the class.\n",
    "Code Organization:\n",
    "\n",
    "Encapsulation provides a clear structure for code organization. Attributes and methods relevant to a particular entity are encapsulated within a class, reducing clutter and improving readability. This organization simplifies the task of understanding and maintaining the codebase.\n",
    "Security:\n",
    "Data Hiding:\n",
    "\n",
    "Encapsulation allows for the hiding of internal data details by making attributes private. Private attributes can only be accessed and modified through public methods, providing a level of control over data access. This helps prevent unintended modifications and ensures data integrity.\n",
    "Name Mangling:\n",
    "\n",
    "Name mangling, a form of encapsulation, enhances security by making it more challenging for external code to access private attributes directly. It involves altering the names of attributes to include a prefix based on the class name, discouraging unauthorized access."
   ]
  },
  {
   "cell_type": "code",
   "execution_count": 56,
   "metadata": {},
   "outputs": [
    {
     "data": {
      "text/plain": [
       "'dog'"
      ]
     },
     "execution_count": 56,
     "metadata": {},
     "output_type": "execute_result"
    }
   ],
   "source": [
    "'''\n",
    "10. How can you access private attributes in Python? Provide an example demonstrating the use of name\n",
    "mangling.'''\n",
    "class animal:\n",
    "    def __init__(self,name,color):\n",
    "        self.__name=name\n",
    "        self.color=color\n",
    "    def get(self):\n",
    "        return self.__name\n",
    "o=animal('dog','black and white')\n",
    "o.get()"
   ]
  },
  {
   "cell_type": "code",
   "execution_count": 1,
   "metadata": {},
   "outputs": [
    {
     "name": "stdout",
     "output_type": "stream",
     "text": [
      "Attribute not found\n"
     ]
    }
   ],
   "source": [
    "class MyClass:\n",
    "    def __init__(self):\n",
    "        self.__private_attribute =\" \"\n",
    "# Example usage:\n",
    "obj = MyClass()\n",
    "# Attempting to access the private attribute directly would result in an AttributeError\n",
    "# print(obj.__private_attribute)\n",
    "# Accessing the private attribute using name mangling\n",
    "mangled_name =f\"_{obj}__private_attribute\"\n",
    "print(getattr(obj, mangled_name,\"Attribute not found\"))  # Outputs: I am private!"
   ]
  },
  {
   "cell_type": "code",
   "execution_count": 14,
   "metadata": {},
   "outputs": [
    {
     "name": "stdout",
     "output_type": "stream",
     "text": [
      "Student Name: vanitha\n",
      "Teacher's Subject Taught: Algebra\n",
      "Enrolled Students in Introduction to Calculus: vanitha\n"
     ]
    }
   ],
   "source": [
    "'''11. Create a Python class hierarchy for a school system, including classes for students, teachers, and courses,\n",
    "and implement encapsulation principles to protect sensitive information'''\n",
    "class Person:\n",
    "    def __init__(self, name, age, address):\n",
    "        self.__name = name\n",
    "        self.__age = age\n",
    "        self.__address = address\n",
    "\n",
    "    def get_name(self):\n",
    "        return self.__name\n",
    "\n",
    "    def get_age(self):\n",
    "        return self.__age\n",
    "\n",
    "    def get_address(self):\n",
    "        return self.__address\n",
    "\n",
    "    def set_address(self, new_address):\n",
    "        self.__address = new_address\n",
    "\n",
    "class Student(Person):\n",
    "    def __init__(self, name, age, address, student_id):\n",
    "        super().__init__(name, age, address)\n",
    "        self.__student_id = student_id\n",
    "        self.__courses = []\n",
    "\n",
    "    def get_student_id(self):\n",
    "        return self.__student_id\n",
    "\n",
    "    def get_courses(self):\n",
    "        return self.__courses\n",
    "\n",
    "    def enroll_in_course(self, course):\n",
    "        self.__courses.append(course)\n",
    "\n",
    "\n",
    "class Teacher(Person):\n",
    "    def __init__(self, name, age, address, employee_id, subject_taught):\n",
    "        super().__init__(name, age, address)\n",
    "        self.__employee_id = employee_id\n",
    "        self.__subject_taught = subject_taught\n",
    "\n",
    "    def get_employee_id(self):\n",
    "        return self.__employee_id\n",
    "\n",
    "    def get_subject_taught(self):\n",
    "        return self.__subject_taught\n",
    "\n",
    "    def update_subject_taught(self, new_subject):\n",
    "        self.__subject_taught = new_subject\n",
    "class Course:\n",
    "    def __init__(self, course_code, course_name):\n",
    "        self.__course_code = course_code\n",
    "        self.__course_name = course_name\n",
    "        self.__students_enrolled = []\n",
    "\n",
    "    def get_course_code(self):\n",
    "        return self.__course_code\n",
    "\n",
    "    def get_course_name(self):\n",
    "        return self.__course_name\n",
    "\n",
    "    def get_students_enrolled(self):\n",
    "        return self.__students_enrolled\n",
    "\n",
    "    def enroll_student(self, student):\n",
    "        self.__students_enrolled.append(student)\n",
    "\n",
    "\n",
    "# Example usage:\n",
    "\n",
    "# Creating instances of classes\n",
    "student1 = Student(name=\"vanitha\", age=18, address=\"123 MAin St\", student_id=\"S001\")\n",
    "teacher1 = Teacher(name=\"sudhanshu\", age=35, address=\"456 Oak St\", employee_id=\"T001\", subject_taught=\"Mathematics\")\n",
    "\n",
    "course1 = Course(course_code=\"MATH101\",course_name=\"Introduction to Calculus\")\n",
    "\n",
    "# Enrolling student in a course\n",
    "course1.enroll_student(student1)\n",
    "student_courses = student1.get_courses()\n",
    "\n",
    "# Updating subject taught by a teacher\n",
    "teacher1.update_subject_taught(\"Algebra\")\n",
    "\n",
    "# Accessing information using getter methods\n",
    "print(f\"Student Name: {student1.get_name()}\")\n",
    "print(f\"Teacher's Subject Taught: {teacher1.get_subject_taught()}\")\n",
    "print(f\"Enrolled Students in {course1.get_course_name()}: {', '.join([student.get_name() for student in course1.get_students_enrolled()])}\")\n",
    "            "
   ]
  },
  {
   "cell_type": "markdown",
   "metadata": {},
   "source": [
    "#12. Explain the concept of property decorators in Python and how they relate to encapsulation.\n",
    "\n",
    "In Python, property decorators are a way to define getter, setter, and deleter methods for class attributes. They provide a more elegant and Pythonic way to work with attributes while maintaining encapsulation. Property decorators allow you to define special methods that are called when you access, modify, or delete the values of attributes, providing a controlled and consistent interface for interacting with class members.\n",
    "\n",
    "Encapsulation of Attribute Access:\n",
    "\n",
    "Property decorators provide a cleaner way to encapsulate the access to class attributes. By using @property, you can define a method that is accessed like an attribute, providing a consistent interface while encapsulating the attribute's implementation details.\n",
    "Getter and Setter Methods:\n",
    "\n",
    "Property decorators allow you to define explicit getter and setter methods for attributes. This helps enforce additional logic, validation, or constraints when getting or setting attribute values, contributing to encapsulation.\n",
    "Readability and Elegance:\n",
    "\n",
    "Property decorators improve code readability and elegance by allowing you to use attribute access syntax (obj.my_attribute) instead of method calls (obj.get_my_attribute() or obj.set_my_attribute(value)). This syntactic sugar makes the code more intuitive and aligned with Pythonic conventions.\n",
    "Consistent Interface:\n",
    "\n",
    "Property decorators contribute to a consistent and predictable interface for class attributes. Users of the class interact with attributes using the same syntax whether they are getting, setting, or deleting values, promoting a clean and unified API.\n",
    "Encapsulation of Implementation Details:\n",
    "\n",
    "With property decorators, you can hide the internal implementation details of attributes. The actual storage or computation behind an attribute can be abstracted away, and the external code interacts with the attribute through well-defined methods."
   ]
  },
  {
   "cell_type": "code",
   "execution_count": 15,
   "metadata": {},
   "outputs": [
    {
     "name": "stdout",
     "output_type": "stream",
     "text": [
      "Temperature in Celsius: 25\n",
      "Temperature in Fahrenheit: 77.0\n",
      "Updated Temperature in Celsius: 30\n",
      "Updated Temperature in Fahrenheit: 86.0\n"
     ]
    }
   ],
   "source": [
    "class TemperatureConverter:\n",
    "    def __init__(self, celsius):\n",
    "        self._celsius = celsius\n",
    "\n",
    "    @property\n",
    "    def celsius(self):\n",
    "        return self._celsius\n",
    "\n",
    "    @celsius.setter\n",
    "    def celsius(self, value):\n",
    "        if value < -273.15:\n",
    "            raise ValueError(\"Temperature cannot be below absolute zero.\")\n",
    "        self._celsius = value\n",
    "\n",
    "    @property\n",
    "    def fahrenheit(self):\n",
    "        return self._celsius * 9/5 + 32\n",
    "\n",
    "# Example usage:\n",
    "temp_converter = TemperatureConverter(celsius=25)\n",
    "\n",
    "# Accessing temperature in Celsius using property syntax\n",
    "print(\"Temperature in Celsius:\", temp_converter.celsius)\n",
    "\n",
    "# Accessing temperature in Fahrenheit using property syntax\n",
    "print(\"Temperature in Fahrenheit:\", temp_converter.fahrenheit)\n",
    "\n",
    "# Updating temperature in Celsius using property syntax (setter)\n",
    "temp_converter.celsius = 30\n",
    "\n",
    "# Accessing updated temperature in Celsius and Fahrenheit\n",
    "print(\"Updated Temperature in Celsius:\", temp_converter.celsius)\n",
    "print(\"Updated Temperature in Fahrenheit:\", temp_converter.fahrenheit)\n"
   ]
  },
  {
   "cell_type": "markdown",
   "metadata": {},
   "source": [
    "#13. What is data hiding, and why is it important in encapsulation? Provide examples.\n",
    "\n",
    "Data hiding is the concept in object-oriented programming (OOP) that refers to the practice of restricting access to certain details of an object and exposing only the necessary and relevant information. In Python, data hiding is typically achieved through encapsulation, using access modifiers like private attributes, methods, and properties.\n",
    "\n",
    "The main goals of data hiding include:\n",
    "\n",
    "Encapsulation: Restricting access to the internal implementation details of an object, allowing it to present a well-defined interface to the outside world.\n",
    "\n",
    "Abstraction: Exposing only the essential features of an object while hiding its underlying complexity. This simplifies the interaction with the object and promotes a clear separation between the interface and implementation.\n",
    "\n",
    "Security: Protecting sensitive information by controlling access to certain attributes or methods. This helps prevent unintended modifications and ensures data integrity."
   ]
  },
  {
   "cell_type": "code",
   "execution_count": 17,
   "metadata": {},
   "outputs": [
    {
     "name": "stdout",
     "output_type": "stream",
     "text": [
      "Name: vanitha\n",
      "Age: 15\n",
      "Happy Birthday, vanitha! You are now 16 years old.\n"
     ]
    }
   ],
   "source": [
    "class Person:\n",
    "    def __init__(self, name, age):\n",
    "        self.__name = name  # Private attribute\n",
    "        self.__age = age    # Private attribute\n",
    "\n",
    "    def get_name(self):\n",
    "        return self.__name\n",
    "\n",
    "    def get_age(self):\n",
    "        return self.__age\n",
    "\n",
    "    def celebrate_birthday(self):\n",
    "        self.__age += 1\n",
    "        print(f\"Happy Birthday, {self.__name}! You are now {self.__age} years old.\")\n",
    "\n",
    "# Example usage:\n",
    "person = Person(name=\"vanitha\",age=15)\n",
    "\n",
    "# Attempting to access private attributes directly would result in an AttributeError\n",
    "# print(person.__name)\n",
    "# print(person.__age)\n",
    "\n",
    "# Using public methods to interact with private attributes\n",
    "print(f\"Name: {person.get_name()}\")\n",
    "print(f\"Age: {person.get_age()}\")\n",
    "\n",
    "# Celebrating a birthday using a public method\n",
    "person.celebrate_birthday()"
   ]
  },
  {
   "cell_type": "code",
   "execution_count": null,
   "metadata": {},
   "outputs": [],
   "source": [
    "'''14. Create a Python class called `Employee` with private attributes for salary (`__salary`) and employee ID\n",
    "(`__employee_id`). Provide a method to calculate yearly bonuses.'''"
   ]
  },
  {
   "cell_type": "code",
   "execution_count": 18,
   "metadata": {},
   "outputs": [
    {
     "name": "stdout",
     "output_type": "stream",
     "text": [
      "Employee ID: E001\n",
      "Salary: $60,000.00\n",
      "Yearly bonus for Employee E001: $6000.00\n"
     ]
    }
   ],
   "source": [
    "class Employee:\n",
    "    def __init__(self, employee_id, salary):\n",
    "        self.__employee_id = employee_id  # Private attribute\n",
    "        self.__salary = salary            # Private attribute\n",
    "\n",
    "    def calculate_yearly_bonus(self, bonus_percentage):\n",
    "        if 0 <= bonus_percentage <= 100:\n",
    "            bonus_amount = (bonus_percentage / 100) * self.__salary\n",
    "            return f\"Yearly bonus for Employee {self.__employee_id}: ${bonus_amount:.2f}\"\n",
    "        else:\n",
    "            return \"Invalid bonus percentage. It must be between 0 and 100.\"\n",
    "\n",
    "    # Getter methods for accessing private attributes\n",
    "    def get_employee_id(self):\n",
    "        return self.__employee_id\n",
    "\n",
    "    def get_salary(self):\n",
    "        return self.__salary\n",
    "\n",
    "# Example usage:\n",
    "employee1 = Employee(employee_id=\"E001\", salary=60000)\n",
    "\n",
    "# Attempting to access private attributes directly would result in an AttributeError\n",
    "# print(employee1.__employee_id)\n",
    "# print(employee1.__salary)\n",
    "\n",
    "# Using getter methods to access private attributes\n",
    "print(f\"Employee ID: {employee1.get_employee_id()}\")\n",
    "print(f\"Salary: ${employee1.get_salary():,.2f}\")\n",
    "\n",
    "# Calculating yearly bonus using a public method\n",
    "bonus_percentage = 10  # Example bonus percentage\n",
    "print(employee1.calculate_yearly_bonus(bonus_percentage))\n"
   ]
  },
  {
   "cell_type": "markdown",
   "metadata": {},
   "source": [
    "'''15. Discuss the use of accessors and mutators in encapsulation. How do they help maintain control over\n",
    "attribute access?'''\n",
    "\n",
    "Accessors and mutators are methods used in encapsulation to provide controlled access to the attributes of a class. They play a crucial role in maintaining control over how attributes are accessed and modified from outside the class. These methods are often referred to as getter methods (accessors) and setter methods (mutators).\n",
    "Benefits:\n",
    "Allows controlled and read-only access to attribute values.\n",
    "Enables validation or additional logic when retrieving attribute values.\n",
    "\n",
    "Benefits:\n",
    "Allows controlled and validated modification of attribute values.\n",
    "Enables additional logic, such as validation checks or notifications, before setting a new value.\n"
   ]
  },
  {
   "cell_type": "code",
   "execution_count": 19,
   "metadata": {},
   "outputs": [],
   "source": [
    "class MyClass:\n",
    "    def __init__(self):\n",
    "        self.__my_attribute = 42\n",
    "\n",
    "    def get_my_attribute(self):\n",
    "        return self.__my_attribute\n",
    "\n",
    "class MyClass:\n",
    "    def __init__(self):\n",
    "        self.__my_attribute = 42\n",
    "\n",
    "    def set_my_attribute(self, new_value):\n",
    "        # Additional validation logic can be added here\n",
    "        self.__my_attribute = new_value\n"
   ]
  },
  {
   "cell_type": "markdown",
   "metadata": {},
   "source": [
    "16. What are the potential drawbacks or disadvantages of using encapsulation in Python?\n",
    "Complexity:\n",
    "\n",
    "Encapsulation can lead to increased code complexity, especially if not implemented carefully. The introduction of accessors, mutators, and private attributes may make the code harder to understand for developers who are not familiar with the class internals.\n",
    "Overhead:\n",
    "\n",
    "The use of accessors and mutators can introduce a level of overhead, both in terms of additional method calls and increased verbosity of code. This can impact performance, especially in situations where fine-grained control over attribute access is not necessary.\n",
    "Boilerplate Code:\n",
    "\n",
    "Encapsulation often requires the writing of additional boilerplate code for getter and setter methods. In cases where attributes are simple and do not require additional logic, this extra code may seem redundant and increase the overall verbosity of the codebase.\n",
    "Trade-off with Pythonic Simplicity:\n",
    "\n",
    "Python is known for its simplicity and readability. Strict encapsulation can sometimes be seen as contradicting the Pythonic philosophy of simplicity and readability, as it may introduce additional syntactic noise.\n"
   ]
  },
  {
   "cell_type": "code",
   "execution_count": null,
   "metadata": {},
   "outputs": [],
   "source": [
    "'''17)Create a Python class for a library system that encapsulates book information, including titles, authors,\n",
    "and availability status'''\n"
   ]
  },
  {
   "cell_type": "code",
   "execution_count": 20,
   "metadata": {},
   "outputs": [
    {
     "name": "stdout",
     "output_type": "stream",
     "text": [
      "Book 1 Title: The Great Gatsby\n",
      "Book 1 Author: F. Scott Fitzgerald\n",
      "Is Book 1 Available? True\n",
      "The book 'The Great Gatsby' by F. Scott Fitzgerald has been borrowed.\n",
      "The book 'To Kill a Mockingbird' has been returned.\n",
      "Is Book 1 Available? False\n",
      "Is Book 2 Available? True\n"
     ]
    }
   ],
   "source": [
    "class Book:\n",
    "    def __init__(self, title, author, available=True):\n",
    "        self.__title = title        # Private attribute for the book title\n",
    "        self.__author = author      # Private attribute for the book author\n",
    "        self.__available = available  # Private attribute for the book availability status\n",
    "\n",
    "    def get_title(self):\n",
    "        return self.__title\n",
    "\n",
    "    def get_author(self):\n",
    "        return self.__author\n",
    "\n",
    "    def is_available(self):\n",
    "        return self.__available\n",
    "\n",
    "    def borrow_book(self):\n",
    "        if self.__available:\n",
    "            self.__available = False\n",
    "            return f\"The book '{self.__title}' by {self.__author} has been borrowed.\"\n",
    "        else:\n",
    "            return f\"The book '{self.__title}' is currently not available.\"\n",
    "\n",
    "    def return_book(self):\n",
    "        if not self.__available:\n",
    "            self.__available = True\n",
    "            return f\"The book '{self.__title}' has been returned.\"\n",
    "        else:\n",
    "            return f\"The book '{self.__title}' is already available.\"\n",
    "\n",
    "# Example usage:\n",
    "book1 = Book(title=\"The Great Gatsby\", author=\"F. Scott Fitzgerald\")\n",
    "book2 = Book(title=\"To Kill a Mockingbird\", author=\"Harper Lee\", available=False)\n",
    "\n",
    "# Accessing book information using accessors\n",
    "print(f\"Book 1 Title: {book1.get_title()}\")\n",
    "print(f\"Book 1 Author: {book1.get_author()}\")\n",
    "print(f\"Is Book 1 Available? {book1.is_available()}\")\n",
    "\n",
    "# Borrowing and returning books\n",
    "print(book1.borrow_book())\n",
    "print(book2.return_book())\n",
    "\n",
    "# Checking availability after actions\n",
    "print(f\"Is Book 1 Available? {book1.is_available()}\")\n",
    "print(f\"Is Book 2 Available? {book2.is_available()}\")\n"
   ]
  },
  {
   "cell_type": "code",
   "execution_count": null,
   "metadata": {},
   "outputs": [],
   "source": [
    "#18. Explain how encapsulation enhances code reusability and modularity in Python programs."
   ]
  },
  {
   "cell_type": "markdown",
   "metadata": {},
   "source": [
    "\n",
    "Encapsulation plays a crucial role in enhancing code reusability and modularity in Python programs by promoting the principles of abstraction, information hiding, and a well-defined interface. Here's how encapsulation contributes to these aspects:\n",
    "\n",
    "Abstraction:\n",
    "\n",
    "Encapsulation allows developers to abstract away the internal implementation details of a class or module, exposing only the essential features and functionalities. This abstraction simplifies the interaction with the code, making it easier for other developers to use the code without needing to understand its internal complexities.\n",
    "Information Hiding:\n",
    "\n",
    "By marking certain attributes or methods as private, encapsulation helps hide the implementation details and restrict direct access from external code. This information hiding is crucial for preventing unintended modifications and enforcing a clear separation between the internal state and the external interface. The encapsulated class becomes a black box, and external code interacts with it through a well-defined API.\n",
    "Reduced Dependency:\n",
    "\n",
    "Encapsulation reduces dependencies between different parts of the code. External code relies on the public interface provided by the encapsulated class rather than directly accessing its internal details. This separation of concerns makes it easier to modify the internal implementation without affecting external code, thereby reducing the likelihood of introducing bugs during updates.\n",
    "Code Reusability:\n",
    "\n",
    "Encapsulation enables code reusability by providing a self-contained and modular unit. Classes encapsulate related attributes and methods into a single entity, making it easier to reuse that functionality in other parts of the program or in different programs altogether. A well-encapsulated class can serve as a reusable component without exposing its internal workings.\n",
    "Modularity:\n",
    "\n",
    "Encapsulation contributes to the creation of modular code. Each class or module encapsulates a specific set of functionalities with a clearly defined interface. These modules can be developed, tested, and maintained independently, promoting modularity. This modular design allows developers to work on different components concurrently, facilitates code organization, and simplifies troubleshooting and debugging.\n",
    "Interface Consistency:\n",
    "\n",
    "Encapsulation ensures that external code interacts with a class through a consistent and well-defined interface. This consistency makes it easier for developers to understand and use the code. Changes to the internal implementation do not affect the external interface, maintaining compatibility and reducing the need for modifications in the calling code.\n",
    "Easier Maintenance:\n",
    "\n",
    "Encapsulated code is generally easier to maintain. Changes to the internal implementation can be made without affecting external code that relies on the public interface. This separation of concerns simplifies maintenance tasks, making it more straightforward to fix bugs, add new features, or optimize the code without causing ripple effects throughout the program.\n",
    "Collaborative Development:\n",
    "\n",
    "Encapsulation facilitates collaborative development by allowing multiple developers to work on different parts of the codebase concurrently. Each developer can focus on their assigned classes or modules without interfering with others, as long as they adhere to the public interfaces provided by encapsulated components."
   ]
  },
  {
   "cell_type": "code",
   "execution_count": null,
   "metadata": {},
   "outputs": [],
   "source": [
    "'''19. Describe the concept of information hiding in encapsulation. Why is it essential in software development?'''"
   ]
  },
  {
   "cell_type": "markdown",
   "metadata": {},
   "source": [
    "\n",
    "Information hiding is a concept within encapsulation that involves concealing the internal details of a class or module from the external world, exposing only the essential functionalities and a well-defined interface. In other words, information hiding restricts the visibility of certain components (attributes or methods) of a class, making them private or internal, and prevents direct access from external code.\n",
    "\n",
    "Private Attributes and Methods:\n",
    "\n",
    "Certain attributes and methods are marked as private, using conventions like name manglingor using a single underscore prefix (e.g., _attribute). These private components are not intended to be accessed directly from outside the class.\n",
    "Restricted Access:\n",
    "\n",
    "External code is encouraged to interact with the class through a set of well-defined public interfaces (public methods or properties). This restricts direct access to internal details, ensuring that external code cannot manipulate the internal state of the class arbitrarily.\n",
    "Black Box Abstraction:\n",
    "\n",
    "The encapsulated class is treated as a \"black box\" by external code. Developers using the class only need to be aware of its public interface and the functionalities it provides, not the internal mechanisms or implementation details.\n",
    "Preventing Unintended Modifications:\n",
    "\n",
    "Information hiding helps prevent unintended modifications to the internal state of an object. By restricting direct access to private components, developers are less likely to accidentally introduce bugs or make modifications that could lead to unpredictable behavior.\n",
    "Encouraging Proper Usage:\n",
    "\n",
    "Developers are guided to use the class in the intended way, following the provided public interface. This promotes proper usage and reduces the risk of misuse or unintended side effects.\n",
    "Why is Information Hiding Essential in Software Development?\n",
    "Modularity:\n",
    "\n",
    "Information hiding contributes to the creation of modular and independent components. Classes or modules can be developed, tested, and maintained independently, as long as they adhere to the specified public interfaces. This modularity simplifies code organization and maintenance.\n",
    "Abstraction:\n",
    "\n",
    "Information hiding facilitates abstraction by allowing developers to focus on what a class does rather than how it does it. This simplifies the understanding and usage of the code, promoting a high-level view of the functionality without getting bogged down by implementation details.\n",
    "Security:\n",
    "\n",
    "Information hiding enhances security by protecting sensitive information or critical functionalities. Private attributes or methods containing sensitive data or logic can be hidden from external code, reducing the risk of unauthorized access or manipulation.\n",
    "Encapsulation:\n",
    "\n",
    "Information hiding is a fundamental aspect of encapsulation. By bundling related attributes and methods into a single unit and exposing only the necessary interfaces, encapsulation ensures that the internal details of a class are encapsulated and not directly accessible.\n",
    "\n"
   ]
  },
  {
   "cell_type": "code",
   "execution_count": null,
   "metadata": {},
   "outputs": [],
   "source": [
    "'''20. Create a Python class called `Customer` with private attributes for customer details like name, address,\n",
    "and contact information. Implement encapsulation to ensure data integrity and security.'''"
   ]
  },
  {
   "cell_type": "code",
   "execution_count": 21,
   "metadata": {},
   "outputs": [
    {
     "name": "stdout",
     "output_type": "stream",
     "text": [
      "Customer Name: John Doe\n",
      "Customer Address: 123 Main St\n",
      "Customer Contact Info: john.doe@email.com\n",
      "Address updated for John Doe.\n",
      "Contact information updated for John Doe.\n",
      "Updated Customer Address: 456 Oak Ave\n",
      "Updated Customer Contact Info: new.email@example.com\n"
     ]
    }
   ],
   "source": [
    "class Customer:\n",
    "    def __init__(self, name, address, contact_info):\n",
    "        self.__name = name                 # Private attribute for customer name\n",
    "        self.__address = address           # Private attribute for customer address\n",
    "        self.__contact_info = contact_info  # Private attribute for customer contact information\n",
    "\n",
    "    def get_name(self):\n",
    "        return self.__name\n",
    "\n",
    "    def get_address(self):\n",
    "        return self.__address\n",
    "\n",
    "    def get_contact_info(self):\n",
    "        return self.__contact_info\n",
    "\n",
    "    def update_address(self, new_address):\n",
    "        # Additional validation logic can be added here\n",
    "        self.__address = new_address\n",
    "        return f\"Address updated for {self.__name}.\"\n",
    "\n",
    "    def update_contact_info(self, new_contact_info):\n",
    "        # Additional validation logic can be added here\n",
    "        self.__contact_info = new_contact_info\n",
    "        return f\"Contact information updated for {self.__name}.\"\n",
    "\n",
    "# Example usage:\n",
    "customer1 = Customer(name=\"John Doe\", address=\"123 Main St\", contact_info=\"john.doe@email.com\")\n",
    "\n",
    "# Attempting to access private attributes directly would result in an AttributeError\n",
    "# print(customer1.__name)\n",
    "# print(customer1.__address)\n",
    "# print(customer1.__contact_info)\n",
    "\n",
    "# Using public methods to interact with private attributes\n",
    "print(f\"Customer Name: {customer1.get_name()}\")\n",
    "print(f\"Customer Address: {customer1.get_address()}\")\n",
    "print(f\"Customer Contact Info: {customer1.get_contact_info()}\")\n",
    "\n",
    "# Updating customer address and contact information\n",
    "print(customer1.update_address(new_address=\"456 Oak Ave\"))\n",
    "print(customer1.update_contact_info(new_contact_info=\"new.email@example.com\"))\n",
    "\n",
    "# Accessing updated information\n",
    "print(f\"Updated Customer Address: {customer1.get_address()}\")\n",
    "print(f\"Updated Customer Contact Info: {customer1.get_contact_info()}\")\n"
   ]
  },
  {
   "cell_type": "markdown",
   "metadata": {},
   "source": [
    "# polymorphism"
   ]
  },
  {
   "cell_type": "markdown",
   "metadata": {},
   "source": [
    "#1. What is polymorphism in Python? Explain how it is related to object-oriented programming.\n",
    "Polymorphism is a fundamental concept in object-oriented programming (OOP) that allows objects of different classes to be treated as objects of a common base class. The term \"polymorphism\" comes from the Greek words \"poly,\" meaning many, and \"morph,\" meaning forms. In the context of programming, it refers to the ability of different classes to provide a common interface or method signature while allowing each class to implement the method in its own way."
   ]
  },
  {
   "cell_type": "code",
   "execution_count": 24,
   "metadata": {},
   "outputs": [
    {
     "name": "stdout",
     "output_type": "stream",
     "text": [
      "5\n",
      "12\n"
     ]
    }
   ],
   "source": [
    "class MathOperations:\n",
    "    def add(self, a, b):\n",
    "        return a + b\n",
    "\n",
    "    def add_three_numbers(self, a, b, c):\n",
    "        return a + b + c\n",
    "\n",
    "math_ops = MathOperations()\n",
    "result1 = math_ops.add(2, 3)\n",
    "result2 = math_ops.add_three_numbers(1, 4, 7)\n",
    "print(result1)\n",
    "print(result2)"
   ]
  },
  {
   "cell_type": "markdown",
   "metadata": {},
   "source": [
    "2. Describe the difference between compile-time polymorphism and runtime polymorphism in Python.\n",
    "--->Compile-time (Static) Polymorphism:\n",
    "Also known as method overloading, compile-time polymorphism occurs when multiple methods in the same class have the same name but differ in the type or number of their parameters. The appropriate method to be called is determined at compile time based on the method signature.\n",
    "--->Runtime (Dynamic) Polymorphism:\n",
    "Also known as method overriding, runtime polymorphism occurs when a subclass provides a specific implementation for a method that is already defined in its superclass. The decision about which method to call is made at runtime based on the actual type of the object."
   ]
  },
  {
   "cell_type": "code",
   "execution_count": 27,
   "metadata": {},
   "outputs": [
    {
     "name": "stdout",
     "output_type": "stream",
     "text": [
      "5\n",
      "12\n"
     ]
    }
   ],
   "source": [
    "class MathOperations:\n",
    "    def add(self, a, b):\n",
    "        return a + b\n",
    "\n",
    "    def add_three_numbers(self, a, b, c):\n",
    "        return a + b + c\n",
    "\n",
    "math_ops = MathOperations()\n",
    "result1 = math_ops.add(2, 3)\n",
    "result2 = math_ops.add_three_numbers(1, 4, 7)\n",
    "print(result1)\n",
    "print(result2)"
   ]
  },
  {
   "cell_type": "code",
   "execution_count": 26,
   "metadata": {},
   "outputs": [
    {
     "name": "stdout",
     "output_type": "stream",
     "text": [
      "Woof!\n",
      "Meow!\n"
     ]
    }
   ],
   "source": [
    "class Animal:\n",
    "    def make_sound(self):\n",
    "        pass\n",
    "\n",
    "class Dog(Animal):\n",
    "    def make_sound(self):\n",
    "        return \"Woof!\"\n",
    "\n",
    "class Cat(Animal):\n",
    "    def make_sound(self):\n",
    "        return \"Meow!\"\n",
    "\n",
    "def animal_sound(animal_obj):\n",
    "    return animal_obj.make_sound()\n",
    "\n",
    "dog = Dog()\n",
    "cat = Cat()\n",
    "\n",
    "print(animal_sound(dog))  # Outputs: Woof!\n",
    "print(animal_sound(cat))  # Outputs: Meow!\n"
   ]
  },
  {
   "cell_type": "code",
   "execution_count": 28,
   "metadata": {},
   "outputs": [
    {
     "name": "stdout",
     "output_type": "stream",
     "text": [
      "Area of the shape: 78.53981633974483\n",
      "Area of the shape: 16\n",
      "Area of the shape: 9.0\n"
     ]
    }
   ],
   "source": [
    "'''3. Create a Python class hierarchy for shapes (e.g., circle, square, triangle) and demonstrate polymorphism \n",
    "through a common method, such as `calculate_area()`'''\n",
    "import math\n",
    "class Shape:\n",
    "    def calculate_area(self):\n",
    "        pass\n",
    "class Circle(Shape):\n",
    "    def __init__(self, radius):\n",
    "        self.radius = radius\n",
    "\n",
    "    def calculate_area(self):\n",
    "        return math.pi * self.radius**2\n",
    "class Square(Shape):\n",
    "    def __init__(self, side_length):\n",
    "        self.side_length = side_length\n",
    "    def calculate_area(self):\n",
    "        return self.side_length**2\n",
    "class Triangle(Shape):\n",
    "    def __init__(self, base, height):\n",
    "        self.base = base\n",
    "        self.height = height\n",
    "    def calculate_area(self):\n",
    "        return 0.5 * self.base * self.height\n",
    "# Function to demonstrate polymorphism\n",
    "def print_area(shape):\n",
    "    print(f\"Area of the shape: {shape.calculate_area()}\")\n",
    "# Example usage:\n",
    "circle = Circle(radius=5)\n",
    "square = Square(side_length=4)\n",
    "triangle = Triangle(base=3, height=6)\n",
    "\n",
    "# Demonstrating polymorphism through the common method calculate_area()\n",
    "print_area(circle)    # Outputs: Area of the shape: 78.53981633974483\n",
    "print_area(square)    # Outputs: Area of the shape: 16\n",
    "print_area(triangle)  # Outputs: Area of the shape: 9.0\n"
   ]
  },
  {
   "cell_type": "markdown",
   "metadata": {},
   "source": [
    "'''4. Explain the concept of method overriding in polymorphism. Provide an example.'''\n",
    "\n",
    "Method overriding is a concept in object-oriented programming where a subclass provides a specific implementation for a method that is already defined in its superclass. The overriding method in the subclass has the same name, return type, and parameters as the method in the superclass.\n",
    "\n",
    "When a subclass overrides a method, it provides its own implementation of that method, allowing objects of the subclass to use the overridden version instead of the one in the superclass. This enables polymorphism, as a reference to an object of the superclass can be used to call the overridden method in the subclass."
   ]
  },
  {
   "cell_type": "code",
   "execution_count": 29,
   "metadata": {},
   "outputs": [
    {
     "name": "stdout",
     "output_type": "stream",
     "text": [
      "Generic animal sound\n",
      "Woof!\n",
      "Meow!\n",
      "Generic animal sound\n",
      "Woof!\n",
      "Meow!\n"
     ]
    }
   ],
   "source": [
    "class Animal:\n",
    "    def make_sound(self):\n",
    "        return \"Generic animal sound\"\n",
    "\n",
    "class Dog(Animal):\n",
    "    def make_sound(self):\n",
    "        return \"Woof!\"\n",
    "\n",
    "class Cat(Animal):\n",
    "    def make_sound(self):\n",
    "        return \"Meow!\"\n",
    "\n",
    "# Example usage\n",
    "animal1 = Animal()\n",
    "dog = Dog()\n",
    "cat = Cat()\n",
    "\n",
    "# Using the overridden method in subclasses\n",
    "print(animal1.make_sound())  # Outputs: Generic animal sound\n",
    "print(dog.make_sound())       # Outputs: Woof!\n",
    "print(cat.make_sound())       # Outputs: Meow()\n",
    "\n",
    "# Polymorphism in action\n",
    "animals = [Animal(), Dog(), Cat()]\n",
    "\n",
    "# Iterate through the list of animals, calling the overridden method\n",
    "for animal in animals:\n",
    "    print(animal.make_sound())\n"
   ]
  },
  {
   "cell_type": "markdown",
   "metadata": {},
   "source": [
    "5. How is polymorphism different from method overloading in Python? Provide examples for both\n",
    "Polymorphism and method overloading are related concepts, but they differ in their nature and how they are implemented in Python.\n",
    "Polymorphism:\n",
    "Definition:\n",
    "\n",
    "Polymorphism refers to the ability of different classes to be treated as objects of a common base class. It allows objects of different types to be used interchangeably through a common interface.\n",
    "Implementation:\n",
    "\n",
    "Polymorphism in Python is often achieved through method overriding, where a subclass provides a specific implementation for a method that is already defined in its superclass.\n",
    "Method Overloading:\n",
    "Definition:\n",
    "\n",
    "Method overloading refers to the ability to define multiple methods with the same name in a class, but with different parameter types or a different number of parameters.\n",
    "Implementation:\n",
    "\n",
    "In Python, method overloading is achieved through default parameter values or variable-length argument lists (*args and **kwargs)"
   ]
  },
  {
   "cell_type": "code",
   "execution_count": 30,
   "metadata": {},
   "outputs": [
    {
     "name": "stdout",
     "output_type": "stream",
     "text": [
      "Generic animal sound\n",
      "Woof!\n",
      "Meow!\n"
     ]
    }
   ],
   "source": [
    "class Animal:\n",
    "    def make_sound(self):\n",
    "        return \"Generic animal sound\"\n",
    "\n",
    "class Dog(Animal):\n",
    "    def make_sound(self):\n",
    "        return \"Woof!\"\n",
    "\n",
    "class Cat(Animal):\n",
    "    def make_sound(self):\n",
    "        return \"Meow!\"\n",
    "\n",
    "# Polymorphism in action\n",
    "animals = [Animal(), Dog(), Cat()]\n",
    "\n",
    "# Iterate through the list of animals, calling the overridden method\n",
    "for animal in animals:\n",
    "    print(animal.make_sound())\n"
   ]
  },
  {
   "cell_type": "code",
   "execution_count": 31,
   "metadata": {},
   "outputs": [
    {
     "name": "stdout",
     "output_type": "stream",
     "text": [
      "5\n",
      "12\n"
     ]
    }
   ],
   "source": [
    "class MathOperations:\n",
    "    def add(self, a, b):\n",
    "        return a + b\n",
    "\n",
    "    def add_three_numbers(self, a, b, c):\n",
    "        return a + b + c\n",
    "\n",
    "# Method overloading in action\n",
    "math_ops = MathOperations()\n",
    "result1 = math_ops.add(2, 3)\n",
    "result2 = math_ops.add_three_numbers(1, 4, 7)\n",
    "\n",
    "print(result1)  # Outputs: 5\n",
    "print(result2)  # Outputs: 12\n"
   ]
  },
  {
   "cell_type": "code",
   "execution_count": 32,
   "metadata": {},
   "outputs": [
    {
     "name": "stdout",
     "output_type": "stream",
     "text": [
      "Woof!\n",
      "Meow!\n",
      "Chirp!\n"
     ]
    }
   ],
   "source": [
    "'''6. Create a Python class called `Animal` with a method `speak()`. Then, create child classes like `Dog`, `Cat`,\n",
    "and `Bird`, each with their own `speak()` method. Demonstrate polymorphism by calling the `speak()` method\n",
    "on objects of different subclasses.'''\n",
    "class Animal:\n",
    "    def speak(self):\n",
    "        return \"Generic animal sound\"\n",
    "\n",
    "class Dog(Animal):\n",
    "    def speak(self):\n",
    "        return \"Woof!\"\n",
    "\n",
    "class Cat(Animal):\n",
    "    def speak(self):\n",
    "        return \"Meow!\"\n",
    "\n",
    "class Bird(Animal):\n",
    "    def speak(self):\n",
    "        return \"Chirp!\"\n",
    "\n",
    "# Demonstrate polymorphism\n",
    "animals = [Dog(), Cat(), Bird()]\n",
    "\n",
    "# Iterate through the list of animals, calling the overridden speak() method\n",
    "for animal in animals:\n",
    "    print(animal.speak())\n"
   ]
  },
  {
   "cell_type": "code",
   "execution_count": null,
   "metadata": {},
   "outputs": [],
   "source": [
    "'''7. Discuss the use of abstract methods and classes in achieving polymorphism in Python. Provide an example\n",
    "using the `abc` module.'''"
   ]
  },
  {
   "cell_type": "code",
   "execution_count": 37,
   "metadata": {},
   "outputs": [
    {
     "name": "stdout",
     "output_type": "stream",
     "text": [
      "Area of the shape: 78.5\n",
      "Area of the shape: 16\n"
     ]
    }
   ],
   "source": [
    "from abc import ABC, abstractmethod\n",
    "\n",
    "# Abstract base class\n",
    "class Shape(ABC):\n",
    "    @abstractmethod\n",
    "    def calculate_area(self):\n",
    "        pass\n",
    "\n",
    "# Concrete subclasses\n",
    "class Circle(Shape):\n",
    "    def __init__(self, radius):\n",
    "        self.radius = radius\n",
    "\n",
    "    def calculate_area(self):\n",
    "        return 3.14 * self.radius**2\n",
    "\n",
    "class Square(Shape):\n",
    "    def __init__(self, side_length):\n",
    "        self.side_length = side_length\n",
    "\n",
    "    def calculate_area(self):\n",
    "        return self.side_length**2\n",
    "\n",
    "# Attempting to create an instance of an abstract class will result in an error\n",
    "# shape = Shape()  # This will raise an error\n",
    "\n",
    "# Creating instances of concrete subclasses\n",
    "circle = Circle(radius=5)\n",
    "square = Square(side_length=4)\n",
    "\n",
    "# Polymorphism in action\n",
    "shapes = [circle, square]\n",
    "\n",
    "# Iterate through the list of shapes, calling the calculate_area() method\n",
    "for shape in shapes:\n",
    "    print(f\"Area of the shape: {shape.calculate_area()}\")\n"
   ]
  },
  {
   "cell_type": "code",
   "execution_count": null,
   "metadata": {},
   "outputs": [],
   "source": [
    "\n",
    "'''8. Create a Python class hierarchy for a vehicle system (e.g., car, bicycle, boat) and implement a\n",
    "polymorphic `start()` method that prints a message specific to each vehicle type.'''"
   ]
  },
  {
   "cell_type": "code",
   "execution_count": 36,
   "metadata": {},
   "outputs": [
    {
     "name": "stdout",
     "output_type": "stream",
     "text": [
      "Car engine starting\n",
      "Pedaling to start the bicycle\n",
      "Boat engine starting\n"
     ]
    }
   ],
   "source": [
    "class Vehicle:\n",
    "    def start(self):\n",
    "        print(\"Generic vehicle starting\")\n",
    "\n",
    "class Car(Vehicle):\n",
    "    def start(self):\n",
    "        print(\"Car engine starting\")\n",
    "\n",
    "class Bicycle(Vehicle):\n",
    "    def start(self):\n",
    "        print(\"Pedaling to start the bicycle\")\n",
    "\n",
    "class Boat(Vehicle):\n",
    "    def start(self):\n",
    "        print(\"Boat engine starting\")\n",
    "\n",
    "# Demonstrate polymorphism\n",
    "vehicles = [Car(), Bicycle(), Boat()]\n",
    "\n",
    "# Iterate through the list of vehicles, calling the polymorphic start() method\n",
    "for vehicle in vehicles:\n",
    "    vehicle.start()\n"
   ]
  },
  {
   "cell_type": "code",
   "execution_count": 35,
   "metadata": {},
   "outputs": [
    {
     "name": "stdout",
     "output_type": "stream",
     "text": [
      "True\n",
      "True\n",
      "False\n"
     ]
    }
   ],
   "source": [
    "'''9. Explain the significance of the `isinstance()` and `issubclass()` functions in Python polymorphism.'''\n",
    "'''The issubclass() function is used to check whether a class is a subclass of another class. This is valuable\n",
    "when you want to ensure that a class adheres to a certain hierarchy, especially in the context of polymorphism \n",
    "where different subclasses share a common interface.\n",
    "issubclass() is significant in ensuring that a class hierarchy is adhered to, enabling polymorphic behavior.\n",
    "It is commonly used to check whether a class is a subclass of a particular base class before treating an object \n",
    "as an instance of that base class.'''\n",
    "class Animal:\n",
    "    pass\n",
    "\n",
    "class Mammal(Animal):\n",
    "    pass\n",
    "\n",
    "class Dog(Mammal):\n",
    "    pass\n",
    "\n",
    "class Bird(Animal):\n",
    "    pass\n",
    "\n",
    "# Polymorphism with issubclass()\n",
    "# Check if a class is a subclass of another class\n",
    "print(issubclass(Dog, Mammal))   # Outputs: True\n",
    "print(issubclass(Dog, Animal))   # Outputs: True\n",
    "print(issubclass(Bird, Mammal))  # Outputs: False\n"
   ]
  },
  {
   "cell_type": "code",
   "execution_count": 34,
   "metadata": {},
   "outputs": [
    {
     "name": "stdout",
     "output_type": "stream",
     "text": [
      "True\n",
      "True\n",
      "True\n",
      "True\n"
     ]
    }
   ],
   "source": [
    "1. isinstance()\n",
    "Significance:\n",
    "The isinstance() function is used to check whether an object is an instance of a particular class or a tuple of\n",
    "classes. This is particularly useful in scenarios where polymorphism is leveraged, and you want to determine the\n",
    "actual type of an object at runtime.\n",
    "isinstance() is crucial in scenarios where you are working with objects of different subclasses and want to make \n",
    "decisions or perform actions based on their types. It allows you to handle objects based on their actual types\n",
    "rather than their declared types, facilitating polymorphic behavior.\n",
    "class Animal:\n",
    "    pass\n",
    "\n",
    "class Dog(Animal):\n",
    "    pass\n",
    "\n",
    "class Cat(Animal):\n",
    "    pass\n",
    "\n",
    "# Polymorphism with isinstance()\n",
    "dog_instance = Dog()\n",
    "\n",
    "# Check if the object is an instance of a specific class\n",
    "print(isinstance(dog_instance, Dog))    # Outputs: True\n",
    "print(isinstance(dog_instance, Animal)) # Outputs: True\n",
    "\n",
    "# Check if the object is an instance of any class in a tuple\n",
    "print(isinstance(dog_instance, (Cat, Animal)))  # Outputs: True\n",
    "print(isinstance(dog_instance, (Cat, object)))  # Outputs: False\n"
   ]
  },
  {
   "cell_type": "code",
   "execution_count": 33,
   "metadata": {},
   "outputs": [
    {
     "name": "stdout",
     "output_type": "stream",
     "text": [
      "Area of the shape: 78.5\n",
      "Area of the shape: 16\n"
     ]
    }
   ],
   "source": [
    "'''10. What is the role of the `@abstractmethod` decorator in achieving polymorphism in Python? Provide an\n",
    "example.'''\n",
    "'''\n",
    "The @abstractmethod decorator in Python is part of the abc (Abstract Base Classes) module. It is used to define abstract methods in abstract base classes. Abstract methods are methods that are declared in the base class but have no implementation. They serve as placeholders, and concrete subclasses must provide their own implementation for these methods.'''\n",
    "from abc import ABC, abstractmethod\n",
    "\n",
    "class Shape(ABC):\n",
    "    @abstractmethod\n",
    "    def calculate_area(self):\n",
    "        pass\n",
    "\n",
    "class Circle(Shape):\n",
    "    def __init__(self, radius):\n",
    "        self.radius = radius\n",
    "\n",
    "    def calculate_area(self):\n",
    "        return 3.14 * self.radius**2\n",
    "\n",
    "class Square(Shape):\n",
    "    def __init__(self, side_length):\n",
    "        self.side_length = side_length\n",
    "\n",
    "    def calculate_area(self):\n",
    "        return self.side_length**2\n",
    "\n",
    "# Attempting to create an instance of an abstract class will result in an error\n",
    "# shape = Shape()  # This will raise an error\n",
    "\n",
    "# Creating instances of concrete subclasses\n",
    "circle = Circle(radius=5)\n",
    "square = Square(side_length=4)\n",
    "\n",
    "# Polymorphism in action\n",
    "shapes = [circle, square]\n",
    "\n",
    "# Iterate through the list of shapes, calling the calculate_area() method\n",
    "for shape in shapes:\n",
    "    print(f\"Area of the shape: {shape.calculate_area()}\")\n",
    "\n"
   ]
  },
  {
   "cell_type": "code",
   "execution_count": 38,
   "metadata": {},
   "outputs": [
    {
     "name": "stdout",
     "output_type": "stream",
     "text": [
      "Area of the shape: 78.53981633974483\n",
      "Area of the shape: 12\n",
      "Area of the shape: 24.0\n"
     ]
    }
   ],
   "source": [
    "'''11. Create a Python class called `Shape` with a polymorphic method `area()` that calculates the area of\n",
    "different shapes (e.g., circle, rectangle, triangle).'''\n",
    "import math\n",
    "class Shape:\n",
    "    def area(self):\n",
    "        pass\n",
    "class Circle(Shape):\n",
    "    def __init__(self, radius):\n",
    "        self.radius = radius\n",
    "\n",
    "    def area(self):\n",
    "        return math.pi * self.radius**2\n",
    "class Rectangle(Shape):\n",
    "    def __init__(self, length, width):\n",
    "        self.length = length\n",
    "        self.width = width\n",
    "\n",
    "    def area(self):\n",
    "        return self.length * self.width\n",
    "class Triangle(Shape):\n",
    "    def __init__(self, base, height):\n",
    "        self.base = base\n",
    "        self.height = height\n",
    "\n",
    "    def area(self):\n",
    "        return 0.5 * self.base * self.height\n",
    "\n",
    "# Demonstrate polymorphism\n",
    "shapes = [Circle(radius=5), Rectangle(length=4, width=3), Triangle(base=6, height=8)]\n",
    "\n",
    "# Iterate through the list of shapes, calling the polymorphic area() method\n",
    "for shape in shapes:\n",
    "    print(f\"Area of the shape: {shape.area()}\")\n"
   ]
  },
  {
   "cell_type": "markdown",
   "metadata": {},
   "source": [
    "#12. Discuss the benefits of polymorphism in terms of code reusability and flexibility in Python programs.\n",
    "1. Code Reusability:\n",
    "Interface Uniformity: Polymorphism allows objects of different types to be treated through a common interface. This common interface (e.g., common method names) facilitates code reuse and simplifies the design of systems.\n",
    "\n",
    "Shared Base Classes: By using polymorphism, you can define shared base classes with common methods. Subclasses can then provide specific implementations while inheriting the common functionality from the base class. This leads to reusable and modular code.\n",
    "\n",
    "Library and Framework Integration: Polymorphism enhances the integration of libraries and frameworks. Libraries can define common interfaces, and different implementations can be provided by users or third-party developers, promoting code reuse.\n",
    "2. Flexibility and Extensibility:\n",
    "Adding New Functionality: Polymorphism allows for easy addition of new functionality without modifying existing code. New classes can be added that adhere to existing interfaces, enabling seamless integration with the existing system.\n",
    "\n",
    "Behavior Adaptation: Polymorphism allows for behavior adaptation. A single piece of code can work with different types of objects, and the behavior can be adapted based on the actual type of the object. This adaptability makes systems more flexible.\n",
    "\n",
    "Support for Dynamic Typing: Python's dynamic typing contributes to flexibility. The same code can work with objects of different types during runtime, allowing for dynamic changes and adaptations without explicit type declarations.\n"
   ]
  },
  {
   "cell_type": "code",
   "execution_count": 40,
   "metadata": {},
   "outputs": [
    {
     "name": "stdout",
     "output_type": "stream",
     "text": [
      "Generic animal sound\n",
      "Woof!\n"
     ]
    }
   ],
   "source": [
    "'''13. Explain the use of the `super()` function in Python polymorphism. How does it help call methods of parent\n",
    "classes?'''\n",
    "class Animal:\n",
    "    def make_sound(self):\n",
    "        print(\"Generic animal sound\")\n",
    "\n",
    "class Dog(Animal):\n",
    "    def make_sound(self):\n",
    "        # Call the make_sound() method of the parent class using super()\n",
    "        super().make_sound()\n",
    "        print(\"Woof!\")\n",
    "\n",
    "# Instantiate the child class\n",
    "my_dog = Dog()\n",
    "# Call the overridden method in the child class\n",
    "my_dog.make_sound()"
   ]
  },
  {
   "cell_type": "code",
   "execution_count": null,
   "metadata": {},
   "outputs": [],
   "source": [
    "'''14. Create a Python class hierarchy for a banking system with various account types (e.g., savings, checking,\n",
    "credit card) and demonstrate polymorphism by implementing a common `withdraw()` method.'''"
   ]
  },
  {
   "cell_type": "code",
   "execution_count": 41,
   "metadata": {},
   "outputs": [
    {
     "name": "stdout",
     "output_type": "stream",
     "text": [
      "\n",
      "Account details before withdrawal:\n",
      "Account Number: SA123\n",
      "Balance: $1000.00\n",
      "Withdrawal of $200.00 from savings account successful.\n",
      "\n",
      "Account details after withdrawal:\n",
      "Account Number: SA123\n",
      "Balance: $800.00\n",
      "\n",
      "Account details before withdrawal:\n",
      "Account Number: CA456\n",
      "Balance: $1500.00\n",
      "Withdrawal of $200.00 from checking account successful.\n",
      "\n",
      "Account details after withdrawal:\n",
      "Account Number: CA456\n",
      "Balance: $1300.00\n",
      "\n",
      "Account details before withdrawal:\n",
      "Account Number: CC789\n",
      "Balance: $-500.00\n",
      "Withdrawal of $200.00 from credit card successful.\n",
      "\n",
      "Account details after withdrawal:\n",
      "Account Number: CC789\n",
      "Balance: $-300.00\n"
     ]
    }
   ],
   "source": [
    "class BankAccount:\n",
    "    def __init__(self,account_number, balance):\n",
    "        self.account_number = account_number\n",
    "        self.balance = balance\n",
    "\n",
    "    def display_balance(self):\n",
    "        print(f\"Account Number: {self.account_number}\\nBalance: ${self.balance:.2f}\")\n",
    "\n",
    "    def withdraw(self, amount):\n",
    "        if amount > 0 and amount <= self.balance:\n",
    "            self.balance -= amount\n",
    "            print(f\"Withdrawal of ${amount:.2f} successful.\")\n",
    "        else:\n",
    "            print(\"Invalid withdrawal amount or insufficient funds.\")\n",
    "\n",
    "class SavingsAccount(BankAccount):\n",
    "    def __init__(self, account_number, balance, interest_rate):\n",
    "        super().__init__(account_number, balance)\n",
    "        self.interest_rate = interest_rate\n",
    "\n",
    "    def calculate_interest(self):\n",
    "        return self.balance * self.interest_rate\n",
    "\n",
    "    def withdraw(self, amount):\n",
    "        # Add special handling for savings account withdrawals\n",
    "        if amount > 0 and amount <= self.balance:\n",
    "            self.balance -= amount\n",
    "            print(f\"Withdrawal of ${amount:.2f} from savings account successful.\")\n",
    "        elif amount > self.balance:\n",
    "            print(\"Insufficient funds. Withdrawal from savings account not allowed.\")\n",
    "        else:\n",
    "            print(\"Invalid withdrawal amount.\")\n",
    "\n",
    "class CheckingAccount(BankAccount):\n",
    "    def __init__(self, account_number, balance, overdraft_limit):\n",
    "        super().__init__(account_number, balance)\n",
    "        self.overdraft_limit = overdraft_limit\n",
    "\n",
    "    def withdraw(self, amount):\n",
    "        # Add special handling for checking account withdrawals\n",
    "        available_balance = self.balance + self.overdraft_limit\n",
    "        if amount > 0 and amount <= available_balance:\n",
    "            self.balance -= amount\n",
    "            print(f\"Withdrawal of ${amount:.2f} from checking account successful.\")\n",
    "        else:\n",
    "            print(\"Invalid withdrawal amount or overdraft limit exceeded.\")\n",
    "\n",
    "class CreditCardAccount(BankAccount):\n",
    "    def __init__(self, account_number, balance, credit_limit, interest_rate):\n",
    "        super().__init__(account_number, balance)\n",
    "        self.credit_limit = credit_limit\n",
    "        self.interest_rate = interest_rate\n",
    "\n",
    "    def withdraw(self, amount):\n",
    "        # Add special handling for credit card account withdrawals\n",
    "        available_credit = self.credit_limit - self.balance\n",
    "        if amount > 0 and amount <= available_credit:\n",
    "            self.balance += amount  # Note: Credit card withdrawals increase the balance\n",
    "            print(f\"Withdrawal of ${amount:.2f} from credit card successful.\")\n",
    "        else:\n",
    "            print(\"Invalid withdrawal amount or credit limit exceeded.\")\n",
    "\n",
    "\n",
    "# Demonstrate polymorphism\n",
    "accounts = [\n",
    "    SavingsAccount(account_number=\"SA123\", balance=1000, interest_rate=0.02),\n",
    "    CheckingAccount(account_number=\"CA456\", balance=1500, overdraft_limit=500),\n",
    "    CreditCardAccount(account_number=\"CC789\", balance=-500, credit_limit=1000, interest_rate=0.05),\n",
    "]\n",
    "\n",
    "# Iterate through the list of accounts, calling the polymorphic withdraw() method\n",
    "for account in accounts:\n",
    "    print(\"\\nAccount details before withdrawal:\")\n",
    "    account.display_balance()\n",
    "    account.withdraw(200)  # Attempting a common withdrawal amount\n",
    "    print(\"\\nAccount details after withdrawal:\")\n",
    "    account.display_balance()\n"
   ]
  },
  {
   "cell_type": "code",
   "execution_count": 42,
   "metadata": {},
   "outputs": [
    {
     "name": "stdout",
     "output_type": "stream",
     "text": [
      "Addition Result: Vector(4, 6)\n",
      "Scalar Multiplication Result: Vector(3, 6)\n"
     ]
    }
   ],
   "source": [
    "'''15. Describe the concept of operator overloading in Python and how it relates to polymorphism. Provide\n",
    "examples using operators like `+` and `*`'''\n",
    "class Vector:\n",
    "    def __init__(self, x, y):\n",
    "        self.x = x\n",
    "        self.y = y\n",
    "\n",
    "    def __add__(self, other):\n",
    "        # Overloading the + operator\n",
    "        return Vector(self.x + other.x, self.y + other.y)\n",
    "\n",
    "    def __mul__(self, scalar):\n",
    "        # Overloading the * operator for scalar multiplication\n",
    "        return Vector(self.x * scalar, self.y * scalar)\n",
    "\n",
    "    def __str__(self):\n",
    "        return f\"Vector({self.x}, {self.y})\"\n",
    "\n",
    "# Demonstrate operator overloading\n",
    "v1 = Vector(1, 2)\n",
    "v2 = Vector(3, 4)\n",
    "\n",
    "# Overloaded addition (+) operator\n",
    "result_addition = v1 + v2\n",
    "print(f\"Addition Result: {result_addition}\")\n",
    "\n",
    "# Overloaded multiplication (*) operator for scalar multiplication\n",
    "result_multiplication = v1 * 3\n",
    "print(f\"Scalar Multiplication Result: {result_multiplication}\")\n"
   ]
  },
  {
   "cell_type": "markdown",
   "metadata": {},
   "source": [
    "#16. What is dynamic polymorphism, and how is it achieved in Python?\n",
    "\n",
    "Dynamic polymorphism, also known as runtime polymorphism, is a concept in object-oriented programming where the actual method or operation to be executed is determined at runtime. This allows different classes to be treated as instances of a common base class, and the method called on an object is based on its actual type at runtime. Dynamic polymorphism is achieved through method overriding and the use of virtual functions.\n",
    "Dynamic Typing and Late Binding:\n",
    "Python achieves dynamic polymorphism through its dynamic typing and late binding features:\n",
    "\n",
    "Dynamic Typing: In Python, the type of a variable is determined at runtime. Objects can change their type during the execution of a program.\n",
    "\n",
    "Late Binding: The binding of method calls to their implementations happens at runtime. The decision about which method to call is made dynamically based on the actual type of the object."
   ]
  },
  {
   "cell_type": "code",
   "execution_count": 43,
   "metadata": {},
   "outputs": [
    {
     "name": "stdout",
     "output_type": "stream",
     "text": [
      "Woof!\n",
      "Meow!\n"
     ]
    }
   ],
   "source": [
    "class Animal:\n",
    "    def speak(self):\n",
    "        print(\"Generic animal sound\")\n",
    "\n",
    "class Dog(Animal):\n",
    "    def speak(self):\n",
    "        print(\"Woof!\")\n",
    "\n",
    "class Cat(Animal):\n",
    "    def speak(self):\n",
    "        print(\"Meow!\")\n",
    "\n",
    "# Instances of the derived classes\n",
    "dog_instance = Dog()\n",
    "cat_instance = Cat()\n",
    "\n",
    "# Dynamic polymorphism in action\n",
    "animals = [dog_instance, cat_instance]\n",
    "for animal in animals:\n",
    "    animal.speak()  # The actual speak() method called is determined at runtime\n"
   ]
  },
  {
   "cell_type": "code",
   "execution_count": null,
   "metadata": {},
   "outputs": [],
   "source": [
    "17. Create a Python class hierarchy for employees in a company (e.g., manager, developer, designer) and\n",
    "implement polymorphism through a common `calculate_salary()` method."
   ]
  },
  {
   "cell_type": "code",
   "execution_count": 44,
   "metadata": {},
   "outputs": [
    {
     "name": "stdout",
     "output_type": "stream",
     "text": [
      "Manager: Alice\n",
      "Calculated Salary: $95000\n",
      "\n",
      "Developer: Bob\n",
      "Calculated Salary: $60000\n",
      "\n",
      "Designer: Charlie\n",
      "Calculated Salary: $75000\n",
      "\n"
     ]
    }
   ],
   "source": [
    "class Employee:\n",
    "    def __init__(self, name, role):\n",
    "        self.name = name\n",
    "        self.role = role\n",
    "\n",
    "    def calculate_salary(self):\n",
    "        # Common method to be overridden by subclasses\n",
    "        pass\n",
    "\n",
    "    def display_info(self):\n",
    "        print(f\"{self.role}: {self.name}\")\n",
    "\n",
    "class Manager(Employee):\n",
    "    def __init__(self, name, salary, bonus):\n",
    "        super().__init__(name, role=\"Manager\")\n",
    "        self.salary = salary\n",
    "        self.bonus = bonus\n",
    "\n",
    "    def calculate_salary(self):\n",
    "        # Override the common method for managers\n",
    "        return self.salary + self.bonus\n",
    "\n",
    "class Developer(Employee):\n",
    "    def __init__(self, name, salary, programming_language):\n",
    "        super().__init__(name, role=\"Developer\")\n",
    "        self.salary = salary\n",
    "        self.programming_language = programming_language\n",
    "\n",
    "    def calculate_salary(self):\n",
    "        # Override the common method for developers\n",
    "        return self.salary\n",
    "\n",
    "class Designer(Employee):\n",
    "    def __init__(self, name, salary, experience_years):\n",
    "        super().__init__(name, role=\"Designer\")\n",
    "        self.salary = salary\n",
    "        self.experience_years = experience_years\n",
    "\n",
    "    def calculate_salary(self):\n",
    "        # Override the common method for designers\n",
    "        return self.salary + (self.experience_years * 1000)\n",
    "\n",
    "# Demonstrate polymorphism\n",
    "employees = [\n",
    "    Manager(name=\"Alice\", salary=80000, bonus=15000),\n",
    "    Developer(name=\"Bob\", salary=60000, programming_language=\"Python\"),\n",
    "    Designer(name=\"Charlie\", salary=70000, experience_years=5),\n",
    "]\n",
    "\n",
    "# Iterate through the list of employees, calling the polymorphic calculate_salary() method\n",
    "for employee in employees:\n",
    "    employee.display_info()\n",
    "    print(f\"Calculated Salary: ${employee.calculate_salary()}\\n\")\n"
   ]
  },
  {
   "cell_type": "code",
   "execution_count": null,
   "metadata": {},
   "outputs": [],
   "source": [
    "18. Discuss the concept of function pointers and how they can be used to achieve polymorphism in Python.\n"
   ]
  },
  {
   "cell_type": "code",
   "execution_count": 45,
   "metadata": {},
   "outputs": [
    {
     "name": "stdout",
     "output_type": "stream",
     "text": [
      "Area of the shape: 78.5\n",
      "Area of the shape: 16\n"
     ]
    }
   ],
   "source": [
    "def calculate_area(shape):\n",
    "    return shape.calculate_area()\n",
    "\n",
    "class Circle:\n",
    "    def __init__(self, radius):\n",
    "        self.radius = radius\n",
    "\n",
    "    def calculate_area(self):\n",
    "        return 3.14 * self.radius**2\n",
    "\n",
    "class Square:\n",
    "    def __init__(self, side_length):\n",
    "        self.side_length = side_length\n",
    "\n",
    "    def calculate_area(self):\n",
    "        return self.side_length**2\n",
    "\n",
    "# Function references to calculate_area methods\n",
    "circle_area_function = Circle.calculate_area\n",
    "square_area_function = Square.calculate_area\n",
    "\n",
    "# Dynamic dispatch using function references\n",
    "circle = Circle(radius=5)\n",
    "square = Square(side_length=4)\n",
    "\n",
    "shapes = [circle, square]\n",
    "\n",
    "for shape in shapes:\n",
    "    # Use the common interface (calculate_area function reference) for polymorphism\n",
    "    area = calculate_area(shape)\n",
    "    print(f\"Area of the shape: {area}\")\n"
   ]
  },
  {
   "cell_type": "markdown",
   "metadata": {},
   "source": [
    "19. Explain the role of interfaces and abstract classes in polymorphism, drawing comparisons between them.\n",
    "Role of Abstract Classes in Polymorphism:\n",
    "Definition:\n",
    "\n",
    "An abstract class is a class that cannot be instantiated and may contain one or more abstract methods (methods without implementation). Abstract classes can also have concrete methods with implementations.\n",
    "Polymorphism:\n",
    "\n",
    "Abstract classes contribute to polymorphism by providing a common base class with a mix of abstract and concrete methods. Derived classes must implement the abstract methods, allowing them to share a common interface.\n",
    "Single Inheritance:\n",
    "\n",
    "Abstract classes support single inheritance. A class can inherit from only one abstract class, but it can inherit from an abstract class and implement multiple interfaces."
   ]
  },
  {
   "cell_type": "code",
   "execution_count": 46,
   "metadata": {},
   "outputs": [],
   "source": [
    "from abc import ABC, abstractmethod\n",
    "\n",
    "class Shape(ABC):\n",
    "    @abstractmethod\n",
    "    def calculate_area(self):\n",
    "        pass\n",
    "\n",
    "    def display_info(self):\n",
    "        print(\"This is a shape.\")\n",
    "\n",
    "class Circle(Shape):\n",
    "    def __init__(self, radius):\n",
    "        self.radius = radius\n",
    "\n",
    "    def calculate_area(self):\n",
    "        return 3.14 * self.radius**2\n"
   ]
  },
  {
   "cell_type": "code",
   "execution_count": null,
   "metadata": {},
   "outputs": [],
   "source": [
    "20. Create a Python class for a zoo simulation, demonstrating polymorphism with different animal types (e.g.,\n",
    "mammals, birds, reptiles) and their behavior (e.g., eating, sleeping, making sounds)."
   ]
  },
  {
   "cell_type": "code",
   "execution_count": 47,
   "metadata": {},
   "outputs": [
    {
     "name": "stdout",
     "output_type": "stream",
     "text": [
      "\n",
      "Lion:\n",
      "Mammal sound: Roar!\n",
      "Mammal eating: Yum yum!\n",
      "Mammal sleeping: Zzz...\n",
      "\n",
      "Parrot:\n",
      "Bird sound: Chirp chirp!\n",
      "Bird eating: Peck peck!\n",
      "Bird sleeping: Tweet tweet...\n",
      "\n",
      "Snake:\n",
      "Reptile sound: Hiss!\n",
      "Reptile eating: Slurp slurp!\n",
      "Reptile sleeping: Hiss...\n"
     ]
    }
   ],
   "source": [
    "class Animal:\n",
    "    def __init__(self, name):\n",
    "        self.name = name\n",
    "\n",
    "    def make_sound(self):\n",
    "        pass\n",
    "\n",
    "    def eat(self):\n",
    "        pass\n",
    "\n",
    "    def sleep(self):\n",
    "        pass\n",
    "\n",
    "class Mammal(Animal):\n",
    "    def make_sound(self):\n",
    "        return \"Mammal sound: Roar!\"\n",
    "\n",
    "    def eat(self):\n",
    "        return \"Mammal eating: Yum yum!\"\n",
    "\n",
    "    def sleep(self):\n",
    "        return \"Mammal sleeping: Zzz...\"\n",
    "\n",
    "class Bird(Animal):\n",
    "    def make_sound(self):\n",
    "        return \"Bird sound: Chirp chirp!\"\n",
    "\n",
    "    def eat(self):\n",
    "        return \"Bird eating: Peck peck!\"\n",
    "\n",
    "    def sleep(self):\n",
    "        return \"Bird sleeping: Tweet tweet...\"\n",
    "\n",
    "class Reptile(Animal):\n",
    "    def make_sound(self):\n",
    "        return \"Reptile sound: Hiss!\"\n",
    "\n",
    "    def eat(self):\n",
    "        return \"Reptile eating: Slurp slurp!\"\n",
    "\n",
    "    def sleep(self):\n",
    "        return \"Reptile sleeping: Hiss...\"\n",
    "\n",
    "# Zoo simulation\n",
    "def simulate_zoo(animals):\n",
    "    for animal in animals:\n",
    "        print(f\"\\n{animal.name}:\")\n",
    "        print(animal.make_sound())\n",
    "        print(animal.eat())\n",
    "        print(animal.sleep())\n",
    "\n",
    "# Create instances of different animal types\n",
    "lion = Mammal(name=\"Lion\")\n",
    "parrot = Bird(name=\"Parrot\")\n",
    "snake = Reptile(name=\"Snake\")\n",
    "\n",
    "# Simulate the zoo with different animal types\n",
    "simulate_zoo([lion, parrot, snake])\n"
   ]
  },
  {
   "cell_type": "markdown",
   "metadata": {},
   "source": [
    "# Abstraction:"
   ]
  },
  {
   "cell_type": "markdown",
   "metadata": {},
   "source": [
    "1. What is abstraction in Python, and how does it relate to object-oriented programming?\n",
    "\n",
    "\n",
    "2. Describe the benefits of abstraction in terms of code organization and complexity reduction.\n",
    "\n",
    "\n",
    "3. Create a Python class called `Shape` with an abstract method `calculate_area()`. Then, create child\n",
    "classes (e.g., `Circle`, `Rectangle`) that implement the `calculate_area()` method. Provide an example of\n",
    "using these classes.\n",
    "\n",
    "\n",
    "4. Explain the concept of abstract classes in Python and how they are defined using the `abc` module. Provide\n",
    "an example.\n",
    "\n",
    "\n",
    "5. How do abstract classes differ from regular classes in Python? Discuss their use cases.\n",
    "\n",
    "\n",
    "6. Create a Python class for a bank account and demonstrate abstraction by hiding the account balance and\n",
    "providing methods to deposit and withdraw funds.\n",
    "\n",
    "\n",
    "7. Discuss the concept of interface classes in Python and their role in achieving abstraction.\n",
    "\n",
    "\n",
    "8. Create a Python class hierarchy for animals and implement abstraction by defining common methods\n",
    "(e.g., `eat()`, `sleep()`) in an abstract base class.\n",
    "\n",
    "\n",
    "9. Explain the significance of encapsulation in achieving abstraction. Provide examples.\n",
    "\n",
    "\n",
    "10. What is the purpose of abstract methods, and how do they enforce abstraction in Python classes?\n",
    "\n"
   ]
  },
  {
   "cell_type": "markdown",
   "metadata": {},
   "source": [
    "\n",
    "Abstraction in Python is a fundamental concept in object-oriented programming (OOP) that involves simplifying complex systems by modeling classes based on the essential properties and behaviors they exhibit. Abstraction allows programmers to focus on the high-level design of a system while hiding the unnecessary details.\n",
    "\n",
    "Key Aspects of Abstraction in Python and OOP:\n",
    "Class and Object Creation:\n",
    "\n",
    "Abstraction is achieved through the creation of classes and objects in OOP.\n",
    "A class defines a blueprint for objects, specifying attributes and behaviors.\n",
    "Objects are instances of classes, representing specific instances of the modeled concept.\n",
    "Encapsulation:\n",
    "\n",
    "Encapsulation is a key component of abstraction, involving bundling data and methods that operate on the data within a single unit (class).\n",
    "Encapsulation hides the internal implementation details of a class from the outside world, exposing only what is necessary.\n",
    "Abstract Classes and Interfaces:\n",
    "\n",
    "Abstract classes and interfaces provide a way to achieve abstraction in Python.\n",
    "Abstract classes may include abstract methods (methods without implementations) that must be implemented by derived classes.\n",
    "Interfaces define a set of methods that classes must implement, without providing any method implementations themselves.\n",
    "Reducing Complexity:\n",
    "\n",
    "Abstraction helps manage the complexity of software systems by breaking them down into manageable and understandable components.\n",
    "It allows programmers to deal with concepts at a higher level without getting bogged down in implementation details."
   ]
  },
  {
   "cell_type": "code",
   "execution_count": 48,
   "metadata": {},
   "outputs": [
    {
     "name": "stdout",
     "output_type": "stream",
     "text": [
      "Circle Area: 78.5\n",
      "Circle Perimeter: 31.400000000000002\n",
      "Square Area: 16\n",
      "Square Perimeter: 16\n"
     ]
    }
   ],
   "source": [
    "from abc import ABC, abstractmethod\n",
    "\n",
    "class Shape(ABC):\n",
    "    @abstractmethod\n",
    "    def area(self):\n",
    "        pass\n",
    "\n",
    "    @abstractmethod\n",
    "    def perimeter(self):\n",
    "        pass\n",
    "\n",
    "class Circle(Shape):\n",
    "    def __init__(self, radius):\n",
    "        self.radius = radius\n",
    "\n",
    "    def area(self):\n",
    "        return 3.14 * self.radius**2\n",
    "\n",
    "    def perimeter(self):\n",
    "        return 2 * 3.14 * self.radius\n",
    "\n",
    "class Square(Shape):\n",
    "    def __init__(self, side_length):\n",
    "        self.side_length = side_length\n",
    "\n",
    "    def area(self):\n",
    "        return self.side_length**2\n",
    "\n",
    "    def perimeter(self):\n",
    "        return 4 * self.side_length\n",
    "\n",
    "# Using abstraction to work with shapes\n",
    "circle = Circle(radius=5)\n",
    "square = Square(side_length=4)\n",
    "\n",
    "print(f\"Circle Area: {circle.area()}\")\n",
    "print(f\"Circle Perimeter: {circle.perimeter()}\")\n",
    "\n",
    "print(f\"Square Area: {square.area()}\")\n",
    "print(f\"Square Perimeter: {square.perimeter()}\")\n"
   ]
  },
  {
   "cell_type": "markdown",
   "metadata": {},
   "source": [
    "1. Modularity:\n",
    "Abstraction allows breaking down a complex system into smaller, more manageable modules (classes and objects).\n",
    "Each module encapsulates a specific set of functionalities, promoting a modular and organized code structure.\n",
    "2. Code Reusability:\n",
    "Abstract classes and interfaces define common structures that can be reused across multiple classes.\n",
    "By providing a blueprint for derived classes, abstraction encourages the reuse of code, reducing redundancy and promoting the \"Don't Repeat Yourself\" (DRY) principle.\n",
    "3. Encapsulation:\n",
    "Abstraction supports encapsulation by hiding the internal implementation details of a class and exposing only what is necessary.\n",
    "Encapsulation enhances code organization by grouping related data and behaviors within a class, preventing direct access to the internal state.\n",
    "4. Simplified Interface:\n",
    "Abstraction allows programmers to interact with a system at a higher level through well-defined interfaces.\n",
    "Users of a class or module don't need to understand its internal workings; they can work with it based on its abstracted interface.\n",
    "5. Reduced Cognitive Load:\n",
    "Abstraction hides unnecessary details, reducing cognitive load on developers.\n",
    "Developers can focus on the high-level design and functionality of a system without getting bogged down in implementation specifics."
   ]
  },
  {
   "cell_type": "code",
   "execution_count": 49,
   "metadata": {},
   "outputs": [
    {
     "name": "stdout",
     "output_type": "stream",
     "text": [
      "Circle Area: 78.5\n",
      "Rectangle Area: 24\n"
     ]
    }
   ],
   "source": [
    "from abc import ABC, abstractmethod\n",
    "\n",
    "class Shape(ABC):\n",
    "    @abstractmethod\n",
    "    def calculate_area(self):\n",
    "        pass\n",
    "\n",
    "class Circle(Shape):\n",
    "    def __init__(self, radius):\n",
    "        self.radius = radius\n",
    "\n",
    "    def calculate_area(self):\n",
    "        return 3.14 * self.radius**2\n",
    "\n",
    "class Rectangle(Shape):\n",
    "    def __init__(self, length, width):\n",
    "        self.length = length\n",
    "        self.width = width\n",
    "\n",
    "    def calculate_area(self):\n",
    "        return self.length * self.width\n",
    "\n",
    "# Example usage\n",
    "circle = Circle(radius=5)\n",
    "rectangle = Rectangle(length=4, width=6)\n",
    "\n",
    "print(f\"Circle Area: {circle.calculate_area()}\")\n",
    "print(f\"Rectangle Area: {rectangle.calculate_area()}\")\n"
   ]
  },
  {
   "cell_type": "code",
   "execution_count": 50,
   "metadata": {},
   "outputs": [
    {
     "name": "stdout",
     "output_type": "stream",
     "text": [
      "Circle Area: 78.5\n",
      "Circle with radius 5\n",
      "Rectangle Area: 24\n",
      "Rectangle with length 4 and width 6\n"
     ]
    }
   ],
   "source": [
    "from abc import ABC, abstractmethod\n",
    "\n",
    "# Define an abstract class with abstract method(s)\n",
    "class Shape(ABC):\n",
    "    @abstractmethod\n",
    "    def calculate_area(self):\n",
    "        pass\n",
    "\n",
    "    @abstractmethod\n",
    "    def display_info(self):\n",
    "        pass\n",
    "\n",
    "# Concrete class Circle that inherits from Shape\n",
    "class Circle(Shape):\n",
    "    def __init__(self, radius):\n",
    "        self.radius = radius\n",
    "\n",
    "    def calculate_area(self):\n",
    "        return 3.14 * self.radius**2\n",
    "\n",
    "    def display_info(self):\n",
    "        print(f\"Circle with radius {self.radius}\")\n",
    "\n",
    "# Concrete class Rectangle that inherits from Shape\n",
    "class Rectangle(Shape):\n",
    "    def __init__(self, length, width):\n",
    "        self.length = length\n",
    "        self.width = width\n",
    "\n",
    "    def calculate_area(self):\n",
    "        return self.length * self.width\n",
    "\n",
    "    def display_info(self):\n",
    "        print(f\"Rectangle with length {self.length} and width {self.width}\")\n",
    "\n",
    "# Usage example\n",
    "circle = Circle(radius=5)\n",
    "rectangle = Rectangle(length=4, width=6)\n",
    "\n",
    "# Both Circle and Rectangle implement the abstract methods\n",
    "print(f\"Circle Area: {circle.calculate_area()}\")\n",
    "circle.display_info()\n",
    "\n",
    "print(f\"Rectangle Area: {rectangle.calculate_area()}\")\n",
    "rectangle.display_info()\n"
   ]
  },
  {
   "cell_type": "code",
   "execution_count": 52,
   "metadata": {},
   "outputs": [
    {
     "name": "stdout",
     "output_type": "stream",
     "text": [
      "Initial Balance: $0\n",
      "Deposited $1000. New balance: $1000\n",
      "Withdrew $500. New balance: $500\n",
      "Invalid withdrawal amount or insufficient funds.\n",
      "Final Balance: $500\n"
     ]
    }
   ],
   "source": [
    "from abc import ABC, abstractmethod\n",
    "class BankAccount(ABC):\n",
    "    def __init__(self, account_number, account_holder):\n",
    "        self.account_number = account_number\n",
    "        self.account_holder = account_holder\n",
    "        self._balance = 0  # Private attribute for balance\n",
    "\n",
    "    @property\n",
    "    def balance(self):\n",
    "        return self._balance\n",
    "\n",
    "    @abstractmethod\n",
    "    def deposit(self, amount):\n",
    "        pass\n",
    "\n",
    "    @abstractmethod\n",
    "    def withdraw(self, amount):\n",
    "        pass\n",
    "\n",
    "# Concrete implementation of BankAccount\n",
    "class SavingsAccount(BankAccount):\n",
    "    def deposit(self, amount):\n",
    "        if amount > 0:\n",
    "            self._balance += amount\n",
    "            print(f\"Deposited ${amount}. New balance: ${self._balance}\")\n",
    "        else:\n",
    "            print(\"Invalid deposit amount.\")\n",
    "\n",
    "    def withdraw(self, amount):\n",
    "        if 0 < amount <= self._balance:\n",
    "            self._balance -= amount\n",
    "            print(f\"Withdrew ${amount}. New balance: ${self._balance}\")\n",
    "        else:\n",
    "            print(\"Invalid withdrawal amount or insufficient funds.\")\n",
    "\n",
    "# Example usage\n",
    "savings_account = SavingsAccount(account_number=\"123456789\", account_holder=\"John Doe\")\n",
    "\n",
    "# Accessing the balance using the property\n",
    "print(f\"Initial Balance: ${savings_account.balance}\")\n",
    "\n",
    "# Depositing and withdrawing funds\n",
    "savings_account.deposit(1000)\n",
    "savings_account.withdraw(500)\n",
    "savings_account.withdraw(700)  # Invalid withdrawal due to insufficient funds\n",
    "\n",
    "# Accessing the balance after transactions\n",
    "print(f\"Final Balance: ${savings_account.balance}\")\n"
   ]
  },
  {
   "cell_type": "markdown",
   "metadata": {},
   "source": [
    "In Python, interface classes are classes that declare a set of methods without providing any implementation. They serve as a contract or specification, defining a common interface that other classes must adhere to. While Python does not have a built-in concept of interfaces like some other programming languages, the idea of interfaces can be achieved using abstract base classes (ABCs) from the abc module.\n",
    "By using interface classes, we establish a contract for classes that claim to be of a certain type (e.g., Shape). This promotes code consistency, facilitates polymorphism, and allows for the creation of interchangeable components that adhere to a common interface. It's important to note that Python relies on convention and documentation for interfaces rather than explicit language constructs. The use of abstract base classes with abstract methods serves as a practical way to achieve interface-like behavior in Python."
   ]
  },
  {
   "cell_type": "code",
   "execution_count": 54,
   "metadata": {},
   "outputs": [
    {
     "name": "stdout",
     "output_type": "stream",
     "text": [
      "Buddy: Woof! Woof!, Dog is eating., Dog is sleeping.\n",
      "Whiskers: Meow!, Cat is eating., Cat is sleeping.\n",
      "Dumbo: Trumpet!, Elephant is eating., Elephant is sleeping.\n"
     ]
    }
   ],
   "source": [
    "from abc import ABC, abstractmethod\n",
    "\n",
    "# Abstract base class for animals\n",
    "class Animal(ABC):\n",
    "    def __init__(self, name):\n",
    "        self.name = name\n",
    "\n",
    "    @abstractmethod\n",
    "    def make_sound(self):\n",
    "        pass\n",
    "\n",
    "    @abstractmethod\n",
    "    def eat(self):\n",
    "        pass\n",
    "\n",
    "    @abstractmethod\n",
    "    def sleep(self):\n",
    "        pass\n",
    "\n",
    "# Concrete classes for specific types of animals\n",
    "class Dog(Animal):\n",
    "    def make_sound(self):\n",
    "        return \"Woof! Woof!\"\n",
    "\n",
    "    def eat(self):\n",
    "        return \"Dog is eating.\"\n",
    "\n",
    "    def sleep(self):\n",
    "        return \"Dog is sleeping.\"\n",
    "\n",
    "class Cat(Animal):\n",
    "    def make_sound(self):\n",
    "        return \"Meow!\"\n",
    "\n",
    "    def eat(self):\n",
    "        return \"Cat is eating.\"\n",
    "\n",
    "    def sleep(self):\n",
    "        return \"Cat is sleeping.\"\n",
    "\n",
    "class Elephant(Animal):\n",
    "    def make_sound(self):\n",
    "        return \"Trumpet!\"\n",
    "\n",
    "    def eat(self):\n",
    "        return \"Elephant is eating.\"\n",
    "\n",
    "    def sleep(self):\n",
    "        return \"Elephant is sleeping.\"\n",
    "\n",
    "# Usage\n",
    "dog = Dog(name=\"Buddy\")\n",
    "cat = Cat(name=\"Whiskers\")\n",
    "elephant = Elephant(name=\"Dumbo\")\n",
    "\n",
    "# Calling common methods on different animal objects\n",
    "print(f\"{dog.name}: {dog.make_sound()}, {dog.eat()}, {dog.sleep()}\")\n",
    "print(f\"{cat.name}: {cat.make_sound()}, {cat.eat()}, {cat.sleep()}\")\n",
    "print(f\"{elephant.name}: {elephant.make_sound()}, {elephant.eat()}, {elephant.sleep()}\")\n"
   ]
  },
  {
   "cell_type": "markdown",
   "metadata": {},
   "source": [
    "\n",
    "Encapsulation and abstraction are closely related concepts in object-oriented programming (OOP). Encapsulation involves bundling data (attributes) and the methods (functions) that operate on the data into a single unit, which is typically a class. Abstraction, on the other hand, is the process of hiding the implementation details of an object and exposing only the relevant features.\n",
    "\n",
    "Significance of Encapsulation in Achieving Abstraction:\n",
    "Data Hiding:\n",
    "\n",
    "Encapsulation allows for hiding the internal details of a class, including its attributes, from the outside world.\n",
    "By making attributes private or using access control, the implementation details are hidden, promoting abstraction."
   ]
  },
  {
   "cell_type": "code",
   "execution_count": 56,
   "metadata": {},
   "outputs": [],
   "source": [
    "class Student:\n",
    "    def __init__(self, name, age):\n",
    "        self._name = name  # Using a single underscore to indicate protected attribute\n",
    "        self._age = age\n",
    "\n",
    "    def get_name(self):\n",
    "        return self._name\n",
    "\n",
    "    def get_age(self):\n",
    "        return self._age\n"
   ]
  },
  {
   "cell_type": "markdown",
   "metadata": {},
   "source": [
    "Access Control:\n",
    "\n",
    "Encapsulation provides control over the access to attributes and methods, defining what is visible and accessible from outside the class.\n",
    "This control is crucial for achieving abstraction, as it allows the class to expose only the necessary features while keeping the internal details hidden."
   ]
  },
  {
   "cell_type": "code",
   "execution_count": 57,
   "metadata": {},
   "outputs": [],
   "source": [
    "class BankAccount:\n",
    "    def __init__(self, balance):\n",
    "        self._balance = balance  # Protected attribute\n",
    "\n",
    "    def get_balance(self):\n",
    "        return self._balance\n"
   ]
  },
  {
   "cell_type": "markdown",
   "metadata": {},
   "source": [
    "10. What is the purpose of abstract methods, and how do they enforce abstraction in Python classes?\n",
    "\n",
    "\n",
    "11. Create a Python class for a vehicle system and demonstrate abstraction by defining common methods\n",
    "(e.g., `start()`, `stop()`) in an abstract base class.\n",
    "\n",
    "\n",
    "12. Describe the use of abstract properties in Python and how they can be employed in abstract classes.\n",
    "\n",
    "\n",
    "13. Create a Python class hierarchy for employees in a company (e.g., manager, developer, designer) and\n",
    "implement abstraction by defining a common `get_salary()` method.\n",
    "\n",
    "\n",
    "14. Discuss the differences between abstract classes and concrete classes in Python, including their\n",
    "instantiation.\n",
    "\n",
    "\n",
    "15. Explain the concept of abstract data types (ADTs) and their role in achieving abstraction in Python.\n",
    "\n",
    "\n",
    "16. Create a Python class for a computer system, demonstrating abstraction by defining common methods\n",
    "(e.g., `power_on()`, `shutdown()`) in an abstract base class.\n",
    "\n",
    "\n",
    "17. Discuss the benefits of using abstraction in large-scale software development projects.\n",
    "\n",
    "\n",
    "18. Explain how abstraction enhances code reusability and modularity in Python programs.\n",
    "\n",
    "\n",
    "19. Create a Python class for a library system, implementing abstraction by defining common methods (e.g.,\n",
    "`add_book()`, `borrow_book()`) in an abstract base class.\n",
    "\n",
    "\n",
    "20. Describe the concept of method abstraction in Python and how it relates to polymorphism."
   ]
  },
  {
   "cell_type": "markdown",
   "metadata": {},
   "source": [
    "\n",
    "Abstract methods in Python serve the purpose of defining a method in an abstract base class (ABC) without providing its implementation. The main goal is to declare a method that must be implemented by any concrete (non-abstract) subclass. Abstract methods enforce abstraction by creating a common interface that subclasses must adhere to, promoting code consistency and providing a clear contract for derived classes.\n",
    "\n",
    "Key Points:\n",
    "Declaration Without Implementation:\n",
    "\n",
    "Abstract methods are declared using the @abstractmethod decorator in an abstract base class.\n",
    "They don't provide an implementation in the base class, leaving the responsibility of implementation to the concrete subclasses."
   ]
  },
  {
   "cell_type": "code",
   "execution_count": 58,
   "metadata": {},
   "outputs": [],
   "source": [
    "from abc import ABC, abstractmethod\n",
    "\n",
    "class Shape(ABC):\n",
    "    @abstractmethod\n",
    "    def calculate_area(self):\n",
    "        pass\n"
   ]
  },
  {
   "cell_type": "markdown",
   "metadata": {},
   "source": [
    "Enforcing a Common Interface:\n",
    "Abstract methods enforce a common interface for all classes that inherit from the abstract base class.\n",
    "Subclasses must provide concrete implementations for all abstract methods declared in the base class."
   ]
  },
  {
   "cell_type": "code",
   "execution_count": 60,
   "metadata": {},
   "outputs": [],
   "source": [
    "class Circle(Shape):\n",
    "    def __init__(self, radius):\n",
    "        self.radius = radius\n",
    "\n",
    "    def calculate_area(self):\n",
    "        return 3.14 * self.radius**2\n"
   ]
  },
  {
   "cell_type": "markdown",
   "metadata": {},
   "source": [
    "Polymorphism and Interchangeability:\n",
    "\n",
    "Abstract methods support polymorphism by allowing objects of different subclasses to be treated interchangeably if they implement the same abstract methods.\n",
    "This promotes a consistent way of interacting with objects, regardless of their specific types."
   ]
  },
  {
   "cell_type": "code",
   "execution_count": 61,
   "metadata": {},
   "outputs": [
    {
     "name": "stdout",
     "output_type": "stream",
     "text": [
      "Area: 78.5\n"
     ]
    }
   ],
   "source": [
    "def print_area(shape):\n",
    "    print(f\"Area: {shape.calculate_area()}\")\n",
    "\n",
    "circle = Circle(radius=5)\n",
    "print_area(circle)"
   ]
  },
  {
   "cell_type": "code",
   "execution_count": 62,
   "metadata": {},
   "outputs": [
    {
     "name": "stdout",
     "output_type": "stream",
     "text": [
      "Toyota Camry: Engine started.\n",
      "Toyota Camry: Engine stopped.\n",
      "Harley-Davidson Sportster: Motorcycle started.\n",
      "Harley-Davidson Sportster: Motorcycle stopped.\n"
     ]
    }
   ],
   "source": [
    "from abc import ABC, abstractmethod\n",
    "\n",
    "# Abstract base class for vehicles\n",
    "class Vehicle(ABC):\n",
    "    def __init__(self, brand, model):\n",
    "        self.brand = brand\n",
    "        self.model = model\n",
    "        self.engine_started = False\n",
    "\n",
    "    @abstractmethod\n",
    "    def start(self):\n",
    "        pass\n",
    "\n",
    "    @abstractmethod\n",
    "    def stop(self):\n",
    "        pass\n",
    "\n",
    "    def get_info(self):\n",
    "        return f\"{self.brand} {self.model}\"\n",
    "\n",
    "# Concrete classes for specific types of vehicles\n",
    "class Car(Vehicle):\n",
    "    def start(self):\n",
    "        if not self.engine_started:\n",
    "            print(f\"{self.get_info()}: Engine started.\")\n",
    "            self.engine_started = True\n",
    "        else:\n",
    "            print(f\"{self.get_info()}: Engine is already running.\")\n",
    "\n",
    "    def stop(self):\n",
    "        if self.engine_started:\n",
    "            print(f\"{self.get_info()}: Engine stopped.\")\n",
    "            self.engine_started = False\n",
    "        else:\n",
    "            print(f\"{self.get_info()}: Engine is already off.\")\n",
    "\n",
    "class Motorcycle(Vehicle):\n",
    "    def start(self):\n",
    "        if not self.engine_started:\n",
    "            print(f\"{self.get_info()}: Motorcycle started.\")\n",
    "            self.engine_started = True\n",
    "        else:\n",
    "            print(f\"{self.get_info()}: Motorcycle is already running.\")\n",
    "\n",
    "    def stop(self):\n",
    "        if self.engine_started:\n",
    "            print(f\"{self.get_info()}: Motorcycle stopped.\")\n",
    "            self.engine_started = False\n",
    "        else:\n",
    "            print(f\"{self.get_info()}: Motorcycle is already off.\")\n",
    "\n",
    "# Usage\n",
    "car = Car(brand=\"Toyota\", model=\"Camry\")\n",
    "motorcycle = Motorcycle(brand=\"Harley-Davidson\", model=\"Sportster\")\n",
    "\n",
    "# Calling common methods on different vehicle objects\n",
    "car.start()\n",
    "car.stop()\n",
    "\n",
    "motorcycle.start()\n",
    "motorcycle.stop()\n"
   ]
  },
  {
   "cell_type": "markdown",
   "metadata": {},
   "source": [
    "In Python, abstract properties can be used to define properties in abstract base classes (ABCs) without providing their implementation. Abstract properties serve a similar purpose to abstract methods, allowing you to declare a property in an abstract class that must be implemented by any concrete subclass. They are defined using the @property decorator along with the @abstractmethod decorator.\n"
   ]
  },
  {
   "cell_type": "code",
   "execution_count": 63,
   "metadata": {},
   "outputs": [
    {
     "name": "stdout",
     "output_type": "stream",
     "text": [
      "Circle Area: 78.5\n",
      "Rectangle Area: 24\n"
     ]
    }
   ],
   "source": [
    "from abc import ABC, abstractmethod\n",
    "\n",
    "# Abstract base class with an abstract property\n",
    "class Shape(ABC):\n",
    "    @property\n",
    "    @abstractmethod\n",
    "    def area(self):\n",
    "        pass\n",
    "\n",
    "# Concrete class Circle implementing the Shape abstract class\n",
    "class Circle(Shape):\n",
    "    def __init__(self, radius):\n",
    "        self._radius = radius\n",
    "\n",
    "    @property\n",
    "    def area(self):\n",
    "        return 3.14 * self._radius**2\n",
    "\n",
    "# Concrete class Rectangle implementing the Shape abstract class\n",
    "class Rectangle(Shape):\n",
    "    def __init__(self, length, width):\n",
    "        self._length = length\n",
    "        self._width = width\n",
    "\n",
    "    @property\n",
    "    def area(self):\n",
    "        return self._length * self._width\n",
    "\n",
    "# Usage\n",
    "circle = Circle(radius=5)\n",
    "rectangle = Rectangle(length=4, width=6)\n",
    "\n",
    "# Calling the abstract property on different shape objects\n",
    "print(f\"Circle Area: {circle.area}\")\n",
    "print(f\"Rectangle Area: {rectangle.area}\")\n"
   ]
  },
  {
   "cell_type": "code",
   "execution_count": 64,
   "metadata": {},
   "outputs": [
    {
     "name": "stdout",
     "output_type": "stream",
     "text": [
      "John Doe's Salary: $75000\n",
      "Alice Smith's Salary: $50000\n",
      "Bob Johnson's Salary: $60000\n"
     ]
    }
   ],
   "source": [
    "from abc import ABC, abstractmethod\n",
    "\n",
    "# Abstract base class for employees\n",
    "class Employee(ABC):\n",
    "    def __init__(self, name, employee_id):\n",
    "        self.name = name\n",
    "        self.employee_id = employee_id\n",
    "\n",
    "    @abstractmethod\n",
    "    def get_salary(self):\n",
    "        pass\n",
    "\n",
    "# Concrete class for a manager\n",
    "class Manager(Employee):\n",
    "    def __init__(self, name, employee_id, base_salary, bonus):\n",
    "        super().__init__(name, employee_id)\n",
    "        self.base_salary = base_salary\n",
    "        self.bonus = bonus\n",
    "\n",
    "    def get_salary(self):\n",
    "        return self.base_salary + self.bonus\n",
    "\n",
    "# Concrete class for a developer\n",
    "class Developer(Employee):\n",
    "    def __init__(self, name, employee_id, base_salary, coding_languages):\n",
    "        super().__init__(name, employee_id)\n",
    "        self.base_salary = base_salary\n",
    "        self.coding_languages = coding_languages\n",
    "\n",
    "    def get_salary(self):\n",
    "        return self.base_salary\n",
    "\n",
    "# Concrete class for a designer\n",
    "class Designer(Employee):\n",
    "    def __init__(self, name, employee_id, base_salary, projects_completed):\n",
    "        super().__init__(name, employee_id)\n",
    "        self.base_salary = base_salary\n",
    "        self.projects_completed = projects_completed\n",
    "\n",
    "    def get_salary(self):\n",
    "        return self.base_salary + self.projects_completed * 1000  # Additional bonus for completed projects\n",
    "\n",
    "# Usage\n",
    "manager = Manager(name=\"John Doe\", employee_id=\"M123\", base_salary=60000, bonus=15000)\n",
    "developer = Developer(name=\"Alice Smith\", employee_id=\"D456\", base_salary=50000, coding_languages=[\"Python\", \"JavaScript\"])\n",
    "designer = Designer(name=\"Bob Johnson\", employee_id=\"DS789\", base_salary=55000, projects_completed=5)\n",
    "\n",
    "# Calling the common method on different employee objects\n",
    "print(f\"{manager.name}'s Salary: ${manager.get_salary()}\")\n",
    "print(f\"{developer.name}'s Salary: ${developer.get_salary()}\")\n",
    "print(f\"{designer.name}'s Salary: ${designer.get_salary()}\")\n"
   ]
  },
  {
   "cell_type": "markdown",
   "metadata": {},
   "source": [
    "Purpose:\n",
    "Abstract classes are meant to be base classes that provide a common interface for a group of related classes.\n",
    "They often include one or more abstract methods (methods without implementation) that must be implemented by concrete subclasses.\n",
    "Instantiation:\n",
    "\n",
    "Abstract classes cannot be instantiated directly. You cannot create an object of an abstract class using obj = AbstractClass().\n",
    "They are designed to be subclassed, and their primary purpose is to serve as a blueprint for creating concrete subclasses.\n",
    "Abstract Methods:\n",
    "\n",
    "Abstract classes may contain abstract methods, which are declared with the @abstractmethod decorator.\n",
    "Subclasses are required to provide concrete implementations for these abstract methods."
   ]
  },
  {
   "cell_type": "code",
   "execution_count": 65,
   "metadata": {},
   "outputs": [],
   "source": [
    "from abc import ABC, abstractmethod\n",
    "\n",
    "class AbstractClass(ABC):\n",
    "    @abstractmethod\n",
    "    def abstract_method(self):\n",
    "        pass"
   ]
  },
  {
   "cell_type": "markdown",
   "metadata": {},
   "source": [
    "Concrete Classes:\n",
    "Purpose:\n",
    "Concrete classes are meant to be instantiated directly, providing specific implementations for the methods declared in the abstract base classes or providing additional functionality.\n",
    "Instantiation:\n",
    "\n",
    "Concrete classes can be instantiated using their constructors: obj = ConcreteClass().\n",
    "They provide implementations for all methods declared in their base classes (abstract or concrete) and may introduce new methods or attributes.\n",
    "Implementation:\n",
    "\n",
    "Concrete classes provide specific functionality and implementation details for the methods declared in the abstract base class.\n",
    "They may or may not override all abstract methods from their base class."
   ]
  },
  {
   "cell_type": "code",
   "execution_count": 66,
   "metadata": {},
   "outputs": [],
   "source": [
    "class ConcreteClass(AbstractClass):\n",
    "    def abstract_method(self):\n",
    "        print(\"Concrete implementation of abstract_method\")\n",
    "\n",
    "    def additional_method(self):\n",
    "        print(\"Additional method in ConcreteClass\")"
   ]
  },
  {
   "cell_type": "markdown",
   "metadata": {},
   "source": [
    "\n",
    "Abstract Data Types (ADTs) are a concept in computer science that represent a high-level description of a set of data and the operations that can be performed on that data. ADTs focus on the behavior of data rather than the specific implementation details.\n",
    "In this example, Stack is an abstract data type. Users of the Stack ADT don't need to know how the stack is implemented internally; they only need to understand the methods provided by the ADT (push, pop, is_empty, size)"
   ]
  },
  {
   "cell_type": "code",
   "execution_count": 67,
   "metadata": {},
   "outputs": [],
   "source": [
    "class Stack:\n",
    "    def __init__(self):\n",
    "        self.items = []\n",
    "\n",
    "    def push(self, item):\n",
    "        self.items.append(item)\n",
    "\n",
    "    def pop(self):\n",
    "        if not self.is_empty():\n",
    "            return self.items.pop()\n",
    "        else:\n",
    "            raise IndexError(\"pop from an empty stack\")\n",
    "\n",
    "    def is_empty(self):\n",
    "        return len(self.items) == 0\n",
    "\n",
    "    def size(self):\n",
    "        return len(self.items)"
   ]
  },
  {
   "cell_type": "code",
   "execution_count": 73,
   "metadata": {},
   "outputs": [
    {
     "name": "stdout",
     "output_type": "stream",
     "text": [
      "del L88: Powering on the desktop computer.\n",
      "del L88: Shutting down the desktop computer.\n"
     ]
    },
    {
     "data": {
      "text/plain": [
       "'del L88'"
      ]
     },
     "execution_count": 73,
     "metadata": {},
     "output_type": "execute_result"
    }
   ],
   "source": [
    "from abc import ABC, abstractmethod\n",
    "\n",
    "# Abstract base class for a computer system\n",
    "class ComputerSystem(ABC):\n",
    "    def __init__(self, brand, model):\n",
    "        self.brand = brand\n",
    "        self.model = model\n",
    "        self.powered_on = False\n",
    "\n",
    "    @abstractmethod\n",
    "    def power_on(self):\n",
    "        pass\n",
    "\n",
    "    @abstractmethod\n",
    "    def shutdown(self):\n",
    "        pass\n",
    "\n",
    "    def get_info(self):\n",
    "        return f\"{self.brand} {self.model}\"\n",
    "\n",
    "# Concrete class for a desktop computer\n",
    "class Desktop(ComputerSystem):\n",
    "    def power_on(self):\n",
    "        if not self.powered_on:\n",
    "            print(f\"{self.get_info()}: Powering on the desktop computer.\")\n",
    "            self.powered_on = True\n",
    "        else:\n",
    "            print(f\"{self.get_info()}: Desktop computer is already powered on.\")\n",
    "\n",
    "    def shutdown(self):\n",
    "        if self.powered_on:\n",
    "            print(f\"{self.get_info()}: Shutting down the desktop computer.\")\n",
    "            self.powered_on = False\n",
    "        else:\n",
    "            print(f\"{self.get_info()}: Desktop computer is already powered off.\")\n",
    "des=Desktop('del','L88')\n",
    "des.power_on()\n",
    "des.shutdown()\n",
    "des.get_info()"
   ]
  },
  {
   "cell_type": "markdown",
   "metadata": {},
   "source": [
    "Modularity and Component Reusability:\n",
    "\n",
    "Abstraction promotes modularity by breaking down a system into smaller, independent components or modules.\n",
    "Well-defined interfaces through abstraction allow these modules to be reused across different parts of the project or even in different projects, reducing redundancy and enhancing maintainability.\n",
    "Encapsulation and Information Hiding:\n",
    "\n",
    "Abstraction enables encapsulation, where the internal details of a module or component are hidden from the rest of the system.\n",
    "Information hiding helps manage complexity by exposing only the essential features and behaviors of a component, reducing the cognitive load on developers and making it easier to reason about the system.\n",
    "Separation of Concerns:\n",
    "\n",
    "Abstraction facilitates the separation of concerns by allowing developers to focus on specific aspects of the system without being overwhelmed by the entire codebase.\n",
    "Different teams or individuals can work on isolated components, leading to parallel development and efficient collaboration.\n",
    "Code Maintainability:\n",
    "\n",
    "Abstraction promotes code maintainability by creating well-organized, structured code.\n",
    "Changes to the implementation of a module can be made without affecting other parts of the system as long as the external interface (abstraction) remains unchanged, reducing the risk of introducing unintended side effects.\n",
    "Adaptability and Extensibility:\n",
    "\n",
    "Abstraction provides a flexible foundation for adapting to changing requirements and adding new features.\n",
    "Components designed with abstraction in mind can be extended or replaced without affecting the overall system, making it easier to evolve the software over time.\n",
    "Ease of Testing and Debugging:\n",
    "\n",
    "Abstraction simplifies testing and debugging processes by allowing developers to focus on testing individual components in isolation.\n",
    "Unit testing becomes more straightforward when components are designed with clear interfaces and abstraction, as it enables targeted testing of specific functionalities."
   ]
  },
  {
   "cell_type": "code",
   "execution_count": 76,
   "metadata": {},
   "outputs": [
    {
     "name": "stdout",
     "output_type": "stream",
     "text": [
      "Book added to the library: The Great Gatsby by F. Scott Fitzgerald - Status: Available\n",
      "Book added to the library: To Kill a Mockingbird by Harper Lee - Status: Available\n",
      "Book borrowed: The Great Gatsby by F. Scott Fitzgerald - Status: Available\n",
      "Book returned: The Great Gatsby by F. Scott Fitzgerald - Status: Borrowed\n"
     ]
    }
   ],
   "source": [
    "from abc import ABC, abstractmethod\n",
    "\n",
    "class LibraryItem(ABC):\n",
    "    def __init__(self, title, author):\n",
    "        self.title = title\n",
    "        self.author = author\n",
    "        self.is_borrowed = False\n",
    "\n",
    "    @abstractmethod\n",
    "    def add_item(self):\n",
    "        pass\n",
    "\n",
    "    @abstractmethod\n",
    "    def borrow_item(self):\n",
    "        pass\n",
    "\n",
    "    @abstractmethod\n",
    "    def return_item(self):\n",
    "        pass\n",
    "\n",
    "    def display_info(self):\n",
    "        status = \"Borrowed\" if self.is_borrowed else \"Available\"\n",
    "        return f\"{self.title} by {self.author} - Status: {status}\"\n",
    "     \n",
    "# Concrete class for a book\n",
    "class Book(LibraryItem):\n",
    "    def add_item(self):\n",
    "        print(f\"Book added to the library: {self.display_info()}\")\n",
    "\n",
    "    def borrow_item(self):\n",
    "        if not self.is_borrowed:\n",
    "            print(f\"Book borrowed: {self.display_info()}\")\n",
    "            self.is_borrowed = True\n",
    "        else:\n",
    "            print(f\"Book is already borrowed.\")\n",
    "\n",
    "    def return_item(self):\n",
    "        if self.is_borrowed:\n",
    "            print(f\"Book returned: {self.display_info()}\")\n",
    "            self.is_borrowed = False\n",
    "        else:\n",
    "            print(f\"Book is not currently borrowed.\")\n",
    "\n",
    "book1 = Book(title=\"The Great Gatsby\", author=\"F. Scott Fitzgerald\")\n",
    "book2 = Book(title=\"To Kill a Mockingbird\", author=\"Harper Lee\")\n",
    "book1.add_item()\n",
    "book2.add_item()\n",
    "book1.borrow_item()\n",
    "book1.return_item()"
   ]
  },
  {
   "cell_type": "markdown",
   "metadata": {},
   "source": [
    "Method abstraction in Python is a concept related to polymorphism and encapsulation. It involves creating methods in a way that allows them to be implemented in different ways in various classes, providing a common interface while allowing different classes to define their own specific behaviors. This is closely tied to the principles of object-oriented programming, specifically polymorphism, which allows objects of different types to be treated as objects of a common base type.\n",
    "Common Interface:\n",
    "\n",
    "Method abstraction allows for the creation of a common interface by defining abstract methods in a base class.\n",
    "Subclasses provide specific implementations for these abstract methods, ensuring a shared interface across different classes.\n",
    "Flexibility and Adaptability:\n",
    "\n",
    "Polymorphism enables a single method name to be used to invoke different behaviors in different classes.\n",
    "Code that utilizes polymorphism can work with objects of different types, and the specific behavior is determined at runtime based on the actual type of the object.\n",
    "Dynamic Binding:\n",
    "\n",
    "In polymorphic scenarios, method calls are dynamically bound at runtime based on the actual type of the object.\n",
    "This dynamic binding allows for flexibility and adaptability, as the appropriate method implementation is selected based on the actual class of the object.\n"
   ]
  },
  {
   "cell_type": "markdown",
   "metadata": {},
   "source": [
    "# Composition:\n",
    "1. Explain the concept of composition in Python and how it is used to build complex objects from simpler ones.\n",
    "\n",
    "\n",
    "2. Describe the difference between composition and inheritance in object-oriented programming.\n",
    "\n",
    "\n",
    "3. Create a Python class called `Author` with attributes for name and birthdate. Then, create a `Book` class\n",
    "that contains an instance of `Author` as a composition. Provide an example of creating a `Book` object.\n",
    "\n",
    "\n",
    "4. Discuss the benefits of using composition over inheritance in Python, especially in terms of code flexibility\n",
    "and reusability.\n",
    "\n",
    "\n",
    "5. How can you implement composition in Python classes? Provide examples of using composition to create\n",
    "complex objects.\n",
    "\n",
    "\n",
    "6. Create a Python class hierarchy for a music player system, using composition to represent playlists and\n",
    "songs.\n",
    "\n",
    "\n",
    "7. Explain the concept of \"has-a\" relationships in composition and how it helps design software systems.\n",
    "\n",
    "\n",
    "8. Create a Python class for a computer system, using composition to represent components like CPU, RAM,\n",
    "and storage devices.\n",
    "\n",
    "\n",
    "9. Describe the concept of \"delegation\" in composition and how it simplifies the design of complex systems.\n",
    "\n",
    "\n",
    "10. Create a Python class for a car, using composition to represent components like the engine, wheels, and\n",
    "transmission.\n",
    "\n",
    "\n",
    "11. How can you encapsulate and hide the details of composed objects in Python classes to maintain\n",
    "abstraction?\n",
    "\n",
    "\n",
    "12. Create a Python class for a university course, using composition to represent students, instructors, and\n",
    "course materials.\n",
    "\n",
    "\n",
    "13. Discuss the challenges and drawbacks of composition, such as increased complexity and potential for\n",
    "tight coupling between objects.\n",
    "\n",
    "\n",
    "14. Create a Python class hierarchy for a restaurant system, using composition to represent menus, dishes,\n",
    "and ingredients.\n",
    "\n",
    "\n",
    "15. Explain how composition enhances code maintainability and modularity in Python programs.\n",
    "\n",
    "\n",
    "16. Create a Python class for a computer game character, using composition to represent attributes like\n",
    "weapons, armor, and inventory.\n",
    "\n",
    "\n",
    "17. Describe the concept of \"aggregation\" in composition and how it differs from simple composition.\n",
    "\n",
    "\n",
    "18. Create a Python class for a house, using composition to represent rooms, furniture, and appliances.\n",
    "\n",
    "\n",
    "19. How can you achieve flexibility in composed objects by allowing them to be replaced or modified\n",
    "dynamically at runtime?\n",
    "\n",
    "\n",
    "20. Create a Python class for a social media application, using composition to represent users, posts, and\n",
    "comments"
   ]
  },
  {
   "cell_type": "markdown",
   "metadata": {},
   "source": [
    "Composition:\n",
    "Composition in Python is a design principle in object-oriented programming (OOP) where a class is constructed using objects of other classes, rather than relying on inheritance. In other words, it involves creating relationships between classes by including instances of other classes within a class. Composition allows for building complex objects by combining simpler ones, promoting code reusability, flexibility, and modularity.\n",
    "\n",
    "Combining Simple Components:\n",
    "Composition allows developers to build complex objects by combining instances of simpler classes (components).\n",
    "Each component class represents a specific functionality or behavior, and these components are combined to create a more feature-rich and flexible object.\n",
    "\n",
    "\"Has-a\" Relationship:\n",
    "Composition establishes a \"has-a\" relationship between classes. For example, if a Car class has an Engine class and Wheel class as components, it is said to have a composition relationship with these classes."
   ]
  },
  {
   "cell_type": "markdown",
   "metadata": {},
   "source": [
    "Composition and inheritance are two fundamental concepts in object-oriented programming (OOP) that address how classes and objects are related to each other. While both are mechanisms for building relationships between classes, they have different approaches and implications. Let's explore the key differences between composition and inheritance:\n",
    "\n",
    "1. Relationship Type:\n",
    "Composition:\n",
    "\n",
    "Composition establishes a \"has-a\" relationship between classes. One class contains an instance of another class as a component or part.\n",
    "It emphasizes building objects by combining smaller, more modular components.\n",
    "Example: A Car has an Engine and Wheels.\n",
    "Inheritance:\n",
    "\n",
    "Inheritance establishes an \"is-a\" relationship between classes. A subclass inherits properties and behaviors from a superclass, forming a hierarchy.\n",
    "It emphasizes creating a new class based on an existing class, reusing and extending its functionality.\n",
    "Example: A SportsCar is a type of Car.\n",
    "\n",
    "2. Code Reusability:\n",
    "Composition:\n",
    "Composition promotes code reusability by creating smaller, self-contained classes (components) that can be combined in various ways.\n",
    "It allows for more flexibility in reusing components in different contexts.\n",
    "\n",
    "Inheritance:\n",
    "Inheritance promotes code reuse by allowing a subclass to inherit properties and behaviors from a superclass."
   ]
  },
  {
   "cell_type": "code",
   "execution_count": 86,
   "metadata": {},
   "outputs": [
    {
     "name": "stdout",
     "output_type": "stream",
     "text": [
      "Book: Python Programming, Genre: Programming\n",
      "Author: John Doe, Birthdate: January 1, 1980\n"
     ]
    }
   ],
   "source": [
    "class Author:\n",
    "    def __init__(self,name,birthdate):\n",
    "        self.name=name\n",
    "        self.birthdate=birthdate\n",
    "    def display_info(self):\n",
    "        return f\"Author: {self.name}, Birthdate: {self.birthdate}\"\n",
    "class Book:\n",
    "    def __init__(self, title, genre, author):\n",
    "        self.title = title\n",
    "        self.genre = genre\n",
    "        self.author = author  # Composition: Book has an Author\n",
    "    def display_info(self):\n",
    "        return f\"Book: {self.title}, Genre: {self.genre}\\n{self.author.display_info()}\"\n",
    "\n",
    "# Example of creating Author and Book objects\n",
    "author1 = Author(name=\"John Doe\", birthdate=\"January 1, 1980\")\n",
    "book1 = Book(title=\"Python Programming\", genre=\"Programming\", author=author1)\n",
    "\n",
    "# Displaying information\n",
    "print(book1.display_info())"
   ]
  },
  {
   "cell_type": "markdown",
   "metadata": {},
   "source": [
    "Using composition over inheritance in Python has several benefits, particularly in terms of code flexibility and reusability.\n",
    "\n",
    "1. Flexibility and Modularity:\n",
    "Composition:\n",
    "\n",
    "Allows you to build objects by combining smaller, more modular components.\n",
    "Provides flexibility in choosing and changing components dynamically at runtime.\n",
    "Allows for creating new combinations of components easily.\n",
    "Inheritance:\n",
    "\n",
    "Can lead to a more rigid class hierarchy, making it challenging to modify or replace components without affecting the entire hierarchy.\n",
    "2. Avoidance of the \"Diamond Problem\":\n",
    "Composition:\n",
    "\n",
    "Helps avoid the \"diamond problem,\" a situation in multiple inheritance where ambiguity arises when a class inherits from two classes that have a common ancestor.\n",
    "By using composition, you can include specific functionalities without creating deep inheritance hierarchies.\n",
    "Inheritance:\n",
    "\n",
    "Multiple inheritance can lead to complexity and potential conflicts, especially when the hierarchy is dee"
   ]
  },
  {
   "cell_type": "code",
   "execution_count": 88,
   "metadata": {},
   "outputs": [
    {
     "name": "stdout",
     "output_type": "stream",
     "text": [
      "Toyota Camry is starting\n",
      "Engine started\n",
      "Toyota Camry is moving\n",
      "Wheel rotating\n",
      "Wheel rotating\n",
      "Toyota Camry is stopping\n",
      "Engine stopped\n"
     ]
    }
   ],
   "source": [
    "class Engine:\n",
    "    def start(self):\n",
    "        return \"Engine started\"\n",
    "\n",
    "    def stop(self):\n",
    "        return \"Engine stopped\"\n",
    "\n",
    "class Wheel:\n",
    "    def rotate(self):\n",
    "        return \"Wheel rotating\"\n",
    "\n",
    "class Car:\n",
    "    def __init__(self, make, model):\n",
    "        self.make = make\n",
    "        self.model = model\n",
    "        self.engine = Engine()  # Composition: Car has an Engine\n",
    "        self.front_left_wheel = Wheel()  # Composition: Car has a Wheel\n",
    "        self.front_right_wheel = Wheel()  # Composition: Car has a Wheel\n",
    "\n",
    "    def start(self):\n",
    "        return f\"{self.make} {self.model} is starting\\n{self.engine.start()}\"\n",
    "\n",
    "    def stop(self):\n",
    "        return f\"{self.make} {self.model} is stopping\\n{self.engine.stop()}\"\n",
    "\n",
    "    def drive(self):\n",
    "        return f\"{self.make} {self.model} is moving\\n{self.front_left_wheel.rotate()}\\n{self.front_right_wheel.rotate()}\"\n",
    "\n",
    "# Example of using composition to create a complex object\n",
    "my_car = Car(make=\"Toyota\", model=\"Camry\")\n",
    "\n",
    "# Performing actions\n",
    "print(my_car.start())\n",
    "print(my_car.drive())\n",
    "print(my_car.stop())\n"
   ]
  },
  {
   "cell_type": "code",
   "execution_count": 89,
   "metadata": {},
   "outputs": [
    {
     "name": "stdout",
     "output_type": "stream",
     "text": [
      "All Playlists:\n",
      "Playlist: Pop Hits\n",
      "1. Shape of You - Ed Sheeran\n",
      "2. Believer - Imagine Dragons\n",
      "\n",
      "Playlist: Soulful Songs\n",
      "1. Rolling in the Deep - Adele\n"
     ]
    }
   ],
   "source": [
    "class Song:\n",
    "    def __init__(self, title, artist, duration):\n",
    "        self.title = title\n",
    "        self.artist = artist\n",
    "        self.duration = duration\n",
    "\n",
    "    def play(self):\n",
    "        return f\"Now playing: {self.title} by {self.artist}\"\n",
    "\n",
    "class Playlist:\n",
    "    def __init__(self, name):\n",
    "        self.name = name\n",
    "        self.songs = []  # Composition: Playlist has a list of Song objects\n",
    "\n",
    "    def add_song(self, song):\n",
    "        self.songs.append(song)\n",
    "\n",
    "    def play(self):\n",
    "        playlist_info = f\"Playlist: {self.name}\\n\"\n",
    "        songs_info = \"\\n\".join([f\"{i + 1}. {song.title} - {song.artist}\" for i, song in enumerate(self.songs)])\n",
    "        return f\"{playlist_info}{songs_info}\"\n",
    "\n",
    "class MusicPlayer:\n",
    "    def __init__(self):\n",
    "        self.playlists = []  # Composition: MusicPlayer has a list of Playlist objects\n",
    "\n",
    "    def add_playlist(self, playlist):\n",
    "        self.playlists.append(playlist)\n",
    "\n",
    "    def play_all(self):\n",
    "        all_playlists_info = \"\\n\\n\".join([playlist.play() for playlist in self.playlists])\n",
    "        return f\"All Playlists:\\n{all_playlists_info}\"\n",
    "\n",
    "# Example of creating a music player system using composition\n",
    "song1 = Song(title=\"Shape of You\", artist=\"Ed Sheeran\", duration=\"4:23\")\n",
    "song2 = Song(title=\"Believer\", artist=\"Imagine Dragons\", duration=\"3:24\")\n",
    "song3 = Song(title=\"Rolling in the Deep\", artist=\"Adele\", duration=\"3:49\")\n",
    "\n",
    "playlist1 = Playlist(name=\"Pop Hits\")\n",
    "playlist1.add_song(song1)\n",
    "playlist1.add_song(song2)\n",
    "\n",
    "playlist2 = Playlist(name=\"Soulful Songs\")\n",
    "playlist2.add_song(song3)\n",
    "\n",
    "music_player = MusicPlayer()\n",
    "music_player.add_playlist(playlist1)\n",
    "music_player.add_playlist(playlist2)\n",
    "\n",
    "# Displaying information\n",
    "print(music_player.play_all())\n"
   ]
  },
  {
   "cell_type": "markdown",
   "metadata": {},
   "source": [
    "Benefits of \"Has-a\" Relationships in Composition:\n",
    "Code Organization: \"Has-a\" relationships help organize code by breaking it into smaller, manageable components, leading to a modular and structured design.\n",
    "\n",
    "Code Reusability: Components can be reused across different classes, promoting a more efficient use of code.\n",
    "\n",
    "Maintainability: Changes to one class or component do not necessarily impact other classes, making the codebase easier to maintain.\n",
    "\n",
    "Scalability: Systems designed with \"has-a\" relationships can be easily extended by adding or replacing components.\n",
    "\n",
    "Composition:\n",
    "Composition is a design principle where complex objects are built by combining simpler, more modular components.\n",
    "It allows for creating relationships between classes by including instances of other classes within a class.\n",
    "\"Has-a\" Relationship:\n",
    "\n",
    "In a \"has-a\" relationship, a class A \"has-a\" class B, indicating that objects of class A contain or are composed of objects of class B.\n",
    "For example, a Car class may \"have-a\" Engine class, or a Library class may \"have-a\" Book class."
   ]
  },
  {
   "cell_type": "code",
   "execution_count": 90,
   "metadata": {},
   "outputs": [
    {
     "name": "stdout",
     "output_type": "stream",
     "text": [
      "CPU is processing data\n",
      "RAM is storing data\n",
      "Executing a program\n",
      "Storage device is reading data\n",
      "Accessing data from storage\n",
      "Storage device is writing data\n",
      "Storing data to storage\n"
     ]
    }
   ],
   "source": [
    "class CPU:\n",
    "    def __init__(self, brand, model, speed):\n",
    "        self.brand = brand\n",
    "        self.model = model\n",
    "        self.speed = speed\n",
    "\n",
    "    def process_data(self):\n",
    "        return \"CPU is processing data\"\n",
    "\n",
    "class RAM:\n",
    "    def __init__(self, capacity, speed):\n",
    "        self.capacity = capacity\n",
    "        self.speed = speed\n",
    "\n",
    "    def store_data(self):\n",
    "        return \"RAM is storing data\"\n",
    "\n",
    "class StorageDevice:\n",
    "    def __init__(self, type, capacity):\n",
    "        self.type = type\n",
    "        self.capacity = capacity\n",
    "\n",
    "    def read_data(self):\n",
    "        return \"Storage device is reading data\"\n",
    "\n",
    "    def write_data(self):\n",
    "        return \"Storage device is writing data\"\n",
    "\n",
    "class ComputerSystem:\n",
    "    def __init__(self, cpu, ram, storage):\n",
    "        self.cpu = cpu  # Composition: ComputerSystem has a CPU\n",
    "        self.ram = ram  # Composition: ComputerSystem has a RAM\n",
    "        self.storage = storage  # Composition: ComputerSystem has a StorageDevice\n",
    "\n",
    "    def execute_program(self):\n",
    "        return f\"{self.cpu.process_data()}\\n{self.ram.store_data()}\\nExecuting a program\"\n",
    "\n",
    "    def access_data(self):\n",
    "        return f\"{self.storage.read_data()}\\nAccessing data from storage\"\n",
    "\n",
    "    def store_data(self):\n",
    "        return f\"{self.storage.write_data()}\\nStoring data to storage\"\n",
    "\n",
    "# Example of creating a computer system using composition\n",
    "my_cpu = CPU(brand=\"Intel\", model=\"i7\", speed=\"3.2 GHz\")\n",
    "my_ram = RAM(capacity=\"8 GB\", speed=\"2400 MHz\")\n",
    "my_storage = StorageDevice(type=\"SSD\", capacity=\"512 GB\")\n",
    "\n",
    "my_computer = ComputerSystem(cpu=my_cpu, ram=my_ram, storage=my_storage)\n",
    "\n",
    "# Performing actions\n",
    "print(my_computer.execute_program())\n",
    "print(my_computer.access_data())\n",
    "print(my_computer.store_data())"
   ]
  },
  {
   "cell_type": "code",
   "execution_count": null,
   "metadata": {},
   "outputs": [],
   "source": [
    "class Engine:\n",
    "    def start(self):\n",
    "        return \"engine started\"\n",
    "    def stop(self):\n",
    "        return \"engine stopped\"\n",
    "class Wheel:\n",
    "    def rotate(self):\n",
    "        return \"wheel is rotating\"\n",
    "class Car:\n",
    "    def __init__(self,name,model):\n",
    "        self.name=name\n",
    "        self.model=model\n",
    "        self.engine=Engine()\n",
    "        self.left_wheel=self.Wheel()\n",
    "        self.right_wheel=self.Wheel()\n",
    "    def start(self):\n",
    "        return f\"{self.name},{self.model}\\n {self.engine.start()}\"\n",
    "    def stop(self):\n",
    "        return f\"{self.name},{self.model}\\n {self.engine.stop()}\"\n"
   ]
  },
  {
   "cell_type": "markdown",
   "metadata": {},
   "source": [
    " '''How can you encapsulate and hide the details of composed objects in Python classes to maintain\n",
    "abstraction?'''\n",
    "    Private Attributes:\n",
    "Use private attributes by prefixing them with double underscores. This convention indicates that the attribute should not be accessed directly from outside the class.\n",
    "    Private Methods:\n",
    "Similarly, use private methods to hide internal implementation details. Private methods are prefixed with double underscores.\n",
    "   Property Decorators:\n",
    "Use property decorators to create getter and setter methods in a more Pythonic way. This allows you to use attribute access syntax while controlling access to the attribute."
   ]
  },
  {
   "cell_type": "code",
   "execution_count": 98,
   "metadata": {},
   "outputs": [
    {
     "data": {
      "text/plain": [
       "'engine started'"
      ]
     },
     "execution_count": 98,
     "metadata": {},
     "output_type": "execute_result"
    }
   ],
   "source": [
    "class Engine:\n",
    "    def start(self):\n",
    "        return \"engine started\"\n",
    "    def stop(self):\n",
    "        return \"engine stopped\"\n",
    "class Car:\n",
    "    def __init__(self,name,model):\n",
    "        self.__name=name\n",
    "        self.model=model\n",
    "        self.__engine=Engine()\n",
    "    def __start_engine(self):  # Private method\n",
    "        return self.__engine.start()\n",
    "    def display_info(self):\n",
    "        #return f\"{self.__name}\"\n",
    "        return f\"{self.__start_engine()}\"\n",
    "o=Car(name=\"toyoto\",model=\"gtsg4\")   \n",
    "o.display_info()   \n",
    "        "
   ]
  },
  {
   "cell_type": "code",
   "execution_count": 110,
   "metadata": {},
   "outputs": [],
   "source": [
    "class Engine:\n",
    "    def start(self):\n",
    "        return \"engine started\"\n",
    "    def stop(self):\n",
    "        return \"engine stopped\"\n",
    "class Car:\n",
    "    def __init__(self):\n",
    "        self._engine = Engine()  # Protected attribute\n",
    "\n",
    "    @property\n",
    "    def engine(self):\n",
    "        return self._engine.start()\n",
    "\n",
    "    @engine.setter\n",
    "    def engine(self, new_engine):\n",
    "        if isinstance(new_engine, Engine):\n",
    "            self._engine = new_engine\n",
    "\n",
    "my_car = Car()\n",
    "new_engine = Engine()\n",
    "my_car.engine = new_engine  # Using the property setter"
   ]
  },
  {
   "cell_type": "code",
   "execution_count": 112,
   "metadata": {},
   "outputs": [
    {
     "name": "stdout",
     "output_type": "stream",
     "text": [
      "Course Title: Mathematics 101\n",
      "Course Code: MATH101\n",
      "Instructor: Dr. Smith\n",
      "Students: vanitha, vinay\n",
      "Course Material: Algebra Basics\n"
     ]
    }
   ],
   "source": [
    "class Student:\n",
    "    def __init__(self, student_id, name):\n",
    "        self.student_id = student_id\n",
    "        self.name = name\n",
    "\n",
    "    def enroll(self, course):\n",
    "        course.add_student(self)\n",
    "        return f\"{self.name} is enrolled in {course.title}\"\n",
    "\n",
    "class Instructor:\n",
    "    def __init__(self, instructor_id, name):\n",
    "        self.instructor_id = instructor_id\n",
    "        self.name = name\n",
    "\n",
    "    def assign_course(self, course):\n",
    "        course.assign_instructor(self)\n",
    "        return f\"{self.name} is assigned as the instructor for {course.title}\"\n",
    "\n",
    "class CourseMaterial:\n",
    "    def __init__(self, title, content):\n",
    "        self.title = title\n",
    "        self.content = content\n",
    "\n",
    "class UniversityCourse:\n",
    "    def __init__(self, title, code):\n",
    "        self.title = title\n",
    "        self.code = code\n",
    "        self.students = []  # Composition: UniversityCourse has a list of Student objects\n",
    "        self.instructor = None  # Composition: UniversityCourse has an Instructor object\n",
    "        self.course_material = None  # Composition: UniversityCourse has a CourseMaterial object\n",
    "\n",
    "    def add_student(self, student):\n",
    "        self.students.append(student)\n",
    "\n",
    "    def assign_instructor(self, instructor):\n",
    "        self.instructor = instructor\n",
    "\n",
    "    def set_course_material(self, title, content):\n",
    "        self.course_material = CourseMaterial(title, content)\n",
    "\n",
    "    def display_course_info(self):\n",
    "        student_list = [student.name for student in self.students]\n",
    "        instructor_name = self.instructor.name if self.instructor else \"No instructor assigned\"\n",
    "        material_info = f\"Course Material: {self.course_material.title}\" if self.course_material else \"No course material available\"\n",
    "\n",
    "        return f\"Course Title: {self.title}\\nCourse Code: {self.code}\\nInstructor: {instructor_name}\\nStudents: {', '.join(student_list)}\\n{material_info}\"\n",
    "\n",
    "# Example of using the university course class with composition\n",
    "math_course = UniversityCourse(title=\"Mathematics 101\", code=\"MATH101\")\n",
    "\n",
    "student1 = Student(student_id=\"S001\", name=\"vanitha\")\n",
    "student2 = Student(student_id=\"S002\", name=\"vinay\")\n",
    "\n",
    "instructor = Instructor(instructor_id=\"I001\", name=\"Dr. Smith\")\n",
    "\n",
    "math_course.add_student(student1)\n",
    "math_course.add_student(student2)\n",
    "math_course.assign_instructor(instructor)\n",
    "math_course.set_course_material(title=\"Algebra Basics\", content=\"Introduction to basic algebra concepts.\")\n",
    "\n",
    "# Display course information\n",
    "print(math_course.display_course_info())\n"
   ]
  },
  {
   "cell_type": "markdown",
   "metadata": {},
   "source": [
    "Increased Complexity:\n",
    "As the number of composed objects increases, the overall complexity of the system can grow. Managing relationships between multiple objects may become more challenging, leading to intricate designs.\n",
    "Dependency Management:\n",
    "\n",
    "Composed objects may have dependencies on each other, and managing these dependencies can become complex. Changes in one component may affect other components, leading to potential cascading changes.\n",
    "Boilerplate Code:\n",
    "\n",
    "When using composition, there might be a need for additional boilerplate code to delegate method calls or manage interactions between composed objects. This can result in more verbose code.\n",
    "Potential for Tight Coupling:\n",
    "\n",
    "While composition aims to reduce tight coupling compared to inheritance, it may still introduce dependencies between objects. If one class relies heavily on the internal details of another, changes in one class can have a significant impact on the other."
   ]
  },
  {
   "cell_type": "code",
   "execution_count": 114,
   "metadata": {},
   "outputs": [
    {
     "name": "stdout",
     "output_type": "stream",
     "text": [
      "Lunch Menu - Delicious options for lunch\n",
      "\n",
      "Margherita Pizza - Classic Margherita pizza with tomato and cheese\n",
      "Ingredients: 2 pieces of Tomato, 150 grams of Cheese\n",
      "Price: $12.99\n",
      "\n",
      "Grilled Cheese Sandwich - Toasted bread with melted cheese\n",
      "Ingredients: 150 grams of Cheese, 2 slices of Bread\n",
      "Price: $7.99\n"
     ]
    }
   ],
   "source": [
    "class Ingredient:\n",
    "    def __init__(self, name, quantity, unit):\n",
    "        self.name = name\n",
    "        self.quantity = quantity\n",
    "        self.unit = unit\n",
    "\n",
    "class Dish:\n",
    "    def __init__(self, name, description, price, ingredients):\n",
    "        self.name = name\n",
    "        self.description = description\n",
    "        self.price = price\n",
    "        self.ingredients = ingredients  # Composition: Dish has a list of Ingredient objects\n",
    "\n",
    "    def display_dish_info(self):\n",
    "        ingredient_list = [f\"{ingredient.quantity} {ingredient.unit} of {ingredient.name}\" for ingredient in self.ingredients]\n",
    "        return f\"{self.name} - {self.description}\\nIngredients: {', '.join(ingredient_list)}\\nPrice: ${self.price:.2f}\"\n",
    "\n",
    "class Menu:\n",
    "    def __init__(self, name, description, dishes):\n",
    "        self.name = name\n",
    "        self.description = description\n",
    "        self.dishes = dishes  # Composition: Menu has a list of Dish objects\n",
    "\n",
    "    def display_menu_info(self):\n",
    "        dish_info_list = [dish.display_dish_info() for dish in self.dishes]\n",
    "        return f\"{self.name} - {self.description}\\n\\n\" + \"\\n\\n\".join(dish_info_list)\n",
    "\n",
    "# Example of using the restaurant system class hierarchy with composition\n",
    "ingredient1 = Ingredient(name=\"Tomato\", quantity=2, unit=\"pieces\")\n",
    "ingredient2 = Ingredient(name=\"Cheese\", quantity=150, unit=\"grams\")\n",
    "ingredient3 = Ingredient(name=\"Bread\", quantity=2, unit=\"slices\")\n",
    "\n",
    "dish1 = Dish(name=\"Margherita Pizza\", description=\"Classic Margherita pizza with tomato and cheese\", price=12.99, ingredients=[ingredient1, ingredient2])\n",
    "dish2 = Dish(name=\"Grilled Cheese Sandwich\", description=\"Toasted bread with melted cheese\", price=7.99, ingredients=[ingredient2, ingredient3])\n",
    "\n",
    "menu = Menu(name=\"Lunch Menu\", description=\"Delicious options for lunch\", dishes=[dish1, dish2])\n",
    "\n",
    "# Displaying restaurant information\n",
    "print(menu.display_menu_info())\n"
   ]
  },
  {
   "cell_type": "markdown",
   "metadata": {},
   "source": [
    "Composition enhances code maintainability and modularity in Python programs by promoting a design approach where smaller, independent components are combined to create more complex systems. This design philosophy provides several benefits:\n",
    "\n",
    "Modularity:\n",
    "\n",
    "Composition encourages breaking down a system into smaller, self-contained modules or components. Each class represents a specific feature or functionality, making the codebase modular and easier to understand.\n",
    "Reusability:\n",
    "\n",
    "With composition, individual components can be reused in different parts of the system or even in different projects. This is because each class represents a well-defined piece of functionality that can be employed wherever needed.\n",
    "Easy Maintenance:\n",
    "\n",
    "Changes or updates to one component typically have minimal impact on other components, reducing the likelihood of unintended side effects. This makes it easier to maintain and update the codebase without disrupting the entire system.\n",
    "Clear Separation of Concerns:\n",
    "\n",
    "Each class in a composition-based design is responsible for a specific aspect of the system. This clear separation of concerns makes it easier for developers to understand and reason about each component individually, leading to better overall code comprehension.\n",
    "Flexibility and Extensibility:\n",
    "\n",
    "New features or functionalities can be added by introducing new classes without modifying existing ones. This approach allows for a more flexible and extensible system, making it easier to adapt to changing requirements or add enhancements.\n",
    "Reduced Code Duplication:\n",
    "\n",
    "Composition reduces the need for code duplication. Instead of creating monolithic classes that handle multiple responsibilities, specific functionalities are encapsulated in separate classes. This reduces redundancy and promotes a cleaner codebase.\n",
    "Encapsulation and Information Hiding:\n",
    "\n",
    "Composition enables encapsulation, where the internal details of a class are hidden from the outside world. This information hiding improves security and prevents unintended interference with the internal workings of a component.\n",
    "Testability:\n",
    "\n",
    "Smaller, modular components are typically easier to test in isolation. Unit testing becomes more straightforward when dealing with individual classes, allowing for more effective and targeted testing.\n",
    "Scalability:\n",
    "\n",
    "As the system grows, adding new functionality is easier with a composition-based design. New classes can be introduced to handle specific features without affecting the existing codebase, promoting a scalable architecture.\n",
    "Improved Collaboration:\n",
    "\n",
    "When different developers or teams work on different components, the modular nature of composition allows for parallel development with reduced conflicts. Teams can focus on specific areas of expertise without interfering with each other's work.\n"
   ]
  },
  {
   "cell_type": "code",
   "execution_count": 116,
   "metadata": {},
   "outputs": [
    {
     "name": "stdout",
     "output_type": "stream",
     "text": [
      "House at 123 Main St\n",
      "Living Room (Area: 300 sq. ft)\n",
      "Furniture: Sofa (Leather)\n",
      "Appliances: Refrigerator (Samsung)\n",
      "\n",
      "Bedroom (Area: 200 sq. ft)\n",
      "Furniture: Bed (Wood)\n",
      "Appliances: Table Lamp (IKEA)\n"
     ]
    }
   ],
   "source": [
    "class Furniture:\n",
    "    def __init__(self, name, material):\n",
    "        self.name = name\n",
    "        self.material = material\n",
    "\n",
    "class Appliance:\n",
    "    def __init__(self, name, brand):\n",
    "        self.name = name\n",
    "        self.brand = brand\n",
    "\n",
    "class Room:\n",
    "    def __init__(self, name, area):\n",
    "        self.name = name\n",
    "        self.area = area\n",
    "        self.furniture = []  # Aggregation: Room has a list of Furniture objects\n",
    "        self.appliances = []  # Aggregation: Room has a list of Appliance objects\n",
    "\n",
    "    def add_furniture(self, furniture):\n",
    "        self.furniture.append(furniture)\n",
    "\n",
    "    def add_appliance(self, appliance):\n",
    "        self.appliances.append(appliance)\n",
    "\n",
    "    def display_room_info(self):\n",
    "        furniture_info = \"Furniture: \" + \", \".join(f\"{item.name} ({item.material})\" for item in self.furniture) if self.furniture else \"No furniture\"\n",
    "        appliance_info = \"Appliances: \" + \", \".join(f\"{item.name} ({item.brand})\" for item in self.appliances) if self.appliances else \"No appliances\"\n",
    "\n",
    "        return f\"{self.name} (Area: {self.area} sq. ft)\\n{furniture_info}\\n{appliance_info}\"\n",
    "\n",
    "class House:\n",
    "    def __init__(self, address):\n",
    "        self.address = address\n",
    "        self.rooms = []  # Aggregation: House has a list of Room objects\n",
    "\n",
    "    def add_room(self, room):\n",
    "        self.rooms.append(room)\n",
    "\n",
    "    def display_house_info(self):\n",
    "        room_info_list = [room.display_room_info() for room in self.rooms]\n",
    "        return f\"House at {self.address}\\n\" + \"\\n\\n\".join(room_info_list)\n",
    "\n",
    "# Example of using the house class with composition\n",
    "sofa = Furniture(name=\"Sofa\", material=\"Leather\")\n",
    "fridge = Appliance(name=\"Refrigerator\", brand=\"Samsung\")\n",
    "\n",
    "living_room = Room(name=\"Living Room\", area=300)\n",
    "living_room.add_furniture(sofa)\n",
    "living_room.add_appliance(fridge)\n",
    "\n",
    "bed = Furniture(name=\"Bed\", material=\"Wood\")\n",
    "lamp = Appliance(name=\"Table Lamp\", brand=\"IKEA\")\n",
    "\n",
    "bedroom = Room(name=\"Bedroom\", area=200)\n",
    "bedroom.add_furniture(bed)\n",
    "bedroom.add_appliance(lamp)\n",
    "\n",
    "my_house = House(address=\"123 Main St\")\n",
    "my_house.add_room(living_room)\n",
    "my_house.add_room(bedroom)\n",
    "\n",
    "# Displaying house information\n",
    "print(my_house.display_house_info())\n"
   ]
  },
  {
   "cell_type": "code",
   "execution_count": 118,
   "metadata": {},
   "outputs": [
    {
     "name": "stdout",
     "output_type": "stream",
     "text": [
      "vanitha (vani@example.com)\n",
      "Posts: Hello, world!\n",
      "Comments: I totally agree, Bob...\n",
      "vinay (vinay@example.com)\n",
      "Posts: Python is amazing!\n",
      "Comments: Nice post, Alice!\n"
     ]
    }
   ],
   "source": [
    "class User:\n",
    "    def __init__(self, username, email):\n",
    "        self.username = username\n",
    "        self.email = email\n",
    "        self.posts = []  # Aggregation: User has a list of Post objects\n",
    "        self.comments = []  # Aggregation: User has a list of Comment objects\n",
    "\n",
    "    def create_post(self, content):\n",
    "        post = Post(content=content, author=self)\n",
    "        self.posts.append(post)\n",
    "        return post\n",
    "\n",
    "    def add_comment(self, post, content):\n",
    "        comment = Comment(content=content, author=self, post=post)\n",
    "        post.add_comment(comment)\n",
    "        self.comments.append(comment)\n",
    "\n",
    "    def display_user_info(self):\n",
    "        post_info = \"Posts: \" + \", \".join(post.content[:20] + \"...\" if len(post.content) > 20 else post.content for post in self.posts) if self.posts else \"No posts\"\n",
    "        comment_info = \"Comments: \" + \", \".join(comment.content[:20] + \"...\" if len(comment.content) > 20 else comment.content for comment in self.comments) if self.comments else \"No comments\"\n",
    "\n",
    "        return f\"{self.username} ({self.email})\\n{post_info}\\n{comment_info}\"\n",
    "\n",
    "class Post:\n",
    "    def __init__(self, content, author):\n",
    "        self.content = content\n",
    "        self.author = author\n",
    "        self.comments = []  # Aggregation: Post has a list of Comment objects\n",
    "\n",
    "    def add_comment(self, comment):\n",
    "        self.comments.append(comment)\n",
    "\n",
    "class Comment:\n",
    "    def __init__(self, content, author, post):\n",
    "        self.content = content\n",
    "        self.author = author\n",
    "        self.post = post\n",
    "\n",
    "# Example of using the social media application class hierarchy with composition\n",
    "user1 = User(username=\"vanitha\", email=\"vani@example.com\")\n",
    "user2 = User(username=\"vinay\", email=\"vinay@example.com\")\n",
    "\n",
    "post1 = user1.create_post(content=\"Hello, world!\")\n",
    "user2.add_comment(post=post1, content=\"Nice post, Alice!\")\n",
    "\n",
    "post2 = user2.create_post(content=\"Python is amazing!\")\n",
    "user1.add_comment(post=post2, content=\"I totally agree, Bob!\")\n",
    "\n",
    "# Displaying user information\n",
    "print(user1.display_user_info())\n",
    "print(user2.display_user_info())\n"
   ]
  },
  {
   "cell_type": "code",
   "execution_count": null,
   "metadata": {},
   "outputs": [],
   "source": []
  },
  {
   "cell_type": "code",
   "execution_count": null,
   "metadata": {},
   "outputs": [],
   "source": []
  }
 ],
 "metadata": {
  "kernelspec": {
   "display_name": "Python 3",
   "language": "python",
   "name": "python3"
  },
  "language_info": {
   "codemirror_mode": {
    "name": "ipython",
    "version": 3
   },
   "file_extension": ".py",
   "mimetype": "text/x-python",
   "name": "python",
   "nbconvert_exporter": "python",
   "pygments_lexer": "ipython3",
   "version": "3.7.3"
  }
 },
 "nbformat": 4,
 "nbformat_minor": 2
}
